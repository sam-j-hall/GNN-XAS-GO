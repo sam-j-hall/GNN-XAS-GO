{
 "cells": [
  {
   "cell_type": "code",
   "execution_count": 1,
   "metadata": {},
   "outputs": [],
   "source": [
    "import torch\n",
    "import torch_geometric\n",
    "from torch_geometric.loader import DataLoader\n",
    "import lightning as L\n",
    "# ---\n",
    "from GNN import GNN_model\n",
    "from dataset import XASDataset_mol"
   ]
  },
  {
   "cell_type": "code",
   "execution_count": 2,
   "metadata": {},
   "outputs": [
    {
     "name": "stdout",
     "output_type": "stream",
     "text": [
      "Pytorch version: 2.4.1+cpu\n",
      "PyG version: 2.5.3\n",
      "Lightning version: 2.4.0\n"
     ]
    }
   ],
   "source": [
    "print(f'Pytorch version: {torch.__version__}')\n",
    "print(f'PyG version: {torch_geometric.__version__}')\n",
    "print(f'Lightning version: {L.__version__}')"
   ]
  },
  {
   "cell_type": "code",
   "execution_count": 3,
   "metadata": {},
   "outputs": [
    {
     "name": "stderr",
     "output_type": "stream",
     "text": [
      "/tmp/ipykernel_78821/3185060675.py:4: FutureWarning: You are using `torch.load` with `weights_only=False` (the current default value), which uses the default pickle module implicitly. It is possible to construct malicious pickle data which will execute arbitrary code during unpickling (See https://github.com/pytorch/pytorch/blob/main/SECURITY.md#untrusted-models for more details). In a future release, the default value for `weights_only` will be flipped to `True`. This limits the functions that could be executed during unpickling. Arbitrary objects will no longer be allowed to be loaded via this mode unless they are explicitly allowlisted by the user via `torch.serialization.add_safe_globals`. We recommend you start setting `weights_only=True` for any use case where you don't have full control of the loaded file. Please open an issue on GitHub for any issues related to this experimental feature.\n",
      "  dataset = torch.load('./processed/cor_pyg.pt')\n"
     ]
    }
   ],
   "source": [
    "# --- Path raw directory containing the data\n",
    "path = \"./\"\n",
    "# --- Load and create the dataset\n",
    "dataset = torch.load('./processed/cor_pyg.pt')"
   ]
  },
  {
   "cell_type": "code",
   "execution_count": 4,
   "metadata": {},
   "outputs": [
    {
     "name": "stdout",
     "output_type": "stream",
     "text": [
      "XASDataset_mol(317)\n",
      "------------\n",
      "Number of graphs: 317\n",
      "Number of features: 6\n",
      "Number of classes: 0\n",
      "\n",
      "Data(x=[32, 6], edge_index=[2, 76], edge_attr=[76, 5], spectrum=[200], idx=[1], smiles='c12[c:2]3[c:1]([H:32])[c:25]([H:41])[c:24]4[c:22]1[c:17]1[c:19]([c:20]([H:39])[c:23]4[H:40])[C:18]([C:21](=[O:26])[O:27][H:42])=[C:16]([H:38])[C:15]4=[C:14]([H:37])[C:12]([H:36])=[C:11]5[C:9]([O:30][H:44])([C:4]2([H:47])[C:6]([O:31][H:46])([C:5]([C:8](=[O:28])[O:29][H:43])=[C:3]3[H:33])[C:7]([H:34])=[C:10]5[H:35])[C:13]41[H:45]')\n",
      "------------\n",
      "Number of nodes: 32\n",
      "Number of edges: 76\n",
      "Average node degree: 2.38\n",
      "Has isolated nodes: False\n",
      "Has self loops: False\n",
      "Is undirected: True\n"
     ]
    }
   ],
   "source": [
    "# --- Show detail of the dataset\n",
    "print(dataset)\n",
    "print('------------')\n",
    "print(f'Number of graphs: {len(dataset)}')\n",
    "print(f'Number of features: {dataset.num_features}')\n",
    "print(f'Number of classes: {dataset.num_classes}')\n",
    "print('')\n",
    "\n",
    "# --- Show details of the first molecule/graph in dataset\n",
    "data = dataset[0]\n",
    "\n",
    "print(data)\n",
    "print('------------')\n",
    "print(f'Number of nodes: {data.num_nodes}')\n",
    "print(f'Number of edges: {data.num_edges}')\n",
    "print(f'Average node degree: {data.num_edges / data.num_nodes:.2f}')\n",
    "print(f'Has isolated nodes: {data.has_isolated_nodes()}')\n",
    "print(f'Has self loops: {data.has_self_loops()}')\n",
    "print(f'Is undirected: {data.is_undirected()}')"
   ]
  },
  {
   "cell_type": "code",
   "execution_count": 5,
   "metadata": {},
   "outputs": [
    {
     "name": "stdout",
     "output_type": "stream",
     "text": [
      "Length of training data loader: 238, with a total of 1 datassets\n",
      "Length of validation data loader: 30, with a total of 1 datasets\n",
      "Length of testing data loader: 49, with a total of 1 datasets\n"
     ]
    }
   ],
   "source": [
    "# --- Split data into test, validation and test\n",
    "train_dataset = dataset[0:238]\n",
    "val_dataset = dataset[238:268]\n",
    "test_dataset = dataset[268:317]\n",
    "\n",
    "# --- Pass into dataloader\n",
    "train_loader = DataLoader(train_dataset, batch_size=238, shuffle=True)\n",
    "val_loader = DataLoader(val_dataset, batch_size=30, shuffle=False)\n",
    "test_loader = DataLoader(test_dataset, batch_size=49, shuffle=False)\n",
    "\n",
    "print(f'Length of training data loader: {len(train_loader.dataset)}, with a total of {len(train_loader)} datassets')\n",
    "print(f'Length of validation data loader: {len(val_loader.dataset)}, with a total of {len(val_loader)} datasets')\n",
    "print(f'Length of testing data loader: {len(test_loader.dataset)}, with a total of {len(test_loader)} datasets')"
   ]
  },
  {
   "cell_type": "code",
   "execution_count": 25,
   "metadata": {},
   "outputs": [],
   "source": [
    "from ray.train.lightning import (\n",
    "    RayDDPStrategy,\n",
    "    RayLightningEnvironment,\n",
    "    RayTrainReportCallback,\n",
    "    prepare_trainer\n",
    ")\n",
    "\n",
    "def train_func(config):\n",
    "    model = GNN_model(config)\n",
    "\n",
    "    trainer = L.Trainer(\n",
    "        accelerator='cpu',\n",
    "        strategy=RayDDPStrategy(),\n",
    "        callbacks=[RayTrainReportCallback()],\n",
    "        plugins=[RayLightningEnvironment()],\n",
    "    )\n",
    "    trainer = prepare_trainer(trainer)\n",
    "    trainer.fit(model, train_loader, val_loader)"
   ]
  },
  {
   "cell_type": "code",
   "execution_count": 19,
   "metadata": {},
   "outputs": [],
   "source": [
    "from ray import tune\n",
    "from ray.tune.schedulers import ASHAScheduler"
   ]
  },
  {
   "cell_type": "code",
   "execution_count": 20,
   "metadata": {},
   "outputs": [],
   "source": [
    "# --- Define parameters for GNN model\n",
    "config = {\n",
    "    \"num_tasks\": 200,\n",
    "    \"num_layer\": 3,\n",
    "    \"in_channels\": [dataset.num_features, 64, 128],\n",
    "    \"out_channels\": [64, 128, 256],\n",
    "    \"gnn_type\": \"gcn\",\n",
    "    \"heads\": 1,\n",
    "    \"drop_ratio\": 0.3,\n",
    "    \"graph_pooling\": \"mean\",\n",
    "    \"lr\": tune.loguniform(1e-4, 0.1)\n",
    "}"
   ]
  },
  {
   "cell_type": "code",
   "execution_count": 21,
   "metadata": {},
   "outputs": [],
   "source": [
    "num_epochs = 10\n",
    "num_samples = 10\n",
    "scheduler = ASHAScheduler(max_t=num_epochs, grace_period=1, reduction_factor=2)"
   ]
  },
  {
   "cell_type": "code",
   "execution_count": 29,
   "metadata": {},
   "outputs": [],
   "source": [
    "from ray.train import RunConfig, ScalingConfig, CheckpointConfig\n",
    "\n",
    "scaling_config = ScalingConfig(\n",
    "    num_workers=1, use_gpu=False, resources_per_worker={'CPU': 1, 'GPU': 0}\n",
    ")\n",
    "\n",
    "run_config = RunConfig(\n",
    "    checkpoint_config=CheckpointConfig(\n",
    "        num_to_keep=2,\n",
    "        checkpoint_score_attribute=\"ptl/val_loss\",\n",
    "        checkpoint_score_order='min'\n",
    "    )\n",
    ")"
   ]
  },
  {
   "cell_type": "code",
   "execution_count": 30,
   "metadata": {},
   "outputs": [],
   "source": [
    "from ray.train.torch import TorchTrainer\n",
    "\n",
    "ray_trainer = TorchTrainer(\n",
    "    train_func,\n",
    "    scaling_config=scaling_config,\n",
    "    run_config=run_config\n",
    ")"
   ]
  },
  {
   "cell_type": "code",
   "execution_count": 31,
   "metadata": {},
   "outputs": [],
   "source": [
    "def tune_asha(num_samples=10):\n",
    "    scheduler = ASHAScheduler(\n",
    "        max_t=num_epochs, grace_period=1, reduction_factor=2\n",
    "    )\n",
    "\n",
    "    tuner = tune.Tuner(\n",
    "        ray_trainer,\n",
    "        param_space={'train_loop_config': config},\n",
    "        tune_config=tune.TuneConfig(\n",
    "            metric=\"ptl/val_loss\",\n",
    "            mode=\"min\",\n",
    "            num_samples=num_samples,\n",
    "            scheduler=scheduler\n",
    "        )\n",
    "    )\n",
    "    return tuner.fit()"
   ]
  },
  {
   "cell_type": "code",
   "execution_count": 32,
   "metadata": {},
   "outputs": [
    {
     "data": {
      "text/html": [
       "<div class=\"tuneStatus\">\n",
       "  <div style=\"display: flex;flex-direction: row\">\n",
       "    <div style=\"display: flex;flex-direction: column;\">\n",
       "      <h3>Tune Status</h3>\n",
       "      <table>\n",
       "<tbody>\n",
       "<tr><td>Current time:</td><td>2024-10-15 15:25:15</td></tr>\n",
       "<tr><td>Running for: </td><td>00:00:10.34        </td></tr>\n",
       "<tr><td>Memory:      </td><td>12.3/15.3 GiB      </td></tr>\n",
       "</tbody>\n",
       "</table>\n",
       "    </div>\n",
       "    <div class=\"vDivider\"></div>\n",
       "    <div class=\"systemInfo\">\n",
       "      <h3>System Info</h3>\n",
       "      Using AsyncHyperBand: num_stopped=0<br>Bracket: Iter 8.000: None | Iter 4.000: None | Iter 2.000: None | Iter 1.000: None<br>Logical resource usage: 20.0/20 CPUs, 0/0 GPUs\n",
       "    </div>\n",
       "    \n",
       "  </div>\n",
       "  <div class=\"hDivider\"></div>\n",
       "  <div class=\"trialStatus\">\n",
       "    <h3>Trial Status</h3>\n",
       "    <table>\n",
       "<thead>\n",
       "<tr><th>Trial name              </th><th>status  </th><th>loc                </th><th style=\"text-align: right;\">  train_loop_config/lr</th></tr>\n",
       "</thead>\n",
       "<tbody>\n",
       "<tr><td>TorchTrainer_e3d92_00000</td><td>RUNNING </td><td>172.30.192.60:88605</td><td style=\"text-align: right;\">           0.00525214 </td></tr>\n",
       "<tr><td>TorchTrainer_e3d92_00001</td><td>RUNNING </td><td>172.30.192.60:88606</td><td style=\"text-align: right;\">           0.0592375  </td></tr>\n",
       "<tr><td>TorchTrainer_e3d92_00002</td><td>RUNNING </td><td>172.30.192.60:88607</td><td style=\"text-align: right;\">           0.000527646</td></tr>\n",
       "<tr><td>TorchTrainer_e3d92_00003</td><td>RUNNING </td><td>172.30.192.60:88608</td><td style=\"text-align: right;\">           0.00106039 </td></tr>\n",
       "<tr><td>TorchTrainer_e3d92_00004</td><td>RUNNING </td><td>172.30.192.60:88609</td><td style=\"text-align: right;\">           0.000131857</td></tr>\n",
       "<tr><td>TorchTrainer_e3d92_00005</td><td>RUNNING </td><td>172.30.192.60:88610</td><td style=\"text-align: right;\">           0.017812   </td></tr>\n",
       "<tr><td>TorchTrainer_e3d92_00006</td><td>RUNNING </td><td>172.30.192.60:88611</td><td style=\"text-align: right;\">           0.000153753</td></tr>\n",
       "<tr><td>TorchTrainer_e3d92_00007</td><td>RUNNING </td><td>172.30.192.60:88613</td><td style=\"text-align: right;\">           0.00271829 </td></tr>\n",
       "<tr><td>TorchTrainer_e3d92_00008</td><td>RUNNING </td><td>172.30.192.60:88612</td><td style=\"text-align: right;\">           0.000507298</td></tr>\n",
       "<tr><td>TorchTrainer_e3d92_00009</td><td>RUNNING </td><td>172.30.192.60:88614</td><td style=\"text-align: right;\">           0.0285133  </td></tr>\n",
       "</tbody>\n",
       "</table>\n",
       "  </div>\n",
       "</div>\n",
       "<style>\n",
       ".tuneStatus {\n",
       "  color: var(--jp-ui-font-color1);\n",
       "}\n",
       ".tuneStatus .systemInfo {\n",
       "  display: flex;\n",
       "  flex-direction: column;\n",
       "}\n",
       ".tuneStatus td {\n",
       "  white-space: nowrap;\n",
       "}\n",
       ".tuneStatus .trialStatus {\n",
       "  display: flex;\n",
       "  flex-direction: column;\n",
       "}\n",
       ".tuneStatus h3 {\n",
       "  font-weight: bold;\n",
       "}\n",
       ".tuneStatus .hDivider {\n",
       "  border-bottom-width: var(--jp-border-width);\n",
       "  border-bottom-color: var(--jp-border-color0);\n",
       "  border-bottom-style: solid;\n",
       "}\n",
       ".tuneStatus .vDivider {\n",
       "  border-left-width: var(--jp-border-width);\n",
       "  border-left-color: var(--jp-border-color0);\n",
       "  border-left-style: solid;\n",
       "  margin: 0.5em 1em 0.5em 1em;\n",
       "}\n",
       "</style>\n"
      ],
      "text/plain": [
       "<IPython.core.display.HTML object>"
      ]
     },
     "metadata": {},
     "output_type": "display_data"
    },
    {
     "ename": "TuneError",
     "evalue": "Traceback (most recent call last):\n  File \"/home/samjhall/miniconda3/envs/pyg-schnet/lib/python3.11/site-packages/ray/tune/execution/tune_controller.py\", line 1220, in _on_result\n    on_result(trial, *args, **kwargs)\n  File \"/home/samjhall/miniconda3/envs/pyg-schnet/lib/python3.11/site-packages/ray/tune/execution/tune_controller.py\", line 1519, in _on_training_result\n    self._process_trial_results(trial, result)\n  File \"/home/samjhall/miniconda3/envs/pyg-schnet/lib/python3.11/site-packages/ray/tune/execution/tune_controller.py\", line 1532, in _process_trial_results\n    decision = self._process_trial_result(trial, result)\n               ^^^^^^^^^^^^^^^^^^^^^^^^^^^^^^^^^^^^^^^^^\n  File \"/home/samjhall/miniconda3/envs/pyg-schnet/lib/python3.11/site-packages/ray/tune/execution/tune_controller.py\", line 1569, in _process_trial_result\n    self._validate_result_metrics(flat_result)\n  File \"/home/samjhall/miniconda3/envs/pyg-schnet/lib/python3.11/site-packages/ray/tune/execution/tune_controller.py\", line 1678, in _validate_result_metrics\n    raise ValueError(\nValueError: Trial returned a result which did not include the specified metric(s) `ptl/val_loss` that `tune.TuneConfig()` expects. Make sure your calls to `tune.report()` include the metric, or set the TUNE_DISABLE_STRICT_METRIC_CHECKING environment variable to 1. Result: {'train_loss': 0.2558627128601074, 'val_loss': 0.2903920114040375, 'epoch': 0, 'step': 1, 'timestamp': 1728998715, 'checkpoint_dir_name': 'checkpoint_000000', 'should_checkpoint': True, 'done': False, 'training_iteration': 1, 'trial_id': 'e3d92_00004', 'date': '2024-10-15_15-25-15', 'time_this_iter_s': 5.6529858112335205, 'time_total_s': 5.6529858112335205, 'pid': 88609, 'hostname': 'nb-2sq6gy3', 'node_ip': '172.30.192.60', 'time_since_restore': 5.6529858112335205, 'iterations_since_restore': 1, 'config/train_loop_config/num_tasks': 200, 'config/train_loop_config/num_layer': 3, 'config/train_loop_config/in_channels': [6, 64, 128], 'config/train_loop_config/out_channels': [64, 128, 256], 'config/train_loop_config/gnn_type': 'gcn', 'config/train_loop_config/heads': 1, 'config/train_loop_config/drop_ratio': 0.3, 'config/train_loop_config/graph_pooling': 'mean', 'config/train_loop_config/lr': 0.0001318567990534561}\n",
     "output_type": "error",
     "traceback": [
      "\u001b[0;31m---------------------------------------------------------------------------\u001b[0m",
      "\u001b[0;31mValueError\u001b[0m                                Traceback (most recent call last)",
      "File \u001b[0;32m~/miniconda3/envs/pyg-schnet/lib/python3.11/site-packages/ray/tune/execution/tune_controller.py:1220\u001b[0m, in \u001b[0;36mTuneController._schedule_trial_task.<locals>._on_result\u001b[0;34m(tracked_actor, *args, **kwargs)\u001b[0m\n\u001b[1;32m   1219\u001b[0m \u001b[38;5;28;01mtry\u001b[39;00m:\n\u001b[0;32m-> 1220\u001b[0m     \u001b[43mon_result\u001b[49m\u001b[43m(\u001b[49m\u001b[43mtrial\u001b[49m\u001b[43m,\u001b[49m\u001b[43m \u001b[49m\u001b[38;5;241;43m*\u001b[39;49m\u001b[43margs\u001b[49m\u001b[43m,\u001b[49m\u001b[43m \u001b[49m\u001b[38;5;241;43m*\u001b[39;49m\u001b[38;5;241;43m*\u001b[39;49m\u001b[43mkwargs\u001b[49m\u001b[43m)\u001b[49m\n\u001b[1;32m   1221\u001b[0m \u001b[38;5;28;01mexcept\u001b[39;00m \u001b[38;5;167;01mException\u001b[39;00m \u001b[38;5;28;01mas\u001b[39;00m e:\n",
      "File \u001b[0;32m~/miniconda3/envs/pyg-schnet/lib/python3.11/site-packages/ray/tune/execution/tune_controller.py:1519\u001b[0m, in \u001b[0;36mTuneController._on_training_result\u001b[0;34m(self, trial, result)\u001b[0m\n\u001b[1;32m   1518\u001b[0m \u001b[38;5;28;01mwith\u001b[39;00m warn_if_slow(\u001b[38;5;124m\"\u001b[39m\u001b[38;5;124mprocess_trial_result\u001b[39m\u001b[38;5;124m\"\u001b[39m):\n\u001b[0;32m-> 1519\u001b[0m     \u001b[38;5;28;43mself\u001b[39;49m\u001b[38;5;241;43m.\u001b[39;49m\u001b[43m_process_trial_results\u001b[49m\u001b[43m(\u001b[49m\u001b[43mtrial\u001b[49m\u001b[43m,\u001b[49m\u001b[43m \u001b[49m\u001b[43mresult\u001b[49m\u001b[43m)\u001b[49m\n\u001b[1;32m   1520\u001b[0m \u001b[38;5;28mself\u001b[39m\u001b[38;5;241m.\u001b[39m_maybe_execute_queued_decision(trial, after_save\u001b[38;5;241m=\u001b[39m\u001b[38;5;28;01mFalse\u001b[39;00m)\n",
      "File \u001b[0;32m~/miniconda3/envs/pyg-schnet/lib/python3.11/site-packages/ray/tune/execution/tune_controller.py:1532\u001b[0m, in \u001b[0;36mTuneController._process_trial_results\u001b[0;34m(self, trial, results)\u001b[0m\n\u001b[1;32m   1531\u001b[0m \u001b[38;5;28;01mwith\u001b[39;00m warn_if_slow(\u001b[38;5;124m\"\u001b[39m\u001b[38;5;124mprocess_trial_result\u001b[39m\u001b[38;5;124m\"\u001b[39m):\n\u001b[0;32m-> 1532\u001b[0m     decision \u001b[38;5;241m=\u001b[39m \u001b[38;5;28;43mself\u001b[39;49m\u001b[38;5;241;43m.\u001b[39;49m\u001b[43m_process_trial_result\u001b[49m\u001b[43m(\u001b[49m\u001b[43mtrial\u001b[49m\u001b[43m,\u001b[49m\u001b[43m \u001b[49m\u001b[43mresult\u001b[49m\u001b[43m)\u001b[49m\n\u001b[1;32m   1533\u001b[0m \u001b[38;5;28;01mif\u001b[39;00m decision \u001b[38;5;129;01mis\u001b[39;00m \u001b[38;5;28;01mNone\u001b[39;00m:\n\u001b[1;32m   1534\u001b[0m     \u001b[38;5;66;03m# If we didn't get a decision, this means a\u001b[39;00m\n\u001b[1;32m   1535\u001b[0m     \u001b[38;5;66;03m# non-training future (e.g. a save) was scheduled.\u001b[39;00m\n\u001b[1;32m   1536\u001b[0m     \u001b[38;5;66;03m# We do not allow processing more results then.\u001b[39;00m\n",
      "File \u001b[0;32m~/miniconda3/envs/pyg-schnet/lib/python3.11/site-packages/ray/tune/execution/tune_controller.py:1569\u001b[0m, in \u001b[0;36mTuneController._process_trial_result\u001b[0;34m(self, trial, result)\u001b[0m\n\u001b[1;32m   1568\u001b[0m flat_result \u001b[38;5;241m=\u001b[39m flatten_dict(result)\n\u001b[0;32m-> 1569\u001b[0m \u001b[38;5;28;43mself\u001b[39;49m\u001b[38;5;241;43m.\u001b[39;49m\u001b[43m_validate_result_metrics\u001b[49m\u001b[43m(\u001b[49m\u001b[43mflat_result\u001b[49m\u001b[43m)\u001b[49m\n\u001b[1;32m   1571\u001b[0m \u001b[38;5;28;01mif\u001b[39;00m \u001b[38;5;28mself\u001b[39m\u001b[38;5;241m.\u001b[39m_stopper(trial\u001b[38;5;241m.\u001b[39mtrial_id, result) \u001b[38;5;129;01mor\u001b[39;00m trial\u001b[38;5;241m.\u001b[39mshould_stop(flat_result):\n",
      "File \u001b[0;32m~/miniconda3/envs/pyg-schnet/lib/python3.11/site-packages/ray/tune/execution/tune_controller.py:1678\u001b[0m, in \u001b[0;36mTuneController._validate_result_metrics\u001b[0;34m(self, result)\u001b[0m\n\u001b[1;32m   1677\u001b[0m \u001b[38;5;28;01mif\u001b[39;00m report_metric:\n\u001b[0;32m-> 1678\u001b[0m     \u001b[38;5;28;01mraise\u001b[39;00m \u001b[38;5;167;01mValueError\u001b[39;00m(\n\u001b[1;32m   1679\u001b[0m         \u001b[38;5;124m\"\u001b[39m\u001b[38;5;124mTrial returned a result which did not include the \u001b[39m\u001b[38;5;124m\"\u001b[39m\n\u001b[1;32m   1680\u001b[0m         \u001b[38;5;124m\"\u001b[39m\u001b[38;5;124mspecified metric(s) `\u001b[39m\u001b[38;5;132;01m{}\u001b[39;00m\u001b[38;5;124m` that `\u001b[39m\u001b[38;5;132;01m{}\u001b[39;00m\u001b[38;5;124m` expects. \u001b[39m\u001b[38;5;124m\"\u001b[39m\n\u001b[1;32m   1681\u001b[0m         \u001b[38;5;124m\"\u001b[39m\u001b[38;5;124mMake sure your calls to `tune.report()` include the \u001b[39m\u001b[38;5;124m\"\u001b[39m\n\u001b[1;32m   1682\u001b[0m         \u001b[38;5;124m\"\u001b[39m\u001b[38;5;124mmetric, or set the \u001b[39m\u001b[38;5;124m\"\u001b[39m\n\u001b[1;32m   1683\u001b[0m         \u001b[38;5;124m\"\u001b[39m\u001b[38;5;124mTUNE_DISABLE_STRICT_METRIC_CHECKING \u001b[39m\u001b[38;5;124m\"\u001b[39m\n\u001b[1;32m   1684\u001b[0m         \u001b[38;5;124m\"\u001b[39m\u001b[38;5;124menvironment variable to 1. Result: \u001b[39m\u001b[38;5;132;01m{}\u001b[39;00m\u001b[38;5;124m\"\u001b[39m\u001b[38;5;241m.\u001b[39mformat(\n\u001b[1;32m   1685\u001b[0m             report_metric, location, result\n\u001b[1;32m   1686\u001b[0m         )\n\u001b[1;32m   1687\u001b[0m     )\n",
      "\u001b[0;31mValueError\u001b[0m: Trial returned a result which did not include the specified metric(s) `ptl/val_loss` that `tune.TuneConfig()` expects. Make sure your calls to `tune.report()` include the metric, or set the TUNE_DISABLE_STRICT_METRIC_CHECKING environment variable to 1. Result: {'train_loss': 0.2558627128601074, 'val_loss': 0.2903920114040375, 'epoch': 0, 'step': 1, 'timestamp': 1728998715, 'checkpoint_dir_name': 'checkpoint_000000', 'should_checkpoint': True, 'done': False, 'training_iteration': 1, 'trial_id': 'e3d92_00004', 'date': '2024-10-15_15-25-15', 'time_this_iter_s': 5.6529858112335205, 'time_total_s': 5.6529858112335205, 'pid': 88609, 'hostname': 'nb-2sq6gy3', 'node_ip': '172.30.192.60', 'time_since_restore': 5.6529858112335205, 'iterations_since_restore': 1, 'config/train_loop_config/num_tasks': 200, 'config/train_loop_config/num_layer': 3, 'config/train_loop_config/in_channels': [6, 64, 128], 'config/train_loop_config/out_channels': [64, 128, 256], 'config/train_loop_config/gnn_type': 'gcn', 'config/train_loop_config/heads': 1, 'config/train_loop_config/drop_ratio': 0.3, 'config/train_loop_config/graph_pooling': 'mean', 'config/train_loop_config/lr': 0.0001318567990534561}",
      "\nDuring handling of the above exception, another exception occurred:\n",
      "\u001b[0;31mTuneError\u001b[0m                                 Traceback (most recent call last)",
      "Cell \u001b[0;32mIn[32], line 1\u001b[0m\n\u001b[0;32m----> 1\u001b[0m results \u001b[38;5;241m=\u001b[39m \u001b[43mtune_asha\u001b[49m\u001b[43m(\u001b[49m\u001b[43mnum_samples\u001b[49m\u001b[38;5;241;43m=\u001b[39;49m\u001b[43mnum_samples\u001b[49m\u001b[43m)\u001b[49m\n",
      "Cell \u001b[0;32mIn[31], line 16\u001b[0m, in \u001b[0;36mtune_asha\u001b[0;34m(num_samples)\u001b[0m\n\u001b[1;32m      2\u001b[0m scheduler \u001b[38;5;241m=\u001b[39m ASHAScheduler(\n\u001b[1;32m      3\u001b[0m     max_t\u001b[38;5;241m=\u001b[39mnum_epochs, grace_period\u001b[38;5;241m=\u001b[39m\u001b[38;5;241m1\u001b[39m, reduction_factor\u001b[38;5;241m=\u001b[39m\u001b[38;5;241m2\u001b[39m\n\u001b[1;32m      4\u001b[0m )\n\u001b[1;32m      6\u001b[0m tuner \u001b[38;5;241m=\u001b[39m tune\u001b[38;5;241m.\u001b[39mTuner(\n\u001b[1;32m      7\u001b[0m     ray_trainer,\n\u001b[1;32m      8\u001b[0m     param_space\u001b[38;5;241m=\u001b[39m{\u001b[38;5;124m'\u001b[39m\u001b[38;5;124mtrain_loop_config\u001b[39m\u001b[38;5;124m'\u001b[39m: config},\n\u001b[0;32m   (...)\u001b[0m\n\u001b[1;32m     14\u001b[0m     )\n\u001b[1;32m     15\u001b[0m )\n\u001b[0;32m---> 16\u001b[0m \u001b[38;5;28;01mreturn\u001b[39;00m \u001b[43mtuner\u001b[49m\u001b[38;5;241;43m.\u001b[39;49m\u001b[43mfit\u001b[49m\u001b[43m(\u001b[49m\u001b[43m)\u001b[49m\n",
      "File \u001b[0;32m~/miniconda3/envs/pyg-schnet/lib/python3.11/site-packages/ray/tune/tuner.py:377\u001b[0m, in \u001b[0;36mTuner.fit\u001b[0;34m(self)\u001b[0m\n\u001b[1;32m    345\u001b[0m \u001b[38;5;250m\u001b[39m\u001b[38;5;124;03m\"\"\"Executes hyperparameter tuning job as configured and returns result.\u001b[39;00m\n\u001b[1;32m    346\u001b[0m \n\u001b[1;32m    347\u001b[0m \u001b[38;5;124;03mFailure handling:\u001b[39;00m\n\u001b[0;32m   (...)\u001b[0m\n\u001b[1;32m    373\u001b[0m \u001b[38;5;124;03m    RayTaskError: If user-provided trainable raises an exception\u001b[39;00m\n\u001b[1;32m    374\u001b[0m \u001b[38;5;124;03m\"\"\"\u001b[39;00m\n\u001b[1;32m    376\u001b[0m \u001b[38;5;28;01mif\u001b[39;00m \u001b[38;5;129;01mnot\u001b[39;00m \u001b[38;5;28mself\u001b[39m\u001b[38;5;241m.\u001b[39m_is_ray_client:\n\u001b[0;32m--> 377\u001b[0m     \u001b[38;5;28;01mreturn\u001b[39;00m \u001b[38;5;28;43mself\u001b[39;49m\u001b[38;5;241;43m.\u001b[39;49m\u001b[43m_local_tuner\u001b[49m\u001b[38;5;241;43m.\u001b[39;49m\u001b[43mfit\u001b[49m\u001b[43m(\u001b[49m\u001b[43m)\u001b[49m\n\u001b[1;32m    378\u001b[0m \u001b[38;5;28;01melse\u001b[39;00m:\n\u001b[1;32m    379\u001b[0m     (\n\u001b[1;32m    380\u001b[0m         progress_reporter,\n\u001b[1;32m    381\u001b[0m         string_queue,\n\u001b[1;32m    382\u001b[0m     ) \u001b[38;5;241m=\u001b[39m \u001b[38;5;28mself\u001b[39m\u001b[38;5;241m.\u001b[39m_prepare_remote_tuner_for_jupyter_progress_reporting()\n",
      "File \u001b[0;32m~/miniconda3/envs/pyg-schnet/lib/python3.11/site-packages/ray/tune/impl/tuner_internal.py:476\u001b[0m, in \u001b[0;36mTunerInternal.fit\u001b[0;34m(self)\u001b[0m\n\u001b[1;32m    474\u001b[0m param_space \u001b[38;5;241m=\u001b[39m copy\u001b[38;5;241m.\u001b[39mdeepcopy(\u001b[38;5;28mself\u001b[39m\u001b[38;5;241m.\u001b[39mparam_space)\n\u001b[1;32m    475\u001b[0m \u001b[38;5;28;01mif\u001b[39;00m \u001b[38;5;129;01mnot\u001b[39;00m \u001b[38;5;28mself\u001b[39m\u001b[38;5;241m.\u001b[39m_is_restored:\n\u001b[0;32m--> 476\u001b[0m     analysis \u001b[38;5;241m=\u001b[39m \u001b[38;5;28;43mself\u001b[39;49m\u001b[38;5;241;43m.\u001b[39;49m\u001b[43m_fit_internal\u001b[49m\u001b[43m(\u001b[49m\u001b[43mtrainable\u001b[49m\u001b[43m,\u001b[49m\u001b[43m \u001b[49m\u001b[43mparam_space\u001b[49m\u001b[43m)\u001b[49m\n\u001b[1;32m    477\u001b[0m \u001b[38;5;28;01melse\u001b[39;00m:\n\u001b[1;32m    478\u001b[0m     analysis \u001b[38;5;241m=\u001b[39m \u001b[38;5;28mself\u001b[39m\u001b[38;5;241m.\u001b[39m_fit_resume(trainable, param_space)\n",
      "File \u001b[0;32m~/miniconda3/envs/pyg-schnet/lib/python3.11/site-packages/ray/tune/impl/tuner_internal.py:592\u001b[0m, in \u001b[0;36mTunerInternal._fit_internal\u001b[0;34m(self, trainable, param_space)\u001b[0m\n\u001b[1;32m    579\u001b[0m \u001b[38;5;250m\u001b[39m\u001b[38;5;124;03m\"\"\"Fitting for a fresh Tuner.\"\"\"\u001b[39;00m\n\u001b[1;32m    580\u001b[0m args \u001b[38;5;241m=\u001b[39m {\n\u001b[1;32m    581\u001b[0m     \u001b[38;5;241m*\u001b[39m\u001b[38;5;241m*\u001b[39m\u001b[38;5;28mself\u001b[39m\u001b[38;5;241m.\u001b[39m_get_tune_run_arguments(trainable),\n\u001b[1;32m    582\u001b[0m     \u001b[38;5;241m*\u001b[39m\u001b[38;5;241m*\u001b[39m\u001b[38;5;28mdict\u001b[39m(\n\u001b[0;32m   (...)\u001b[0m\n\u001b[1;32m    590\u001b[0m     \u001b[38;5;241m*\u001b[39m\u001b[38;5;241m*\u001b[39m\u001b[38;5;28mself\u001b[39m\u001b[38;5;241m.\u001b[39m_tuner_kwargs,\n\u001b[1;32m    591\u001b[0m }\n\u001b[0;32m--> 592\u001b[0m analysis \u001b[38;5;241m=\u001b[39m \u001b[43mrun\u001b[49m\u001b[43m(\u001b[49m\n\u001b[1;32m    593\u001b[0m \u001b[43m    \u001b[49m\u001b[38;5;241;43m*\u001b[39;49m\u001b[38;5;241;43m*\u001b[39;49m\u001b[43margs\u001b[49m\u001b[43m,\u001b[49m\n\u001b[1;32m    594\u001b[0m \u001b[43m\u001b[49m\u001b[43m)\u001b[49m\n\u001b[1;32m    595\u001b[0m \u001b[38;5;28mself\u001b[39m\u001b[38;5;241m.\u001b[39mclear_remote_string_queue()\n\u001b[1;32m    596\u001b[0m \u001b[38;5;28;01mreturn\u001b[39;00m analysis\n",
      "File \u001b[0;32m~/miniconda3/envs/pyg-schnet/lib/python3.11/site-packages/ray/tune/tune.py:994\u001b[0m, in \u001b[0;36mrun\u001b[0;34m(run_or_experiment, name, metric, mode, stop, time_budget_s, config, resources_per_trial, num_samples, storage_path, storage_filesystem, search_alg, scheduler, checkpoint_config, verbose, progress_reporter, log_to_file, trial_name_creator, trial_dirname_creator, sync_config, export_formats, max_failures, fail_fast, restore, resume, resume_config, reuse_actors, raise_on_failed_trial, callbacks, max_concurrent_trials, keep_checkpoints_num, checkpoint_score_attr, checkpoint_freq, checkpoint_at_end, chdir_to_trial_dir, local_dir, _remote, _remote_string_queue, _entrypoint)\u001b[0m\n\u001b[1;32m    992\u001b[0m \u001b[38;5;28;01mtry\u001b[39;00m:\n\u001b[1;32m    993\u001b[0m     \u001b[38;5;28;01mwhile\u001b[39;00m \u001b[38;5;129;01mnot\u001b[39;00m runner\u001b[38;5;241m.\u001b[39mis_finished() \u001b[38;5;129;01mand\u001b[39;00m \u001b[38;5;129;01mnot\u001b[39;00m experiment_interrupted_event\u001b[38;5;241m.\u001b[39mis_set():\n\u001b[0;32m--> 994\u001b[0m         \u001b[43mrunner\u001b[49m\u001b[38;5;241;43m.\u001b[39;49m\u001b[43mstep\u001b[49m\u001b[43m(\u001b[49m\u001b[43m)\u001b[49m\n\u001b[1;32m    995\u001b[0m         \u001b[38;5;28;01mif\u001b[39;00m has_verbosity(Verbosity\u001b[38;5;241m.\u001b[39mV1_EXPERIMENT):\n\u001b[1;32m    996\u001b[0m             _report_progress(runner, progress_reporter)\n",
      "File \u001b[0;32m~/miniconda3/envs/pyg-schnet/lib/python3.11/site-packages/ray/tune/execution/tune_controller.py:685\u001b[0m, in \u001b[0;36mTuneController.step\u001b[0;34m(self)\u001b[0m\n\u001b[1;32m    682\u001b[0m \u001b[38;5;28mself\u001b[39m\u001b[38;5;241m.\u001b[39m_maybe_add_actors()\n\u001b[1;32m    684\u001b[0m \u001b[38;5;66;03m# Handle one event\u001b[39;00m\n\u001b[0;32m--> 685\u001b[0m \u001b[38;5;28;01mif\u001b[39;00m \u001b[38;5;129;01mnot\u001b[39;00m \u001b[38;5;28;43mself\u001b[39;49m\u001b[38;5;241;43m.\u001b[39;49m\u001b[43m_actor_manager\u001b[49m\u001b[38;5;241;43m.\u001b[39;49m\u001b[43mnext\u001b[49m\u001b[43m(\u001b[49m\u001b[43mtimeout\u001b[49m\u001b[38;5;241;43m=\u001b[39;49m\u001b[38;5;241;43m0.1\u001b[39;49m\u001b[43m)\u001b[49m:\n\u001b[1;32m    686\u001b[0m     \u001b[38;5;66;03m# If there are no actors running, warn about potentially\u001b[39;00m\n\u001b[1;32m    687\u001b[0m     \u001b[38;5;66;03m# insufficient resources\u001b[39;00m\n\u001b[1;32m    688\u001b[0m     \u001b[38;5;28;01mif\u001b[39;00m \u001b[38;5;129;01mnot\u001b[39;00m \u001b[38;5;28mself\u001b[39m\u001b[38;5;241m.\u001b[39m_actor_manager\u001b[38;5;241m.\u001b[39mnum_live_actors:\n\u001b[1;32m    689\u001b[0m         \u001b[38;5;28mself\u001b[39m\u001b[38;5;241m.\u001b[39m_insufficient_resources_manager\u001b[38;5;241m.\u001b[39mon_no_available_trials(\n\u001b[1;32m    690\u001b[0m             \u001b[38;5;28mself\u001b[39m\u001b[38;5;241m.\u001b[39mget_trials()\n\u001b[1;32m    691\u001b[0m         )\n",
      "File \u001b[0;32m~/miniconda3/envs/pyg-schnet/lib/python3.11/site-packages/ray/air/execution/_internal/actor_manager.py:223\u001b[0m, in \u001b[0;36mRayActorManager.next\u001b[0;34m(self, timeout)\u001b[0m\n\u001b[1;32m    221\u001b[0m     \u001b[38;5;28mself\u001b[39m\u001b[38;5;241m.\u001b[39m_actor_state_events\u001b[38;5;241m.\u001b[39mresolve_future(future)\n\u001b[1;32m    222\u001b[0m \u001b[38;5;28;01melif\u001b[39;00m future \u001b[38;5;129;01min\u001b[39;00m actor_task_futures:\n\u001b[0;32m--> 223\u001b[0m     \u001b[38;5;28;43mself\u001b[39;49m\u001b[38;5;241;43m.\u001b[39;49m\u001b[43m_actor_task_events\u001b[49m\u001b[38;5;241;43m.\u001b[39;49m\u001b[43mresolve_future\u001b[49m\u001b[43m(\u001b[49m\u001b[43mfuture\u001b[49m\u001b[43m)\u001b[49m\n\u001b[1;32m    224\u001b[0m \u001b[38;5;28;01melse\u001b[39;00m:\n\u001b[1;32m    225\u001b[0m     \u001b[38;5;28mself\u001b[39m\u001b[38;5;241m.\u001b[39m_handle_ready_resource_future()\n",
      "File \u001b[0;32m~/miniconda3/envs/pyg-schnet/lib/python3.11/site-packages/ray/air/execution/_internal/event_manager.py:118\u001b[0m, in \u001b[0;36mRayEventManager.resolve_future\u001b[0;34m(self, future)\u001b[0m\n\u001b[1;32m    116\u001b[0m \u001b[38;5;28;01melse\u001b[39;00m:\n\u001b[1;32m    117\u001b[0m     \u001b[38;5;28;01mif\u001b[39;00m on_result:\n\u001b[0;32m--> 118\u001b[0m         \u001b[43mon_result\u001b[49m\u001b[43m(\u001b[49m\u001b[43mresult\u001b[49m\u001b[43m)\u001b[49m\n",
      "File \u001b[0;32m~/miniconda3/envs/pyg-schnet/lib/python3.11/site-packages/ray/air/execution/_internal/actor_manager.py:766\u001b[0m, in \u001b[0;36mRayActorManager._schedule_tracked_actor_task.<locals>.on_result\u001b[0;34m(result)\u001b[0m\n\u001b[1;32m    765\u001b[0m \u001b[38;5;28;01mdef\u001b[39;00m \u001b[38;5;21mon_result\u001b[39m(result: Any):\n\u001b[0;32m--> 766\u001b[0m     \u001b[38;5;28;43mself\u001b[39;49m\u001b[38;5;241;43m.\u001b[39;49m\u001b[43m_actor_task_resolved\u001b[49m\u001b[43m(\u001b[49m\n\u001b[1;32m    767\u001b[0m \u001b[43m        \u001b[49m\u001b[43mtracked_actor_task\u001b[49m\u001b[38;5;241;43m=\u001b[39;49m\u001b[43mtracked_actor_task\u001b[49m\u001b[43m,\u001b[49m\u001b[43m \u001b[49m\u001b[43mresult\u001b[49m\u001b[38;5;241;43m=\u001b[39;49m\u001b[43mresult\u001b[49m\n\u001b[1;32m    768\u001b[0m \u001b[43m    \u001b[49m\u001b[43m)\u001b[49m\n",
      "File \u001b[0;32m~/miniconda3/envs/pyg-schnet/lib/python3.11/site-packages/ray/air/execution/_internal/actor_manager.py:299\u001b[0m, in \u001b[0;36mRayActorManager._actor_task_resolved\u001b[0;34m(self, tracked_actor_task, result)\u001b[0m\n\u001b[1;32m    297\u001b[0m \u001b[38;5;66;03m# Trigger actor task result callback\u001b[39;00m\n\u001b[1;32m    298\u001b[0m \u001b[38;5;28;01mif\u001b[39;00m tracked_actor_task\u001b[38;5;241m.\u001b[39m_on_result:\n\u001b[0;32m--> 299\u001b[0m     \u001b[43mtracked_actor_task\u001b[49m\u001b[38;5;241;43m.\u001b[39;49m\u001b[43m_on_result\u001b[49m\u001b[43m(\u001b[49m\u001b[43mtracked_actor\u001b[49m\u001b[43m,\u001b[49m\u001b[43m \u001b[49m\u001b[43mresult\u001b[49m\u001b[43m)\u001b[49m\n",
      "File \u001b[0;32m~/miniconda3/envs/pyg-schnet/lib/python3.11/site-packages/ray/tune/execution/tune_controller.py:1229\u001b[0m, in \u001b[0;36mTuneController._schedule_trial_task.<locals>._on_result\u001b[0;34m(tracked_actor, *args, **kwargs)\u001b[0m\n\u001b[1;32m   1227\u001b[0m     \u001b[38;5;28;01mraise\u001b[39;00m e\n\u001b[1;32m   1228\u001b[0m \u001b[38;5;28;01melse\u001b[39;00m:\n\u001b[0;32m-> 1229\u001b[0m     \u001b[38;5;28;01mraise\u001b[39;00m TuneError(traceback\u001b[38;5;241m.\u001b[39mformat_exc())\n",
      "\u001b[0;31mTuneError\u001b[0m: Traceback (most recent call last):\n  File \"/home/samjhall/miniconda3/envs/pyg-schnet/lib/python3.11/site-packages/ray/tune/execution/tune_controller.py\", line 1220, in _on_result\n    on_result(trial, *args, **kwargs)\n  File \"/home/samjhall/miniconda3/envs/pyg-schnet/lib/python3.11/site-packages/ray/tune/execution/tune_controller.py\", line 1519, in _on_training_result\n    self._process_trial_results(trial, result)\n  File \"/home/samjhall/miniconda3/envs/pyg-schnet/lib/python3.11/site-packages/ray/tune/execution/tune_controller.py\", line 1532, in _process_trial_results\n    decision = self._process_trial_result(trial, result)\n               ^^^^^^^^^^^^^^^^^^^^^^^^^^^^^^^^^^^^^^^^^\n  File \"/home/samjhall/miniconda3/envs/pyg-schnet/lib/python3.11/site-packages/ray/tune/execution/tune_controller.py\", line 1569, in _process_trial_result\n    self._validate_result_metrics(flat_result)\n  File \"/home/samjhall/miniconda3/envs/pyg-schnet/lib/python3.11/site-packages/ray/tune/execution/tune_controller.py\", line 1678, in _validate_result_metrics\n    raise ValueError(\nValueError: Trial returned a result which did not include the specified metric(s) `ptl/val_loss` that `tune.TuneConfig()` expects. Make sure your calls to `tune.report()` include the metric, or set the TUNE_DISABLE_STRICT_METRIC_CHECKING environment variable to 1. Result: {'train_loss': 0.2558627128601074, 'val_loss': 0.2903920114040375, 'epoch': 0, 'step': 1, 'timestamp': 1728998715, 'checkpoint_dir_name': 'checkpoint_000000', 'should_checkpoint': True, 'done': False, 'training_iteration': 1, 'trial_id': 'e3d92_00004', 'date': '2024-10-15_15-25-15', 'time_this_iter_s': 5.6529858112335205, 'time_total_s': 5.6529858112335205, 'pid': 88609, 'hostname': 'nb-2sq6gy3', 'node_ip': '172.30.192.60', 'time_since_restore': 5.6529858112335205, 'iterations_since_restore': 1, 'config/train_loop_config/num_tasks': 200, 'config/train_loop_config/num_layer': 3, 'config/train_loop_config/in_channels': [6, 64, 128], 'config/train_loop_config/out_channels': [64, 128, 256], 'config/train_loop_config/gnn_type': 'gcn', 'config/train_loop_config/heads': 1, 'config/train_loop_config/drop_ratio': 0.3, 'config/train_loop_config/graph_pooling': 'mean', 'config/train_loop_config/lr': 0.0001318567990534561}\n"
     ]
    }
   ],
   "source": [
    "results = tune_asha(num_samples=num_samples)"
   ]
  },
  {
   "cell_type": "code",
   "execution_count": 7,
   "metadata": {},
   "outputs": [
    {
     "data": {
      "text/plain": [
       "GNN_model(\n",
       "  (convs): ModuleList(\n",
       "    (0): GCNConv(6, 64)\n",
       "    (1): GCNConv(64, 128)\n",
       "    (2): GCNConv(128, 256)\n",
       "  )\n",
       "  (batch_norms): ModuleList(\n",
       "    (0): BatchNorm1d(64, eps=1e-05, momentum=0.1, affine=True, track_running_stats=True)\n",
       "    (1): BatchNorm1d(128, eps=1e-05, momentum=0.1, affine=True, track_running_stats=True)\n",
       "    (2): BatchNorm1d(256, eps=1e-05, momentum=0.1, affine=True, track_running_stats=True)\n",
       "  )\n",
       "  (graph_pred_linear): Linear(in_features=256, out_features=200, bias=True)\n",
       ")"
      ]
     },
     "execution_count": 7,
     "metadata": {},
     "output_type": "execute_result"
    }
   ],
   "source": [
    "model = GNN_model(config)\n",
    "model"
   ]
  },
  {
   "cell_type": "code",
   "execution_count": 9,
   "metadata": {},
   "outputs": [
    {
     "name": "stderr",
     "output_type": "stream",
     "text": [
      "Seed set to 1994\n",
      "GPU available: False, used: False\n",
      "TPU available: False, using: 0 TPU cores\n",
      "HPU available: False, using: 0 HPUs\n"
     ]
    }
   ],
   "source": [
    "# --- Seed for reproducability\n",
    "L.seed_everything(1994, workers=True)\n",
    "# --- Path to save model\n",
    "path = './ml_model'\n",
    "logger = L.pytorch.loggers.TensorBoardLogger(save_dir=path)\n",
    "# --- Lightining trainer\n",
    "trainer = L.Trainer(logger=logger,\n",
    "                    default_root_dir=path,\n",
    "                    max_epochs=500, \n",
    "                    accelerator='cpu',\n",
    "                    log_every_n_steps=1)"
   ]
  },
  {
   "cell_type": "code",
   "execution_count": 10,
   "metadata": {},
   "outputs": [
    {
     "name": "stderr",
     "output_type": "stream",
     "text": [
      "\n",
      "  | Name              | Type       | Params | Mode \n",
      "---------------------------------------------------------\n",
      "0 | convs             | ModuleList | 41.8 K | train\n",
      "1 | batch_norms       | ModuleList | 896    | train\n",
      "2 | graph_pred_linear | Linear     | 51.4 K | train\n",
      "---------------------------------------------------------\n",
      "94.1 K    Trainable params\n",
      "0         Non-trainable params\n",
      "94.1 K    Total params\n",
      "0.376     Total estimated model params size (MB)\n",
      "15        Modules in train mode\n",
      "0         Modules in eval mode\n"
     ]
    },
    {
     "name": "stdout",
     "output_type": "stream",
     "text": [
      "Sanity Checking DataLoader 0:   0%|          | 0/1 [00:00<?, ?it/s]"
     ]
    },
    {
     "name": "stderr",
     "output_type": "stream",
     "text": [
      "/home/samjhall/miniconda3/envs/pyg-schnet/lib/python3.11/site-packages/lightning/pytorch/trainer/connectors/data_connector.py:424: The 'val_dataloader' does not have many workers which may be a bottleneck. Consider increasing the value of the `num_workers` argument` to `num_workers=19` in the `DataLoader` to improve performance.\n",
      "/home/samjhall/miniconda3/envs/pyg-schnet/lib/python3.11/site-packages/lightning/pytorch/utilities/data.py:78: Trying to infer the `batch_size` from an ambiguous collection. The batch size we found is 889. To avoid any miscalculations, use `self.log(..., batch_size=batch_size)`.\n"
     ]
    },
    {
     "name": "stdout",
     "output_type": "stream",
     "text": [
      "                                                                           \r"
     ]
    },
    {
     "name": "stderr",
     "output_type": "stream",
     "text": [
      "/home/samjhall/miniconda3/envs/pyg-schnet/lib/python3.11/site-packages/lightning/pytorch/trainer/connectors/data_connector.py:424: The 'train_dataloader' does not have many workers which may be a bottleneck. Consider increasing the value of the `num_workers` argument` to `num_workers=19` in the `DataLoader` to improve performance.\n"
     ]
    },
    {
     "name": "stdout",
     "output_type": "stream",
     "text": [
      "Epoch 499: 100%|██████████| 1/1 [00:00<00:00, 13.08it/s, v_num=8]"
     ]
    },
    {
     "name": "stderr",
     "output_type": "stream",
     "text": [
      "`Trainer.fit` stopped: `max_epochs=500` reached.\n"
     ]
    },
    {
     "name": "stdout",
     "output_type": "stream",
     "text": [
      "Epoch 499: 100%|██████████| 1/1 [00:00<00:00, 11.74it/s, v_num=8]\n"
     ]
    }
   ],
   "source": [
    "trainer.fit(model, train_loader, val_loader)"
   ]
  },
  {
   "cell_type": "code",
   "execution_count": null,
   "metadata": {},
   "outputs": [],
   "source": []
  },
  {
   "cell_type": "code",
   "execution_count": null,
   "metadata": {},
   "outputs": [],
   "source": []
  },
  {
   "cell_type": "code",
   "execution_count": null,
   "metadata": {},
   "outputs": [],
   "source": []
  },
  {
   "cell_type": "code",
   "execution_count": 38,
   "metadata": {},
   "outputs": [],
   "source": [
    "checkpoint = './ml_model/lightning_logs/version_1/checkpoints/epoch=499-step=500.ckpt'\n",
    "\n",
    "test_model = GNN_model.load_from_checkpoint(checkpoint, hparams_file='./ml_model/lightning_logs/version_0/hparams.yaml')"
   ]
  },
  {
   "cell_type": "code",
   "execution_count": 11,
   "metadata": {},
   "outputs": [
    {
     "name": "stderr",
     "output_type": "stream",
     "text": [
      "/home/samjhall/miniconda3/envs/pyg-schnet/lib/python3.11/site-packages/lightning/pytorch/trainer/connectors/data_connector.py:424: The 'test_dataloader' does not have many workers which may be a bottleneck. Consider increasing the value of the `num_workers` argument` to `num_workers=19` in the `DataLoader` to improve performance.\n"
     ]
    },
    {
     "name": "stdout",
     "output_type": "stream",
     "text": [
      "Testing DataLoader 0:   0%|          | 0/1 [00:00<?, ?it/s]"
     ]
    },
    {
     "name": "stdout",
     "output_type": "stream",
     "text": [
      "Testing DataLoader 0: 100%|██████████| 1/1 [00:00<00:00, 92.85it/s] \n"
     ]
    },
    {
     "name": "stderr",
     "output_type": "stream",
     "text": [
      "/home/samjhall/miniconda3/envs/pyg-schnet/lib/python3.11/site-packages/lightning/pytorch/utilities/data.py:78: Trying to infer the `batch_size` from an ambiguous collection. The batch size we found is 1471. To avoid any miscalculations, use `self.log(..., batch_size=batch_size)`.\n"
     ]
    },
    {
     "data": {
      "text/html": [
       "<pre style=\"white-space:pre;overflow-x:auto;line-height:normal;font-family:Menlo,'DejaVu Sans Mono',consolas,'Courier New',monospace\">┏━━━━━━━━━━━━━━━━━━━━━━━━━━━┳━━━━━━━━━━━━━━━━━━━━━━━━━━━┓\n",
       "┃<span style=\"font-weight: bold\">        Test metric        </span>┃<span style=\"font-weight: bold\">       DataLoader 0        </span>┃\n",
       "┡━━━━━━━━━━━━━━━━━━━━━━━━━━━╇━━━━━━━━━━━━━━━━━━━━━━━━━━━┩\n",
       "│<span style=\"color: #008080; text-decoration-color: #008080\">         test_loss         </span>│<span style=\"color: #800080; text-decoration-color: #800080\">   0.006667571607977152    </span>│\n",
       "└───────────────────────────┴───────────────────────────┘\n",
       "</pre>\n"
      ],
      "text/plain": [
       "┏━━━━━━━━━━━━━━━━━━━━━━━━━━━┳━━━━━━━━━━━━━━━━━━━━━━━━━━━┓\n",
       "┃\u001b[1m \u001b[0m\u001b[1m       Test metric       \u001b[0m\u001b[1m \u001b[0m┃\u001b[1m \u001b[0m\u001b[1m      DataLoader 0       \u001b[0m\u001b[1m \u001b[0m┃\n",
       "┡━━━━━━━━━━━━━━━━━━━━━━━━━━━╇━━━━━━━━━━━━━━━━━━━━━━━━━━━┩\n",
       "│\u001b[36m \u001b[0m\u001b[36m        test_loss        \u001b[0m\u001b[36m \u001b[0m│\u001b[35m \u001b[0m\u001b[35m  0.006667571607977152   \u001b[0m\u001b[35m \u001b[0m│\n",
       "└───────────────────────────┴───────────────────────────┘\n"
      ]
     },
     "metadata": {},
     "output_type": "display_data"
    },
    {
     "data": {
      "text/plain": [
       "[{'test_loss': 0.006667571607977152}]"
      ]
     },
     "execution_count": 11,
     "metadata": {},
     "output_type": "execute_result"
    }
   ],
   "source": [
    "trainer.test(model, test_loader)"
   ]
  },
  {
   "cell_type": "code",
   "execution_count": 16,
   "metadata": {},
   "outputs": [
    {
     "data": {
      "text/plain": [
       "Data(x=[29, 6], edge_index=[2, 72], edge_attr=[72, 5], spectrum=[200], idx=[1], smiles='c12[c:4]3[c:8]4[c:10]5[c:11]([H:31])[c:13]([H:32])[c:14]6[c:12]4[c:16]4[c:18]([c:17]([H:40])[c:15]6[C:24](=[O:28])[H:39])[c:19]([H:33])[c:21]([H:34])[c:22]([c:20]14)[C:23](=[O:26])[C:1]([H:36])=[C:2]2[C:3]([H:37])([H:38])[C:5]([O:25][H:35])=[C:6]3[C:7]1([H:29])[C:9]5([H:30])[O:27]1')"
      ]
     },
     "execution_count": 16,
     "metadata": {},
     "output_type": "execute_result"
    }
   ],
   "source": [
    "test_dataset[0]"
   ]
  },
  {
   "cell_type": "code",
   "execution_count": 39,
   "metadata": {},
   "outputs": [
    {
     "data": {
      "text/plain": [
       "GNN_light(\n",
       "  (convs): ModuleList(\n",
       "    (0): GCNConv(6, 64)\n",
       "    (1): GCNConv(64, 128)\n",
       "    (2): GCNConv(128, 256)\n",
       "  )\n",
       "  (batch_norms): ModuleList(\n",
       "    (0): BatchNorm1d(64, eps=1e-05, momentum=0.1, affine=True, track_running_stats=True)\n",
       "    (1): BatchNorm1d(128, eps=1e-05, momentum=0.1, affine=True, track_running_stats=True)\n",
       "    (2): BatchNorm1d(256, eps=1e-05, momentum=0.1, affine=True, track_running_stats=True)\n",
       "  )\n",
       "  (graph_pred_linear): Linear(in_features=256, out_features=200, bias=True)\n",
       ")"
      ]
     },
     "execution_count": 39,
     "metadata": {},
     "output_type": "execute_result"
    }
   ],
   "source": [
    "test_model.eval()"
   ]
  },
  {
   "cell_type": "code",
   "execution_count": 46,
   "metadata": {},
   "outputs": [],
   "source": [
    "x = 23\n",
    "\n",
    "with torch.no_grad():\n",
    "    test = test_model(test_dataset[x])"
   ]
  },
  {
   "cell_type": "code",
   "execution_count": 47,
   "metadata": {},
   "outputs": [],
   "source": [
    "flat = torch.flatten(test)"
   ]
  },
  {
   "cell_type": "code",
   "execution_count": 48,
   "metadata": {},
   "outputs": [
    {
     "data": {
      "image/png": "[encoded data removed]",
      "text/plain": [
       "<Figure size 640x480 with 1 Axes>"
      ]
     },
     "metadata": {},
     "output_type": "display_data"
    }
   ],
   "source": [
    "import matplotlib.pyplot as plt\n",
    "plt.plot(flat)\n",
    "plt.plot(test_dataset[x].spectrum)\n",
    "plt.show()"
   ]
  },
  {
   "cell_type": "code",
   "execution_count": null,
   "metadata": {},
   "outputs": [],
   "source": []
  }
 ],
 "metadata": {
  "kernelspec": {
   "display_name": "pyg-schnet",
   "language": "python",
   "name": "python3"
  },
  "language_info": {
   "codemirror_mode": {
    "name": "ipython",
    "version": 3
   },
   "file_extension": ".py",
   "mimetype": "text/x-python",
   "name": "python",
   "nbconvert_exporter": "python",
   "pygments_lexer": "ipython3",
   "version": "3.11.9"
  }
 },
 "nbformat": 4,
 "nbformat_minor": 2
}
