{
 "cells": [
  {
   "cell_type": "code",
   "execution_count": 1,
   "metadata": {},
   "outputs": [],
   "source": [
    "import torch\n",
    "import torch_geometric\n",
    "from torch_geometric.loader import DataLoader\n",
    "import pytorch_lightning as pl\n",
    "# ---\n",
    "from GNN import GNN_model\n",
    "from dataset import XASMolDataset"
   ]
  },
  {
   "cell_type": "code",
   "execution_count": 2,
   "metadata": {},
   "outputs": [
    {
     "name": "stdout",
     "output_type": "stream",
     "text": [
      "Pytorch version: 2.4.1+cu124\n",
      "PyG version: 2.5.3\n",
      "Lightning version: 2.4.0\n"
     ]
    }
   ],
   "source": [
    "print(f'Pytorch version: {torch.__version__}')\n",
    "print(f'PyG version: {torch_geometric.__version__}')\n",
    "print(f'Lightning version: {pl.__version__}')"
   ]
  },
  {
   "cell_type": "code",
   "execution_count": 4,
   "metadata": {},
   "outputs": [
    {
     "name": "stderr",
     "output_type": "stream",
     "text": [
      "/home/samjhall/miniconda3/envs/pyg-schnet/lib/python3.11/site-packages/torch_geometric/data/dataset.py:238: FutureWarning: You are using `torch.load` with `weights_only=False` (the current default value), which uses the default pickle module implicitly. It is possible to construct malicious pickle data which will execute arbitrary code during unpickling (See https://github.com/pytorch/pytorch/blob/main/SECURITY.md#untrusted-models for more details). In a future release, the default value for `weights_only` will be flipped to `True`. This limits the functions that could be executed during unpickling. Arbitrary objects will no longer be allowed to be loaded via this mode unless they are explicitly allowlisted by the user via `torch.serialization.add_safe_globals`. We recommend you start setting `weights_only=True` for any use case where you don't have full control of the loaded file. Please open an issue on GitHub for any issues related to this experimental feature.\n",
      "  if osp.exists(f) and torch.load(f) != _repr(self.pre_transform):\n",
      "/home/samjhall/miniconda3/envs/pyg-schnet/lib/python3.11/site-packages/torch_geometric/data/dataset.py:246: FutureWarning: You are using `torch.load` with `weights_only=False` (the current default value), which uses the default pickle module implicitly. It is possible to construct malicious pickle data which will execute arbitrary code during unpickling (See https://github.com/pytorch/pytorch/blob/main/SECURITY.md#untrusted-models for more details). In a future release, the default value for `weights_only` will be flipped to `True`. This limits the functions that could be executed during unpickling. Arbitrary objects will no longer be allowed to be loaded via this mode unless they are explicitly allowlisted by the user via `torch.serialization.add_safe_globals`. We recommend you start setting `weights_only=True` for any use case where you don't have full control of the loaded file. Please open an issue on GitHub for any issues related to this experimental feature.\n",
      "  if osp.exists(f) and torch.load(f) != _repr(self.pre_filter):\n",
      "/home/samjhall/github/GNN-XAS-GO/lightning/dataset.py:148: You are using `torch.load` with `weights_only=False` (the current default value), which uses the default pickle module implicitly. It is possible to construct malicious pickle data which will execute arbitrary code during unpickling (See https://github.com/pytorch/pytorch/blob/main/SECURITY.md#untrusted-models for more details). In a future release, the default value for `weights_only` will be flipped to `True`. This limits the functions that could be executed during unpickling. Arbitrary objects will no longer be allowed to be loaded via this mode unless they are explicitly allowlisted by the user via `torch.serialization.add_safe_globals`. We recommend you start setting `weights_only=True` for any use case where you don't have full control of the loaded file. Please open an issue on GitHub for any issues related to this experimental feature.\n"
     ]
    }
   ],
   "source": [
    "# --- Path raw directory containing the data\n",
    "path = \"../\"\n",
    "dataset = XASMolDataset(path)\n",
    "# --- Load and create the dataset\n",
    "# dataset = torch.load('./processed/cor_pyg.pt')"
   ]
  },
  {
   "cell_type": "code",
   "execution_count": 5,
   "metadata": {},
   "outputs": [
    {
     "name": "stdout",
     "output_type": "stream",
     "text": [
      "XASMolDataset(317)\n",
      "------------\n",
      "Number of graphs: 317\n",
      "Number of features: 15\n",
      "Number of classes: 0\n",
      "\n",
      "Data(x=[27, 15], edge_index=[2, 72], edge_attr=[72, 5], spectrum=[200], idx=[1], smiles='c12[c:4]3[c:6]4[c:7]([H:29])[c:9]([H:30])[c:10]5[c:8]3[c:12]3[c:16]6[c:20]1[C:22]1([C:21]([H:36])=[C:19]([H:37])[C:18]6=[C:17]([H:40])[C:15]([H:38])([H:39])[C:14]36[C:13]([H:32])([C:11]5([H:31])[H:35])[O:26]6)[C:23]([H:33])([C:1]([H:27])([H:34])[C:2]23[C:3]([H:28])([C:5]4([H:41])[H:42])[O:24]3)[O:25]1')\n",
      "------------\n",
      "Number of nodes: 27\n",
      "Number of edges: 72\n",
      "Average node degree: 2.67\n",
      "Has isolated nodes: False\n",
      "Has self loops: False\n",
      "Is undirected: True\n"
     ]
    }
   ],
   "source": [
    "# --- Show detail of the dataset\n",
    "print(dataset)\n",
    "print('------------')\n",
    "print(f'Number of graphs: {len(dataset)}')\n",
    "print(f'Number of features: {dataset.num_features}')\n",
    "print(f'Number of classes: {dataset.num_classes}')\n",
    "print('')\n",
    "\n",
    "# --- Show details of the first molecule/graph in dataset\n",
    "data = dataset[0]\n",
    "\n",
    "print(data)\n",
    "print('------------')\n",
    "print(f'Number of nodes: {data.num_nodes}')\n",
    "print(f'Number of edges: {data.num_edges}')\n",
    "print(f'Average node degree: {data.num_edges / data.num_nodes:.2f}')\n",
    "print(f'Has isolated nodes: {data.has_isolated_nodes()}')\n",
    "print(f'Has self loops: {data.has_self_loops()}')\n",
    "print(f'Is undirected: {data.is_undirected()}')"
   ]
  },
  {
   "cell_type": "code",
   "execution_count": 6,
   "metadata": {},
   "outputs": [
    {
     "name": "stdout",
     "output_type": "stream",
     "text": [
      "Length of training data loader: 238, with a total of 1 datassets\n",
      "Length of validation data loader: 30, with a total of 1 datasets\n",
      "Length of testing data loader: 49, with a total of 1 datasets\n"
     ]
    }
   ],
   "source": [
    "# --- Split data into test, validation and test\n",
    "train_dataset = dataset[0:238]\n",
    "val_dataset = dataset[238:268]\n",
    "test_dataset = dataset[268:317]\n",
    "\n",
    "# --- Pass into dataloader\n",
    "train_loader = DataLoader(train_dataset, batch_size=238, shuffle=True)\n",
    "val_loader = DataLoader(val_dataset, batch_size=30, shuffle=False)\n",
    "test_loader = DataLoader(test_dataset, batch_size=49, shuffle=False)\n",
    "\n",
    "print(f'Length of training data loader: {len(train_loader.dataset)}, with a total of {len(train_loader)} datassets')\n",
    "print(f'Length of validation data loader: {len(val_loader.dataset)}, with a total of {len(val_loader)} datasets')\n",
    "print(f'Length of testing data loader: {len(test_loader.dataset)}, with a total of {len(test_loader)} datasets')"
   ]
  },
  {
   "cell_type": "code",
   "execution_count": 7,
   "metadata": {},
   "outputs": [],
   "source": [
    "from ray.train.lightning import (\n",
    "    RayDDPStrategy,\n",
    "    RayLightningEnvironment,\n",
    "    RayTrainReportCallback,\n",
    "    prepare_trainer\n",
    ")\n",
    "\n",
    "def train_func(config):\n",
    "    model = GNN_model(config)\n",
    "\n",
    "    trainer = L.Trainer(\n",
    "        accelerator='cpu',\n",
    "        strategy=RayDDPStrategy(),\n",
    "        callbacks=[RayTrainReportCallback()],\n",
    "        plugins=[RayLightningEnvironment()],\n",
    "    )\n",
    "    trainer = prepare_trainer(trainer)\n",
    "    trainer.fit(model, train_loader, val_loader)"
   ]
  },
  {
   "cell_type": "code",
   "execution_count": 8,
   "metadata": {},
   "outputs": [],
   "source": [
    "from ray import tune\n",
    "from ray.tune.schedulers import ASHAScheduler"
   ]
  },
  {
   "cell_type": "code",
   "execution_count": 9,
   "metadata": {},
   "outputs": [],
   "source": [
    "# --- Define parameters for GNN model\n",
    "config = {\n",
    "    \"num_tasks\": 200,\n",
    "    \"num_layer\": 3,\n",
    "    \"in_channels\": [dataset.num_features, 64, 128],\n",
    "    \"out_channels\": [64, 128, 256],\n",
    "    \"gnn_type\": \"gcn\",\n",
    "    \"heads\": 1,\n",
    "    \"drop_ratio\": 0.3,\n",
    "    \"graph_pooling\": \"mean\",\n",
    "    \"lr\": tune.loguniform(1e-4, 0.1)\n",
    "}"
   ]
  },
  {
   "cell_type": "code",
   "execution_count": 10,
   "metadata": {},
   "outputs": [],
   "source": [
    "num_epochs = 10\n",
    "num_samples = 10\n",
    "scheduler = ASHAScheduler(max_t=num_epochs, grace_period=1, reduction_factor=2)"
   ]
  },
  {
   "cell_type": "code",
   "execution_count": 11,
   "metadata": {},
   "outputs": [],
   "source": [
    "from ray.train import RunConfig, ScalingConfig, CheckpointConfig\n",
    "\n",
    "scaling_config = ScalingConfig(\n",
    "    num_workers=1, use_gpu=False, resources_per_worker={'CPU': 1, 'GPU': 0}\n",
    ")\n",
    "\n",
    "run_config = RunConfig(\n",
    "    checkpoint_config=CheckpointConfig(\n",
    "        num_to_keep=2,\n",
    "        checkpoint_score_attribute=\"ptl/val_loss\",\n",
    "        checkpoint_score_order='min'\n",
    "    )\n",
    ")"
   ]
  },
  {
   "cell_type": "code",
   "execution_count": 12,
   "metadata": {},
   "outputs": [],
   "source": [
    "from ray.train.torch import TorchTrainer\n",
    "\n",
    "ray_trainer = TorchTrainer(\n",
    "    train_func,\n",
    "    scaling_config=scaling_config,\n",
    "    run_config=run_config\n",
    ")"
   ]
  },
  {
   "cell_type": "code",
   "execution_count": 13,
   "metadata": {},
   "outputs": [],
   "source": [
    "def tune_asha(num_samples=10):\n",
    "    scheduler = ASHAScheduler(\n",
    "        max_t=num_epochs, grace_period=1, reduction_factor=2\n",
    "    )\n",
    "\n",
    "    tuner = tune.Tuner(\n",
    "        ray_trainer,\n",
    "        param_space={'train_loop_config': config},\n",
    "        tune_config=tune.TuneConfig(\n",
    "            metric=\"ptl/val_loss\",\n",
    "            mode=\"min\",\n",
    "            num_samples=num_samples,\n",
    "            scheduler=scheduler\n",
    "        )\n",
    "    )\n",
    "    return tuner.fit()"
   ]
  },
  {
   "cell_type": "code",
   "execution_count": 14,
   "metadata": {},
   "outputs": [
    {
     "data": {
      "text/html": [
       "<div class=\"tuneStatus\">\n",
       "  <div style=\"display: flex;flex-direction: row\">\n",
       "    <div style=\"display: flex;flex-direction: column;\">\n",
       "      <h3>Tune Status</h3>\n",
       "      <table>\n",
       "<tbody>\n",
       "<tr><td>Current time:</td><td>2024-11-11 16:23:39</td></tr>\n",
       "<tr><td>Running for: </td><td>00:00:08.15        </td></tr>\n",
       "<tr><td>Memory:      </td><td>8.2/15.5 GiB       </td></tr>\n",
       "</tbody>\n",
       "</table>\n",
       "    </div>\n",
       "    <div class=\"vDivider\"></div>\n",
       "    <div class=\"systemInfo\">\n",
       "      <h3>System Info</h3>\n",
       "      Using AsyncHyperBand: num_stopped=0<br>Bracket: Iter 8.000: None | Iter 4.000: None | Iter 2.000: None | Iter 1.000: None<br>Logical resource usage: 2.0/24 CPUs, 0/1 GPUs (0.0/1.0 accelerator_type:G)\n",
       "    </div>\n",
       "    <div class=\"vDivider\"></div>\n",
       "<div class=\"messages\">\n",
       "  <h3>Messages</h3>\n",
       "  \n",
       "  \n",
       "  Number of errored trials: 10<br><table>\n",
       "<thead>\n",
       "<tr><th>Trial name              </th><th style=\"text-align: right;\">  # failures</th><th>error file                                                                                                                                                                                           </th></tr>\n",
       "</thead>\n",
       "<tbody>\n",
       "<tr><td>TorchTrainer_e8c34_00000</td><td style=\"text-align: right;\">           1</td><td>/tmp/ray/session_2024-11-11_16-23-30_217973_156172/artifacts/2024-11-11_16-23-31/TorchTrainer_2024-11-11_16-23-30/driver_artifacts/TorchTrainer_e8c34_00000_0_lr=0.0070_2024-11-11_16-23-31/error.txt</td></tr>\n",
       "<tr><td>TorchTrainer_e8c34_00001</td><td style=\"text-align: right;\">           1</td><td>/tmp/ray/session_2024-11-11_16-23-30_217973_156172/artifacts/2024-11-11_16-23-31/TorchTrainer_2024-11-11_16-23-30/driver_artifacts/TorchTrainer_e8c34_00001_1_lr=0.0005_2024-11-11_16-23-31/error.txt</td></tr>\n",
       "<tr><td>TorchTrainer_e8c34_00002</td><td style=\"text-align: right;\">           1</td><td>/tmp/ray/session_2024-11-11_16-23-30_217973_156172/artifacts/2024-11-11_16-23-31/TorchTrainer_2024-11-11_16-23-30/driver_artifacts/TorchTrainer_e8c34_00002_2_lr=0.0068_2024-11-11_16-23-31/error.txt</td></tr>\n",
       "<tr><td>TorchTrainer_e8c34_00003</td><td style=\"text-align: right;\">           1</td><td>/tmp/ray/session_2024-11-11_16-23-30_217973_156172/artifacts/2024-11-11_16-23-31/TorchTrainer_2024-11-11_16-23-30/driver_artifacts/TorchTrainer_e8c34_00003_3_lr=0.0141_2024-11-11_16-23-31/error.txt</td></tr>\n",
       "<tr><td>TorchTrainer_e8c34_00004</td><td style=\"text-align: right;\">           1</td><td>/tmp/ray/session_2024-11-11_16-23-30_217973_156172/artifacts/2024-11-11_16-23-31/TorchTrainer_2024-11-11_16-23-30/driver_artifacts/TorchTrainer_e8c34_00004_4_lr=0.0007_2024-11-11_16-23-31/error.txt</td></tr>\n",
       "<tr><td>TorchTrainer_e8c34_00005</td><td style=\"text-align: right;\">           1</td><td>/tmp/ray/session_2024-11-11_16-23-30_217973_156172/artifacts/2024-11-11_16-23-31/TorchTrainer_2024-11-11_16-23-30/driver_artifacts/TorchTrainer_e8c34_00005_5_lr=0.0904_2024-11-11_16-23-31/error.txt</td></tr>\n",
       "<tr><td>TorchTrainer_e8c34_00006</td><td style=\"text-align: right;\">           1</td><td>/tmp/ray/session_2024-11-11_16-23-30_217973_156172/artifacts/2024-11-11_16-23-31/TorchTrainer_2024-11-11_16-23-30/driver_artifacts/TorchTrainer_e8c34_00006_6_lr=0.0107_2024-11-11_16-23-31/error.txt</td></tr>\n",
       "<tr><td>TorchTrainer_e8c34_00007</td><td style=\"text-align: right;\">           1</td><td>/tmp/ray/session_2024-11-11_16-23-30_217973_156172/artifacts/2024-11-11_16-23-31/TorchTrainer_2024-11-11_16-23-30/driver_artifacts/TorchTrainer_e8c34_00007_7_lr=0.0301_2024-11-11_16-23-31/error.txt</td></tr>\n",
       "<tr><td>TorchTrainer_e8c34_00008</td><td style=\"text-align: right;\">           1</td><td>/tmp/ray/session_2024-11-11_16-23-30_217973_156172/artifacts/2024-11-11_16-23-31/TorchTrainer_2024-11-11_16-23-30/driver_artifacts/TorchTrainer_e8c34_00008_8_lr=0.0054_2024-11-11_16-23-31/error.txt</td></tr>\n",
       "<tr><td>TorchTrainer_e8c34_00009</td><td style=\"text-align: right;\">           1</td><td>/tmp/ray/session_2024-11-11_16-23-30_217973_156172/artifacts/2024-11-11_16-23-31/TorchTrainer_2024-11-11_16-23-30/driver_artifacts/TorchTrainer_e8c34_00009_9_lr=0.0597_2024-11-11_16-23-31/error.txt</td></tr>\n",
       "</tbody>\n",
       "</table>\n",
       "</div>\n",
       "<style>\n",
       ".messages {\n",
       "  color: var(--jp-ui-font-color1);\n",
       "  display: flex;\n",
       "  flex-direction: column;\n",
       "  padding-left: 1em;\n",
       "  overflow-y: auto;\n",
       "}\n",
       ".messages h3 {\n",
       "  font-weight: bold;\n",
       "}\n",
       ".vDivider {\n",
       "  border-left-width: var(--jp-border-width);\n",
       "  border-left-color: var(--jp-border-color0);\n",
       "  border-left-style: solid;\n",
       "  margin: 0.5em 1em 0.5em 1em;\n",
       "}\n",
       "</style>\n",
       "\n",
       "  </div>\n",
       "  <div class=\"hDivider\"></div>\n",
       "  <div class=\"trialStatus\">\n",
       "    <h3>Trial Status</h3>\n",
       "    <table>\n",
       "<thead>\n",
       "<tr><th>Trial name              </th><th>status  </th><th>loc                </th><th style=\"text-align: right;\">  train_loop_config/lr</th></tr>\n",
       "</thead>\n",
       "<tbody>\n",
       "<tr><td>TorchTrainer_e8c34_00000</td><td>ERROR   </td><td>172.21.39.13:158117</td><td style=\"text-align: right;\">           0.00697517 </td></tr>\n",
       "<tr><td>TorchTrainer_e8c34_00001</td><td>ERROR   </td><td>172.21.39.13:158124</td><td style=\"text-align: right;\">           0.000498154</td></tr>\n",
       "<tr><td>TorchTrainer_e8c34_00002</td><td>ERROR   </td><td>172.21.39.13:158125</td><td style=\"text-align: right;\">           0.00679474 </td></tr>\n",
       "<tr><td>TorchTrainer_e8c34_00003</td><td>ERROR   </td><td>172.21.39.13:158126</td><td style=\"text-align: right;\">           0.0141096  </td></tr>\n",
       "<tr><td>TorchTrainer_e8c34_00004</td><td>ERROR   </td><td>172.21.39.13:158127</td><td style=\"text-align: right;\">           0.000710854</td></tr>\n",
       "<tr><td>TorchTrainer_e8c34_00005</td><td>ERROR   </td><td>172.21.39.13:158129</td><td style=\"text-align: right;\">           0.0903519  </td></tr>\n",
       "<tr><td>TorchTrainer_e8c34_00006</td><td>ERROR   </td><td>172.21.39.13:158128</td><td style=\"text-align: right;\">           0.0107052  </td></tr>\n",
       "<tr><td>TorchTrainer_e8c34_00007</td><td>ERROR   </td><td>172.21.39.13:158130</td><td style=\"text-align: right;\">           0.0301255  </td></tr>\n",
       "<tr><td>TorchTrainer_e8c34_00008</td><td>ERROR   </td><td>172.21.39.13:158131</td><td style=\"text-align: right;\">           0.00544095 </td></tr>\n",
       "<tr><td>TorchTrainer_e8c34_00009</td><td>ERROR   </td><td>172.21.39.13:158132</td><td style=\"text-align: right;\">           0.0596583  </td></tr>\n",
       "</tbody>\n",
       "</table>\n",
       "  </div>\n",
       "</div>\n",
       "<style>\n",
       ".tuneStatus {\n",
       "  color: var(--jp-ui-font-color1);\n",
       "}\n",
       ".tuneStatus .systemInfo {\n",
       "  display: flex;\n",
       "  flex-direction: column;\n",
       "}\n",
       ".tuneStatus td {\n",
       "  white-space: nowrap;\n",
       "}\n",
       ".tuneStatus .trialStatus {\n",
       "  display: flex;\n",
       "  flex-direction: column;\n",
       "}\n",
       ".tuneStatus h3 {\n",
       "  font-weight: bold;\n",
       "}\n",
       ".tuneStatus .hDivider {\n",
       "  border-bottom-width: var(--jp-border-width);\n",
       "  border-bottom-color: var(--jp-border-color0);\n",
       "  border-bottom-style: solid;\n",
       "}\n",
       ".tuneStatus .vDivider {\n",
       "  border-left-width: var(--jp-border-width);\n",
       "  border-left-color: var(--jp-border-color0);\n",
       "  border-left-style: solid;\n",
       "  margin: 0.5em 1em 0.5em 1em;\n",
       "}\n",
       "</style>\n"
      ],
      "text/plain": [
       "<IPython.core.display.HTML object>"
      ]
     },
     "metadata": {},
     "output_type": "display_data"
    },
    {
     "name": "stderr",
     "output_type": "stream",
     "text": [
      "2024-11-11 16:23:31,548\tINFO data_parallel_trainer.py:340 -- GPUs are detected in your Ray cluster, but GPU training is not enabled for this trainer. To enable GPU training, make sure to set `use_gpu` to True in your scaling config.\n",
      "2024-11-11 16:23:31,552\tINFO data_parallel_trainer.py:340 -- GPUs are detected in your Ray cluster, but GPU training is not enabled for this trainer. To enable GPU training, make sure to set `use_gpu` to True in your scaling config.\n",
      "2024-11-11 16:23:31,557\tINFO data_parallel_trainer.py:340 -- GPUs are detected in your Ray cluster, but GPU training is not enabled for this trainer. To enable GPU training, make sure to set `use_gpu` to True in your scaling config.\n",
      "2024-11-11 16:23:31,561\tINFO data_parallel_trainer.py:340 -- GPUs are detected in your Ray cluster, but GPU training is not enabled for this trainer. To enable GPU training, make sure to set `use_gpu` to True in your scaling config.\n",
      "2024-11-11 16:23:31,563\tINFO data_parallel_trainer.py:340 -- GPUs are detected in your Ray cluster, but GPU training is not enabled for this trainer. To enable GPU training, make sure to set `use_gpu` to True in your scaling config.\n",
      "2024-11-11 16:23:31,566\tINFO data_parallel_trainer.py:340 -- GPUs are detected in your Ray cluster, but GPU training is not enabled for this trainer. To enable GPU training, make sure to set `use_gpu` to True in your scaling config.\n",
      "2024-11-11 16:23:31,568\tINFO data_parallel_trainer.py:340 -- GPUs are detected in your Ray cluster, but GPU training is not enabled for this trainer. To enable GPU training, make sure to set `use_gpu` to True in your scaling config.\n",
      "2024-11-11 16:23:31,571\tINFO data_parallel_trainer.py:340 -- GPUs are detected in your Ray cluster, but GPU training is not enabled for this trainer. To enable GPU training, make sure to set `use_gpu` to True in your scaling config.\n",
      "2024-11-11 16:23:31,574\tINFO data_parallel_trainer.py:340 -- GPUs are detected in your Ray cluster, but GPU training is not enabled for this trainer. To enable GPU training, make sure to set `use_gpu` to True in your scaling config.\n",
      "2024-11-11 16:23:31,577\tINFO data_parallel_trainer.py:340 -- GPUs are detected in your Ray cluster, but GPU training is not enabled for this trainer. To enable GPU training, make sure to set `use_gpu` to True in your scaling config.\n",
      "\u001b[36m(TorchTrainer pid=158127)\u001b[0m GPUs are detected in your Ray cluster, but GPU training is not enabled for this trainer. To enable GPU training, make sure to set `use_gpu` to True in your scaling config.\n",
      "\u001b[36m(TorchTrainer pid=158124)\u001b[0m Started distributed worker processes: \n",
      "\u001b[36m(TorchTrainer pid=158124)\u001b[0m - (node_id=ccaca6f13b23c1d435962cfc02dd116f93442a48f18e9989fabc0774, ip=172.21.39.13, pid=158829) world_rank=0, local_rank=0, node_rank=0\n",
      "\u001b[36m(RayTrainWorker pid=158807)\u001b[0m Setting up process group for: env:// [rank=0, world_size=1]\n",
      "2024-11-11 16:23:39,169\tERROR tune_controller.py:1331 -- Trial task failed for trial TorchTrainer_e8c34_00005\n",
      "Traceback (most recent call last):\n",
      "  File \"/home/samjhall/miniconda3/envs/pyg-schnet/lib/python3.11/site-packages/ray/air/execution/_internal/event_manager.py\", line 110, in resolve_future\n",
      "    result = ray.get(future)\n",
      "             ^^^^^^^^^^^^^^^\n",
      "  File \"/home/samjhall/miniconda3/envs/pyg-schnet/lib/python3.11/site-packages/ray/_private/auto_init_hook.py\", line 21, in auto_init_wrapper\n",
      "    return fn(*args, **kwargs)\n",
      "           ^^^^^^^^^^^^^^^^^^^\n",
      "  File \"/home/samjhall/miniconda3/envs/pyg-schnet/lib/python3.11/site-packages/ray/_private/client_mode_hook.py\", line 103, in wrapper\n",
      "    return func(*args, **kwargs)\n",
      "           ^^^^^^^^^^^^^^^^^^^^^\n",
      "  File \"/home/samjhall/miniconda3/envs/pyg-schnet/lib/python3.11/site-packages/ray/_private/worker.py\", line 2691, in get\n",
      "    values, debugger_breakpoint = worker.get_objects(object_refs, timeout=timeout)\n",
      "                                  ^^^^^^^^^^^^^^^^^^^^^^^^^^^^^^^^^^^^^^^^^^^^^^^^\n",
      "  File \"/home/samjhall/miniconda3/envs/pyg-schnet/lib/python3.11/site-packages/ray/_private/worker.py\", line 871, in get_objects\n",
      "    raise value.as_instanceof_cause()\n",
      "ray.exceptions.RayTaskError(OutOfMemoryError): \u001b[36mray::_Inner.train()\u001b[39m (pid=158129, ip=172.21.39.13, actor_id=4e03b0a2598d3ac285b55bac01000000, repr=TorchTrainer)\n",
      "           ^^^^^^^^^^^^^^^^^^^^^^^^^^^^^^^^^^^^\n",
      "           ^^^^^^^^^^^^^^^^^^^^^^^^^^^^^^^\n",
      "  File \"/home/samjhall/miniconda3/envs/pyg-schnet/lib/python3.11/site-packages/ray/tune/trainable/trainable.py\", line 331, in train\n",
      "    raise skipped from exception_cause(skipped)\n",
      "  File \"/home/samjhall/miniconda3/envs/pyg-schnet/lib/python3.11/site-packages/ray/air/_internal/util.py\", line 104, in run\n",
      "    self._ret = self._target(*self._args, **self._kwargs)\n",
      "                ^^^^^^^^^^^^^^^^^^^^^^^^^^^^^^^^^^^^^^^^^\n",
      "  File \"/home/samjhall/miniconda3/envs/pyg-schnet/lib/python3.11/site-packages/ray/tune/trainable/function_trainable.py\", line 45, in <lambda>\n",
      "    training_func=lambda: self._trainable_func(self.config),\n",
      "                          ^^^^^^^^^^^^^^^^^^^^^^^^^^^^^^^^^\n",
      "           ^^^^^^^^^^^^^^^^^^^^^^^^^^^^^^^\n",
      "  File \"/home/samjhall/miniconda3/envs/pyg-schnet/lib/python3.11/site-packages/ray/train/base_trainer.py\", line 799, in _trainable_func\n",
      "    super()._trainable_func(self._merged_config)\n",
      "  File \"/home/samjhall/miniconda3/envs/pyg-schnet/lib/python3.11/site-packages/ray/tune/trainable/function_trainable.py\", line 250, in _trainable_func\n",
      "    output = fn()\n",
      "             ^^^^\n",
      "  File \"/home/samjhall/miniconda3/envs/pyg-schnet/lib/python3.11/site-packages/ray/train/base_trainer.py\", line 107, in _train_coordinator_fn\n",
      "    trainer.training_loop()\n",
      "  File \"/home/samjhall/miniconda3/envs/pyg-schnet/lib/python3.11/site-packages/ray/train/data_parallel_trainer.py\", line 461, in training_loop\n",
      "    training_iterator = self._training_iterator_cls(\n",
      "                        ^^^^^^^^^^^^^^^^^^^^^^^^^^^^\n",
      "  File \"/home/samjhall/miniconda3/envs/pyg-schnet/lib/python3.11/site-packages/ray/train/trainer.py\", line 56, in __init__\n",
      "    self._start_training(\n",
      "  File \"/home/samjhall/miniconda3/envs/pyg-schnet/lib/python3.11/site-packages/ray/train/trainer.py\", line 81, in _start_training\n",
      "    self._run_with_error_handling(\n",
      "  File \"/home/samjhall/miniconda3/envs/pyg-schnet/lib/python3.11/site-packages/ray/train/trainer.py\", line 94, in _run_with_error_handling\n",
      "    return func()\n",
      "           ^^^^^^\n",
      "  File \"/home/samjhall/miniconda3/envs/pyg-schnet/lib/python3.11/site-packages/ray/train/trainer.py\", line 82, in <lambda>\n",
      "    lambda: self._backend_executor.start_training(\n",
      "            ^^^^^^^^^^^^^^^^^^^^^^^^^^^^^^^^^^^^^^\n",
      "  File \"/home/samjhall/miniconda3/envs/pyg-schnet/lib/python3.11/site-packages/ray/train/_internal/backend_executor.py\", line 550, in start_training\n",
      "    self._backend.on_training_start(self.worker_group, self._backend_config)\n",
      "  File \"/home/samjhall/miniconda3/envs/pyg-schnet/lib/python3.11/site-packages/ray/train/torch/config.py\", line 213, in on_training_start\n",
      "    worker_group.execute(_set_torch_distributed_env_vars)\n",
      "  File \"/home/samjhall/miniconda3/envs/pyg-schnet/lib/python3.11/site-packages/ray/train/_internal/worker_group.py\", line 272, in execute\n",
      "    return ray.get(self.execute_async(func, *args, **kwargs))\n",
      "           ^^^^^^^^^^^^^^^^^^^^^^^^^^^^^^^^^^^^^^^^^^^^^^^^^^\n",
      "           ^^^^^^^^^^^^^^^^^^^\n",
      "           ^^^^^^^^^^^^^^^^^^^^^\n",
      "                                  ^^^^^^^^^^^^^^^^^^^^^^^^^^^^^^^^^^^^^^^^^^^^^^^^\n",
      "ray.exceptions.OutOfMemoryError: Task was killed due to the node running low on memory.\n",
      "Memory on the node (IP: 172.21.39.13, ID: ccaca6f13b23c1d435962cfc02dd116f93442a48f18e9989fabc0774) where the task (actor ID: 6beefdaeea663ffd72b3e37101000000, name=RayTrainWorker.__init__, pid=158904, memory used=0.42GB) was running was 15.08GB / 15.54GB (0.969918), which exceeds the memory usage threshold of 0.95. Ray killed this worker (ID: 68f7af51e2110163eb76b22b2b45d6edd8068825bf6b6446a8b2fa85) because it was the most recently scheduled task; to see more information about memory usage on this node, use `ray logs raylet.out -ip 172.21.39.13`. To see the logs of the worker, use `ray logs worker-68f7af51e2110163eb76b22b2b45d6edd8068825bf6b6446a8b2fa85*out -ip 172.21.39.13. Top 10 memory users:\n",
      "PID\tMEM(GB)\tCOMMAND\n",
      "129677\t1.25\t/home/samjhall/.vscode-server/bin/65edc4939843c90c34d61f4ce11704f09d3e5cb6/node /home/samjhall/.vsco...\n",
      "152516\t1.02\t/home/samjhall/miniconda3/envs/pyg/bin/python -m ipykernel_launcher --f=/home/samjhall/.local/share/...\n",
      "142534\t0.54\t/home/samjhall/.vscode-server/bin/65edc4939843c90c34d61f4ce11704f09d3e5cb6/node /home/samjhall/.vsco...\n",
      "156172\t0.51\t/home/samjhall/miniconda3/envs/pyg-schnet/bin/python -m ipykernel_launcher --f=/home/samjhall/.local...\n",
      "158132\t0.46\tray::_Inner.train\n",
      "158117\t0.46\tray::_Inner.train\n",
      "158126\t0.46\tray::_Inner.train\n",
      "158124\t0.46\tray::_Inner.train\n",
      "158130\t0.46\tray::_Inner.train\n",
      "158129\t0.46\tray::_Inner.train\n",
      "Refer to the documentation on how to address the out of memory issue: https://docs.ray.io/en/latest/ray-core/scheduling/ray-oom-prevention.html. Consider provisioning more memory on this node or reducing task parallelism by requesting more CPUs per task. Set max_restarts and max_task_retries to enable retry when the task crashes due to OOM. To adjust the kill threshold, set the environment variable `RAY_memory_usage_threshold` when starting Ray. To disable worker killing, set the environment variable `RAY_memory_monitor_refresh_ms` to zero.\n",
      "2024-11-11 16:23:39,511\tERROR tune_controller.py:1331 -- Trial task failed for trial TorchTrainer_e8c34_00007\n",
      "Traceback (most recent call last):\n",
      "  File \"/home/samjhall/miniconda3/envs/pyg-schnet/lib/python3.11/site-packages/ray/air/execution/_internal/event_manager.py\", line 110, in resolve_future\n",
      "    result = ray.get(future)\n",
      "             ^^^^^^^^^^^^^^^\n",
      "  File \"/home/samjhall/miniconda3/envs/pyg-schnet/lib/python3.11/site-packages/ray/_private/auto_init_hook.py\", line 21, in auto_init_wrapper\n",
      "    return fn(*args, **kwargs)\n",
      "           ^^^^^^^^^^^^^^^^^^^\n",
      "  File \"/home/samjhall/miniconda3/envs/pyg-schnet/lib/python3.11/site-packages/ray/_private/client_mode_hook.py\", line 103, in wrapper\n",
      "    return func(*args, **kwargs)\n",
      "           ^^^^^^^^^^^^^^^^^^^^^\n",
      "  File \"/home/samjhall/miniconda3/envs/pyg-schnet/lib/python3.11/site-packages/ray/_private/worker.py\", line 2691, in get\n",
      "    values, debugger_breakpoint = worker.get_objects(object_refs, timeout=timeout)\n",
      "                                  ^^^^^^^^^^^^^^^^^^^^^^^^^^^^^^^^^^^^^^^^^^^^^^^^\n",
      "  File \"/home/samjhall/miniconda3/envs/pyg-schnet/lib/python3.11/site-packages/ray/_private/worker.py\", line 871, in get_objects\n",
      "    raise value.as_instanceof_cause()\n",
      "ray.exceptions.RayTaskError(NameError): \u001b[36mray::_Inner.train()\u001b[39m (pid=158130, ip=172.21.39.13, actor_id=1df2d47f97a7766517e8de2e01000000, repr=TorchTrainer)\n",
      "           ^^^^^^^^^^^^^^^^^^^^^^^^^^^^^^^^^^^^\n",
      "           ^^^^^^^^^^^^^^^^^^^^^^^^^^^^^^^\n",
      "  File \"/home/samjhall/miniconda3/envs/pyg-schnet/lib/python3.11/site-packages/ray/tune/trainable/trainable.py\", line 331, in train\n",
      "    raise skipped from exception_cause(skipped)\n",
      "  File \"/home/samjhall/miniconda3/envs/pyg-schnet/lib/python3.11/site-packages/ray/train/_internal/utils.py\", line 57, in check_for_failure\n",
      "    ray.get(object_ref)\n",
      "           ^^^^^^^^^^^^^^^^^^^\n",
      "           ^^^^^^^^^^^^^^^^^^^^^\n",
      "                                  ^^^^^^^^^^^^^^^^^^^^^^^^^^^^^^^^^^^^^^^^^^^^^^^^\n",
      "ray.exceptions.RayTaskError(NameError): \u001b[36mray::_RayTrainWorker__execute.get_next()\u001b[39m (pid=158852, ip=172.21.39.13, actor_id=99326ff315cb8ccf8b97b8b701000000, repr=<ray.train._internal.worker_group.RayTrainWorker object at 0x7f5e8840d690>)\n",
      "           ^^^^^^^^^^^^^^^^^^^^^^^^^^^^^^^^^^^^\n",
      "           ^^^^^^^^^^^^^^^^^^^^^^^^^^^^^^^\n",
      "  File \"/home/samjhall/miniconda3/envs/pyg-schnet/lib/python3.11/site-packages/ray/train/_internal/worker_group.py\", line 33, in __execute\n",
      "    raise skipped from exception_cause(skipped)\n",
      "  File \"/home/samjhall/miniconda3/envs/pyg-schnet/lib/python3.11/site-packages/ray/train/_internal/utils.py\", line 176, in discard_return_wrapper\n",
      "    train_func(*args, **kwargs)\n",
      "  File \"/tmp/ipykernel_156172/1938588938.py\", line 11, in train_func\n",
      "NameError: name 'L' is not defined\n",
      "2024-11-11 16:23:39,560\tERROR tune_controller.py:1331 -- Trial task failed for trial TorchTrainer_e8c34_00000\n",
      "Traceback (most recent call last):\n",
      "  File \"/home/samjhall/miniconda3/envs/pyg-schnet/lib/python3.11/site-packages/ray/air/execution/_internal/event_manager.py\", line 110, in resolve_future\n",
      "    result = ray.get(future)\n",
      "             ^^^^^^^^^^^^^^^\n",
      "  File \"/home/samjhall/miniconda3/envs/pyg-schnet/lib/python3.11/site-packages/ray/_private/auto_init_hook.py\", line 21, in auto_init_wrapper\n",
      "    return fn(*args, **kwargs)\n",
      "           ^^^^^^^^^^^^^^^^^^^\n",
      "  File \"/home/samjhall/miniconda3/envs/pyg-schnet/lib/python3.11/site-packages/ray/_private/client_mode_hook.py\", line 103, in wrapper\n",
      "    return func(*args, **kwargs)\n",
      "           ^^^^^^^^^^^^^^^^^^^^^\n",
      "  File \"/home/samjhall/miniconda3/envs/pyg-schnet/lib/python3.11/site-packages/ray/_private/worker.py\", line 2691, in get\n",
      "    values, debugger_breakpoint = worker.get_objects(object_refs, timeout=timeout)\n",
      "                                  ^^^^^^^^^^^^^^^^^^^^^^^^^^^^^^^^^^^^^^^^^^^^^^^^\n",
      "  File \"/home/samjhall/miniconda3/envs/pyg-schnet/lib/python3.11/site-packages/ray/_private/worker.py\", line 871, in get_objects\n",
      "    raise value.as_instanceof_cause()\n",
      "ray.exceptions.RayTaskError(NameError): \u001b[36mray::_Inner.train()\u001b[39m (pid=158117, ip=172.21.39.13, actor_id=8f2b36e46e8a05fcb855159a01000000, repr=TorchTrainer)\n",
      "           ^^^^^^^^^^^^^^^^^^^^^^^^^^^^^^^^^^^^\n",
      "           ^^^^^^^^^^^^^^^^^^^^^^^^^^^^^^^\n",
      "  File \"/home/samjhall/miniconda3/envs/pyg-schnet/lib/python3.11/site-packages/ray/tune/trainable/trainable.py\", line 331, in train\n",
      "    raise skipped from exception_cause(skipped)\n",
      "  File \"/home/samjhall/miniconda3/envs/pyg-schnet/lib/python3.11/site-packages/ray/train/_internal/utils.py\", line 57, in check_for_failure\n",
      "    ray.get(object_ref)\n",
      "           ^^^^^^^^^^^^^^^^^^^\n",
      "           ^^^^^^^^^^^^^^^^^^^^^\n",
      "                                  ^^^^^^^^^^^^^^^^^^^^^^^^^^^^^^^^^^^^^^^^^^^^^^^^\n",
      "ray.exceptions.RayTaskError(NameError): \u001b[36mray::_RayTrainWorker__execute.get_next()\u001b[39m (pid=158901, ip=172.21.39.13, actor_id=b7346cedad70ed9ca4ac5a7401000000, repr=<ray.train._internal.worker_group.RayTrainWorker object at 0x7f73131c5cd0>)\n",
      "           ^^^^^^^^^^^^^^^^^^^^^^^^^^^^^^^^^^^^\n",
      "           ^^^^^^^^^^^^^^^^^^^^^^^^^^^^^^^\n",
      "  File \"/home/samjhall/miniconda3/envs/pyg-schnet/lib/python3.11/site-packages/ray/train/_internal/worker_group.py\", line 33, in __execute\n",
      "    raise skipped from exception_cause(skipped)\n",
      "  File \"/home/samjhall/miniconda3/envs/pyg-schnet/lib/python3.11/site-packages/ray/train/_internal/utils.py\", line 176, in discard_return_wrapper\n",
      "    train_func(*args, **kwargs)\n",
      "  File \"/tmp/ipykernel_156172/1938588938.py\", line 11, in train_func\n",
      "NameError: name 'L' is not defined\n",
      "2024-11-11 16:23:39,562\tERROR tune_controller.py:1331 -- Trial task failed for trial TorchTrainer_e8c34_00003\n",
      "Traceback (most recent call last):\n",
      "  File \"/home/samjhall/miniconda3/envs/pyg-schnet/lib/python3.11/site-packages/ray/air/execution/_internal/event_manager.py\", line 110, in resolve_future\n",
      "    result = ray.get(future)\n",
      "             ^^^^^^^^^^^^^^^\n",
      "  File \"/home/samjhall/miniconda3/envs/pyg-schnet/lib/python3.11/site-packages/ray/_private/auto_init_hook.py\", line 21, in auto_init_wrapper\n",
      "    return fn(*args, **kwargs)\n",
      "           ^^^^^^^^^^^^^^^^^^^\n",
      "  File \"/home/samjhall/miniconda3/envs/pyg-schnet/lib/python3.11/site-packages/ray/_private/client_mode_hook.py\", line 103, in wrapper\n",
      "    return func(*args, **kwargs)\n",
      "           ^^^^^^^^^^^^^^^^^^^^^\n",
      "  File \"/home/samjhall/miniconda3/envs/pyg-schnet/lib/python3.11/site-packages/ray/_private/worker.py\", line 2691, in get\n",
      "    values, debugger_breakpoint = worker.get_objects(object_refs, timeout=timeout)\n",
      "                                  ^^^^^^^^^^^^^^^^^^^^^^^^^^^^^^^^^^^^^^^^^^^^^^^^\n",
      "  File \"/home/samjhall/miniconda3/envs/pyg-schnet/lib/python3.11/site-packages/ray/_private/worker.py\", line 871, in get_objects\n",
      "    raise value.as_instanceof_cause()\n",
      "ray.exceptions.RayTaskError(NameError): \u001b[36mray::_Inner.train()\u001b[39m (pid=158126, ip=172.21.39.13, actor_id=beaaeda859f8d5f24cd31ea501000000, repr=TorchTrainer)\n",
      "           ^^^^^^^^^^^^^^^^^^^^^^^^^^^^^^^^^^^^\n",
      "           ^^^^^^^^^^^^^^^^^^^^^^^^^^^^^^^\n",
      "  File \"/home/samjhall/miniconda3/envs/pyg-schnet/lib/python3.11/site-packages/ray/tune/trainable/trainable.py\", line 331, in train\n",
      "    raise skipped from exception_cause(skipped)\n",
      "  File \"/home/samjhall/miniconda3/envs/pyg-schnet/lib/python3.11/site-packages/ray/train/_internal/utils.py\", line 57, in check_for_failure\n",
      "    ray.get(object_ref)\n",
      "           ^^^^^^^^^^^^^^^^^^^\n",
      "           ^^^^^^^^^^^^^^^^^^^^^\n",
      "                                  ^^^^^^^^^^^^^^^^^^^^^^^^^^^^^^^^^^^^^^^^^^^^^^^^\n",
      "ray.exceptions.RayTaskError(NameError): \u001b[36mray::_RayTrainWorker__execute.get_next()\u001b[39m (pid=158902, ip=172.21.39.13, actor_id=3ccc6f93c1fd2f42bb2b142401000000, repr=<ray.train._internal.worker_group.RayTrainWorker object at 0x7fa92b13eb90>)\n",
      "           ^^^^^^^^^^^^^^^^^^^^^^^^^^^^^^^^^^^^\n",
      "           ^^^^^^^^^^^^^^^^^^^^^^^^^^^^^^^\n",
      "  File \"/home/samjhall/miniconda3/envs/pyg-schnet/lib/python3.11/site-packages/ray/train/_internal/worker_group.py\", line 33, in __execute\n",
      "    raise skipped from exception_cause(skipped)\n",
      "  File \"/home/samjhall/miniconda3/envs/pyg-schnet/lib/python3.11/site-packages/ray/train/_internal/utils.py\", line 176, in discard_return_wrapper\n",
      "    train_func(*args, **kwargs)\n",
      "  File \"/tmp/ipykernel_156172/1938588938.py\", line 11, in train_func\n",
      "NameError: name 'L' is not defined\n",
      "2024-11-11 16:23:39,564\tERROR tune_controller.py:1331 -- Trial task failed for trial TorchTrainer_e8c34_00002\n",
      "Traceback (most recent call last):\n",
      "  File \"/home/samjhall/miniconda3/envs/pyg-schnet/lib/python3.11/site-packages/ray/air/execution/_internal/event_manager.py\", line 110, in resolve_future\n",
      "    result = ray.get(future)\n",
      "             ^^^^^^^^^^^^^^^\n",
      "  File \"/home/samjhall/miniconda3/envs/pyg-schnet/lib/python3.11/site-packages/ray/_private/auto_init_hook.py\", line 21, in auto_init_wrapper\n",
      "    return fn(*args, **kwargs)\n",
      "           ^^^^^^^^^^^^^^^^^^^\n",
      "  File \"/home/samjhall/miniconda3/envs/pyg-schnet/lib/python3.11/site-packages/ray/_private/client_mode_hook.py\", line 103, in wrapper\n",
      "    return func(*args, **kwargs)\n",
      "           ^^^^^^^^^^^^^^^^^^^^^\n",
      "  File \"/home/samjhall/miniconda3/envs/pyg-schnet/lib/python3.11/site-packages/ray/_private/worker.py\", line 2691, in get\n",
      "    values, debugger_breakpoint = worker.get_objects(object_refs, timeout=timeout)\n",
      "                                  ^^^^^^^^^^^^^^^^^^^^^^^^^^^^^^^^^^^^^^^^^^^^^^^^\n",
      "  File \"/home/samjhall/miniconda3/envs/pyg-schnet/lib/python3.11/site-packages/ray/_private/worker.py\", line 871, in get_objects\n",
      "    raise value.as_instanceof_cause()\n",
      "ray.exceptions.RayTaskError(NameError): \u001b[36mray::_Inner.train()\u001b[39m (pid=158125, ip=172.21.39.13, actor_id=1d048011084d47e386af12c501000000, repr=TorchTrainer)\n",
      "           ^^^^^^^^^^^^^^^^^^^^^^^^^^^^^^^^^^^^\n",
      "           ^^^^^^^^^^^^^^^^^^^^^^^^^^^^^^^\n",
      "  File \"/home/samjhall/miniconda3/envs/pyg-schnet/lib/python3.11/site-packages/ray/tune/trainable/trainable.py\", line 331, in train\n",
      "    raise skipped from exception_cause(skipped)\n",
      "  File \"/home/samjhall/miniconda3/envs/pyg-schnet/lib/python3.11/site-packages/ray/train/_internal/utils.py\", line 57, in check_for_failure\n",
      "    ray.get(object_ref)\n",
      "           ^^^^^^^^^^^^^^^^^^^\n",
      "           ^^^^^^^^^^^^^^^^^^^^^\n",
      "                                  ^^^^^^^^^^^^^^^^^^^^^^^^^^^^^^^^^^^^^^^^^^^^^^^^\n",
      "ray.exceptions.RayTaskError(NameError): \u001b[36mray::_RayTrainWorker__execute.get_next()\u001b[39m (pid=158903, ip=172.21.39.13, actor_id=293c2aa7000f12d5026acf0801000000, repr=<ray.train._internal.worker_group.RayTrainWorker object at 0x7f1380a0ea90>)\n",
      "           ^^^^^^^^^^^^^^^^^^^^^^^^^^^^^^^^^^^^\n",
      "           ^^^^^^^^^^^^^^^^^^^^^^^^^^^^^^^\n",
      "  File \"/home/samjhall/miniconda3/envs/pyg-schnet/lib/python3.11/site-packages/ray/train/_internal/worker_group.py\", line 33, in __execute\n",
      "    raise skipped from exception_cause(skipped)\n",
      "  File \"/home/samjhall/miniconda3/envs/pyg-schnet/lib/python3.11/site-packages/ray/train/_internal/utils.py\", line 176, in discard_return_wrapper\n",
      "    train_func(*args, **kwargs)\n",
      "  File \"/tmp/ipykernel_156172/1938588938.py\", line 11, in train_func\n",
      "NameError: name 'L' is not defined\n",
      "2024-11-11 16:23:39,571\tERROR tune_controller.py:1331 -- Trial task failed for trial TorchTrainer_e8c34_00006\n",
      "Traceback (most recent call last):\n",
      "  File \"/home/samjhall/miniconda3/envs/pyg-schnet/lib/python3.11/site-packages/ray/air/execution/_internal/event_manager.py\", line 110, in resolve_future\n",
      "    result = ray.get(future)\n",
      "             ^^^^^^^^^^^^^^^\n",
      "  File \"/home/samjhall/miniconda3/envs/pyg-schnet/lib/python3.11/site-packages/ray/_private/auto_init_hook.py\", line 21, in auto_init_wrapper\n",
      "    return fn(*args, **kwargs)\n",
      "           ^^^^^^^^^^^^^^^^^^^\n",
      "  File \"/home/samjhall/miniconda3/envs/pyg-schnet/lib/python3.11/site-packages/ray/_private/client_mode_hook.py\", line 103, in wrapper\n",
      "    return func(*args, **kwargs)\n",
      "           ^^^^^^^^^^^^^^^^^^^^^\n",
      "  File \"/home/samjhall/miniconda3/envs/pyg-schnet/lib/python3.11/site-packages/ray/_private/worker.py\", line 2691, in get\n",
      "    values, debugger_breakpoint = worker.get_objects(object_refs, timeout=timeout)\n",
      "                                  ^^^^^^^^^^^^^^^^^^^^^^^^^^^^^^^^^^^^^^^^^^^^^^^^\n",
      "  File \"/home/samjhall/miniconda3/envs/pyg-schnet/lib/python3.11/site-packages/ray/_private/worker.py\", line 871, in get_objects\n",
      "    raise value.as_instanceof_cause()\n",
      "ray.exceptions.RayTaskError(NameError): \u001b[36mray::_Inner.train()\u001b[39m (pid=158128, ip=172.21.39.13, actor_id=f9f56062cfbc8655f22c986901000000, repr=TorchTrainer)\n",
      "           ^^^^^^^^^^^^^^^^^^^^^^^^^^^^^^^^^^^^\n",
      "           ^^^^^^^^^^^^^^^^^^^^^^^^^^^^^^^\n",
      "  File \"/home/samjhall/miniconda3/envs/pyg-schnet/lib/python3.11/site-packages/ray/tune/trainable/trainable.py\", line 331, in train\n",
      "    raise skipped from exception_cause(skipped)\n",
      "  File \"/home/samjhall/miniconda3/envs/pyg-schnet/lib/python3.11/site-packages/ray/train/_internal/utils.py\", line 57, in check_for_failure\n",
      "    ray.get(object_ref)\n",
      "           ^^^^^^^^^^^^^^^^^^^\n",
      "           ^^^^^^^^^^^^^^^^^^^^^\n",
      "                                  ^^^^^^^^^^^^^^^^^^^^^^^^^^^^^^^^^^^^^^^^^^^^^^^^\n",
      "ray.exceptions.RayTaskError(NameError): \u001b[36mray::_RayTrainWorker__execute.get_next()\u001b[39m (pid=158906, ip=172.21.39.13, actor_id=19d4044371946d661b8a752601000000, repr=<ray.train._internal.worker_group.RayTrainWorker object at 0x7f36c6ee0b50>)\n",
      "           ^^^^^^^^^^^^^^^^^^^^^^^^^^^^^^^^^^^^\n",
      "           ^^^^^^^^^^^^^^^^^^^^^^^^^^^^^^^\n",
      "  File \"/home/samjhall/miniconda3/envs/pyg-schnet/lib/python3.11/site-packages/ray/train/_internal/worker_group.py\", line 33, in __execute\n",
      "    raise skipped from exception_cause(skipped)\n",
      "  File \"/home/samjhall/miniconda3/envs/pyg-schnet/lib/python3.11/site-packages/ray/train/_internal/utils.py\", line 176, in discard_return_wrapper\n",
      "    train_func(*args, **kwargs)\n",
      "  File \"/tmp/ipykernel_156172/1938588938.py\", line 11, in train_func\n",
      "NameError: name 'L' is not defined\n",
      "2024-11-11 16:23:39,574\tERROR tune_controller.py:1331 -- Trial task failed for trial TorchTrainer_e8c34_00009\n",
      "Traceback (most recent call last):\n",
      "  File \"/home/samjhall/miniconda3/envs/pyg-schnet/lib/python3.11/site-packages/ray/air/execution/_internal/event_manager.py\", line 110, in resolve_future\n",
      "    result = ray.get(future)\n",
      "             ^^^^^^^^^^^^^^^\n",
      "  File \"/home/samjhall/miniconda3/envs/pyg-schnet/lib/python3.11/site-packages/ray/_private/auto_init_hook.py\", line 21, in auto_init_wrapper\n",
      "    return fn(*args, **kwargs)\n",
      "           ^^^^^^^^^^^^^^^^^^^\n",
      "  File \"/home/samjhall/miniconda3/envs/pyg-schnet/lib/python3.11/site-packages/ray/_private/client_mode_hook.py\", line 103, in wrapper\n",
      "    return func(*args, **kwargs)\n",
      "           ^^^^^^^^^^^^^^^^^^^^^\n",
      "  File \"/home/samjhall/miniconda3/envs/pyg-schnet/lib/python3.11/site-packages/ray/_private/worker.py\", line 2691, in get\n",
      "    values, debugger_breakpoint = worker.get_objects(object_refs, timeout=timeout)\n",
      "                                  ^^^^^^^^^^^^^^^^^^^^^^^^^^^^^^^^^^^^^^^^^^^^^^^^\n",
      "  File \"/home/samjhall/miniconda3/envs/pyg-schnet/lib/python3.11/site-packages/ray/_private/worker.py\", line 871, in get_objects\n",
      "    raise value.as_instanceof_cause()\n",
      "ray.exceptions.RayTaskError(NameError): \u001b[36mray::_Inner.train()\u001b[39m (pid=158132, ip=172.21.39.13, actor_id=abfac2c4965f4158418cc6ac01000000, repr=TorchTrainer)\n",
      "           ^^^^^^^^^^^^^^^^^^^^^^^^^^^^^^^^^^^^\n",
      "           ^^^^^^^^^^^^^^^^^^^^^^^^^^^^^^^\n",
      "  File \"/home/samjhall/miniconda3/envs/pyg-schnet/lib/python3.11/site-packages/ray/tune/trainable/trainable.py\", line 331, in train\n",
      "    raise skipped from exception_cause(skipped)\n",
      "  File \"/home/samjhall/miniconda3/envs/pyg-schnet/lib/python3.11/site-packages/ray/train/_internal/utils.py\", line 57, in check_for_failure\n",
      "    ray.get(object_ref)\n",
      "           ^^^^^^^^^^^^^^^^^^^\n",
      "           ^^^^^^^^^^^^^^^^^^^^^\n",
      "                                  ^^^^^^^^^^^^^^^^^^^^^^^^^^^^^^^^^^^^^^^^^^^^^^^^\n",
      "ray.exceptions.RayTaskError(NameError): \u001b[36mray::_RayTrainWorker__execute.get_next()\u001b[39m (pid=158905, ip=172.21.39.13, actor_id=45af96f6bc704ae86e35dbd501000000, repr=<ray.train._internal.worker_group.RayTrainWorker object at 0x7fbe6ca789d0>)\n",
      "           ^^^^^^^^^^^^^^^^^^^^^^^^^^^^^^^^^^^^\n",
      "           ^^^^^^^^^^^^^^^^^^^^^^^^^^^^^^^\n",
      "  File \"/home/samjhall/miniconda3/envs/pyg-schnet/lib/python3.11/site-packages/ray/train/_internal/worker_group.py\", line 33, in __execute\n",
      "    raise skipped from exception_cause(skipped)\n",
      "  File \"/home/samjhall/miniconda3/envs/pyg-schnet/lib/python3.11/site-packages/ray/train/_internal/utils.py\", line 176, in discard_return_wrapper\n",
      "    train_func(*args, **kwargs)\n",
      "  File \"/tmp/ipykernel_156172/1938588938.py\", line 11, in train_func\n",
      "NameError: name 'L' is not defined\n",
      "2024-11-11 16:23:39,605\tERROR tune_controller.py:1331 -- Trial task failed for trial TorchTrainer_e8c34_00004\n",
      "Traceback (most recent call last):\n",
      "  File \"/home/samjhall/miniconda3/envs/pyg-schnet/lib/python3.11/site-packages/ray/air/execution/_internal/event_manager.py\", line 110, in resolve_future\n",
      "    result = ray.get(future)\n",
      "             ^^^^^^^^^^^^^^^\n",
      "  File \"/home/samjhall/miniconda3/envs/pyg-schnet/lib/python3.11/site-packages/ray/_private/auto_init_hook.py\", line 21, in auto_init_wrapper\n",
      "    return fn(*args, **kwargs)\n",
      "           ^^^^^^^^^^^^^^^^^^^\n",
      "  File \"/home/samjhall/miniconda3/envs/pyg-schnet/lib/python3.11/site-packages/ray/_private/client_mode_hook.py\", line 103, in wrapper\n",
      "    return func(*args, **kwargs)\n",
      "           ^^^^^^^^^^^^^^^^^^^^^\n",
      "  File \"/home/samjhall/miniconda3/envs/pyg-schnet/lib/python3.11/site-packages/ray/_private/worker.py\", line 2691, in get\n",
      "    values, debugger_breakpoint = worker.get_objects(object_refs, timeout=timeout)\n",
      "                                  ^^^^^^^^^^^^^^^^^^^^^^^^^^^^^^^^^^^^^^^^^^^^^^^^\n",
      "  File \"/home/samjhall/miniconda3/envs/pyg-schnet/lib/python3.11/site-packages/ray/_private/worker.py\", line 871, in get_objects\n",
      "    raise value.as_instanceof_cause()\n",
      "ray.exceptions.RayTaskError(NameError): \u001b[36mray::_Inner.train()\u001b[39m (pid=158127, ip=172.21.39.13, actor_id=2519aaec34239aed75cf0af201000000, repr=TorchTrainer)\n",
      "           ^^^^^^^^^^^^^^^^^^^^^^^^^^^^^^^^^^^^\n",
      "           ^^^^^^^^^^^^^^^^^^^^^^^^^^^^^^^\n",
      "  File \"/home/samjhall/miniconda3/envs/pyg-schnet/lib/python3.11/site-packages/ray/tune/trainable/trainable.py\", line 331, in train\n",
      "    raise skipped from exception_cause(skipped)\n",
      "  File \"/home/samjhall/miniconda3/envs/pyg-schnet/lib/python3.11/site-packages/ray/train/_internal/utils.py\", line 57, in check_for_failure\n",
      "    ray.get(object_ref)\n",
      "           ^^^^^^^^^^^^^^^^^^^\n",
      "           ^^^^^^^^^^^^^^^^^^^^^\n",
      "                                  ^^^^^^^^^^^^^^^^^^^^^^^^^^^^^^^^^^^^^^^^^^^^^^^^\n",
      "ray.exceptions.RayTaskError(NameError): \u001b[36mray::_RayTrainWorker__execute.get_next()\u001b[39m (pid=158807, ip=172.21.39.13, actor_id=482916274ca6bdd77ff624a501000000, repr=<ray.train._internal.worker_group.RayTrainWorker object at 0x7f6398796a90>)\n",
      "           ^^^^^^^^^^^^^^^^^^^^^^^^^^^^^^^^^^^^\n",
      "           ^^^^^^^^^^^^^^^^^^^^^^^^^^^^^^^\n",
      "  File \"/home/samjhall/miniconda3/envs/pyg-schnet/lib/python3.11/site-packages/ray/train/_internal/worker_group.py\", line 33, in __execute\n",
      "    raise skipped from exception_cause(skipped)\n",
      "  File \"/home/samjhall/miniconda3/envs/pyg-schnet/lib/python3.11/site-packages/ray/train/_internal/utils.py\", line 176, in discard_return_wrapper\n",
      "    train_func(*args, **kwargs)\n",
      "  File \"/tmp/ipykernel_156172/1938588938.py\", line 11, in train_func\n",
      "NameError: name 'L' is not defined\n",
      "2024-11-11 16:23:39,628\tERROR tune_controller.py:1331 -- Trial task failed for trial TorchTrainer_e8c34_00008\n",
      "Traceback (most recent call last):\n",
      "  File \"/home/samjhall/miniconda3/envs/pyg-schnet/lib/python3.11/site-packages/ray/air/execution/_internal/event_manager.py\", line 110, in resolve_future\n",
      "    result = ray.get(future)\n",
      "             ^^^^^^^^^^^^^^^\n",
      "  File \"/home/samjhall/miniconda3/envs/pyg-schnet/lib/python3.11/site-packages/ray/_private/auto_init_hook.py\", line 21, in auto_init_wrapper\n",
      "    return fn(*args, **kwargs)\n",
      "           ^^^^^^^^^^^^^^^^^^^\n",
      "  File \"/home/samjhall/miniconda3/envs/pyg-schnet/lib/python3.11/site-packages/ray/_private/client_mode_hook.py\", line 103, in wrapper\n",
      "    return func(*args, **kwargs)\n",
      "           ^^^^^^^^^^^^^^^^^^^^^\n",
      "  File \"/home/samjhall/miniconda3/envs/pyg-schnet/lib/python3.11/site-packages/ray/_private/worker.py\", line 2691, in get\n",
      "    values, debugger_breakpoint = worker.get_objects(object_refs, timeout=timeout)\n",
      "                                  ^^^^^^^^^^^^^^^^^^^^^^^^^^^^^^^^^^^^^^^^^^^^^^^^\n",
      "  File \"/home/samjhall/miniconda3/envs/pyg-schnet/lib/python3.11/site-packages/ray/_private/worker.py\", line 871, in get_objects\n",
      "    raise value.as_instanceof_cause()\n",
      "ray.exceptions.RayTaskError(NameError): \u001b[36mray::_Inner.train()\u001b[39m (pid=158131, ip=172.21.39.13, actor_id=9fb1ee45f92048b802455e6101000000, repr=TorchTrainer)\n",
      "           ^^^^^^^^^^^^^^^^^^^^^^^^^^^^^^^^^^^^\n",
      "           ^^^^^^^^^^^^^^^^^^^^^^^^^^^^^^^\n",
      "  File \"/home/samjhall/miniconda3/envs/pyg-schnet/lib/python3.11/site-packages/ray/tune/trainable/trainable.py\", line 331, in train\n",
      "    raise skipped from exception_cause(skipped)\n",
      "  File \"/home/samjhall/miniconda3/envs/pyg-schnet/lib/python3.11/site-packages/ray/train/_internal/utils.py\", line 57, in check_for_failure\n",
      "    ray.get(object_ref)\n",
      "           ^^^^^^^^^^^^^^^^^^^\n",
      "           ^^^^^^^^^^^^^^^^^^^^^\n",
      "                                  ^^^^^^^^^^^^^^^^^^^^^^^^^^^^^^^^^^^^^^^^^^^^^^^^\n",
      "ray.exceptions.RayTaskError(NameError): \u001b[36mray::_RayTrainWorker__execute.get_next()\u001b[39m (pid=158818, ip=172.21.39.13, actor_id=60a9933b1029e812379cc9b001000000, repr=<ray.train._internal.worker_group.RayTrainWorker object at 0x7f4cc4c53410>)\n",
      "           ^^^^^^^^^^^^^^^^^^^^^^^^^^^^^^^^^^^^\n",
      "           ^^^^^^^^^^^^^^^^^^^^^^^^^^^^^^^\n",
      "  File \"/home/samjhall/miniconda3/envs/pyg-schnet/lib/python3.11/site-packages/ray/train/_internal/worker_group.py\", line 33, in __execute\n",
      "    raise skipped from exception_cause(skipped)\n",
      "  File \"/home/samjhall/miniconda3/envs/pyg-schnet/lib/python3.11/site-packages/ray/train/_internal/utils.py\", line 176, in discard_return_wrapper\n",
      "    train_func(*args, **kwargs)\n",
      "  File \"/tmp/ipykernel_156172/1938588938.py\", line 11, in train_func\n",
      "NameError: name 'L' is not defined\n",
      "2024-11-11 16:23:39,678\tERROR tune_controller.py:1331 -- Trial task failed for trial TorchTrainer_e8c34_00001\n",
      "Traceback (most recent call last):\n",
      "  File \"/home/samjhall/miniconda3/envs/pyg-schnet/lib/python3.11/site-packages/ray/air/execution/_internal/event_manager.py\", line 110, in resolve_future\n",
      "    result = ray.get(future)\n",
      "             ^^^^^^^^^^^^^^^\n",
      "  File \"/home/samjhall/miniconda3/envs/pyg-schnet/lib/python3.11/site-packages/ray/_private/auto_init_hook.py\", line 21, in auto_init_wrapper\n",
      "    return fn(*args, **kwargs)\n",
      "           ^^^^^^^^^^^^^^^^^^^\n",
      "  File \"/home/samjhall/miniconda3/envs/pyg-schnet/lib/python3.11/site-packages/ray/_private/client_mode_hook.py\", line 103, in wrapper\n",
      "    return func(*args, **kwargs)\n",
      "           ^^^^^^^^^^^^^^^^^^^^^\n",
      "  File \"/home/samjhall/miniconda3/envs/pyg-schnet/lib/python3.11/site-packages/ray/_private/worker.py\", line 2691, in get\n",
      "    values, debugger_breakpoint = worker.get_objects(object_refs, timeout=timeout)\n",
      "                                  ^^^^^^^^^^^^^^^^^^^^^^^^^^^^^^^^^^^^^^^^^^^^^^^^\n",
      "  File \"/home/samjhall/miniconda3/envs/pyg-schnet/lib/python3.11/site-packages/ray/_private/worker.py\", line 871, in get_objects\n",
      "    raise value.as_instanceof_cause()\n",
      "ray.exceptions.RayTaskError(NameError): \u001b[36mray::_Inner.train()\u001b[39m (pid=158124, ip=172.21.39.13, actor_id=3263f796e1abb75c01bb11b301000000, repr=TorchTrainer)\n",
      "           ^^^^^^^^^^^^^^^^^^^^^^^^^^^^^^^^^^^^\n",
      "           ^^^^^^^^^^^^^^^^^^^^^^^^^^^^^^^\n",
      "  File \"/home/samjhall/miniconda3/envs/pyg-schnet/lib/python3.11/site-packages/ray/tune/trainable/trainable.py\", line 331, in train\n",
      "    raise skipped from exception_cause(skipped)\n",
      "  File \"/home/samjhall/miniconda3/envs/pyg-schnet/lib/python3.11/site-packages/ray/train/_internal/utils.py\", line 57, in check_for_failure\n",
      "    ray.get(object_ref)\n",
      "           ^^^^^^^^^^^^^^^^^^^\n",
      "           ^^^^^^^^^^^^^^^^^^^^^\n",
      "                                  ^^^^^^^^^^^^^^^^^^^^^^^^^^^^^^^^^^^^^^^^^^^^^^^^\n",
      "ray.exceptions.RayTaskError(NameError): \u001b[36mray::_RayTrainWorker__execute.get_next()\u001b[39m (pid=158829, ip=172.21.39.13, actor_id=7ce94c29d7e146509eea4ea801000000, repr=<ray.train._internal.worker_group.RayTrainWorker object at 0x7f245f27ae10>)\n",
      "           ^^^^^^^^^^^^^^^^^^^^^^^^^^^^^^^^^^^^\n",
      "           ^^^^^^^^^^^^^^^^^^^^^^^^^^^^^^^\n",
      "  File \"/home/samjhall/miniconda3/envs/pyg-schnet/lib/python3.11/site-packages/ray/train/_internal/worker_group.py\", line 33, in __execute\n",
      "    raise skipped from exception_cause(skipped)\n",
      "  File \"/home/samjhall/miniconda3/envs/pyg-schnet/lib/python3.11/site-packages/ray/train/_internal/utils.py\", line 176, in discard_return_wrapper\n",
      "    train_func(*args, **kwargs)\n",
      "  File \"/tmp/ipykernel_156172/1938588938.py\", line 11, in train_func\n",
      "NameError: name 'L' is not defined\n",
      "2024-11-11 16:23:39,689\tINFO tune.py:1009 -- Wrote the latest version of all result files and experiment state to '/home/samjhall/ray_results/TorchTrainer_2024-11-11_16-23-30' in 0.0083s.\n",
      "2024-11-11 16:23:39,693\tERROR tune.py:1037 -- Trials did not complete: [TorchTrainer_e8c34_00000, TorchTrainer_e8c34_00001, TorchTrainer_e8c34_00002, TorchTrainer_e8c34_00003, TorchTrainer_e8c34_00004, TorchTrainer_e8c34_00005, TorchTrainer_e8c34_00006, TorchTrainer_e8c34_00007, TorchTrainer_e8c34_00008, TorchTrainer_e8c34_00009]\n",
      "2024-11-11 16:23:39,694\tINFO tune.py:1041 -- Total run time: 8.17 seconds (8.14 seconds for the tuning loop).\n"
     ]
    },
    {
     "name": "stderr",
     "output_type": "stream",
     "text": [
      "\u001b[33m(raylet)\u001b[0m [2024-11-11 16:24:30,997 E 156630 156630] (raylet) node_manager.cc:3065: 5 Workers (tasks / actors) killed due to memory pressure (OOM), 0 Workers crashed due to other reasons at node (ID: ccaca6f13b23c1d435962cfc02dd116f93442a48f18e9989fabc0774, IP: 172.21.39.13) over the last time period. To see more information about the Workers killed on this node, use `ray logs raylet.out -ip 172.21.39.13`\n",
      "\u001b[33m(raylet)\u001b[0m \n",
      "\u001b[33m(raylet)\u001b[0m Refer to the documentation on how to address the out of memory issue: https://docs.ray.io/en/latest/ray-core/scheduling/ray-oom-prevention.html. Consider provisioning more memory on this node or reducing task parallelism by requesting more CPUs per task. To adjust the kill threshold, set the environment variable `RAY_memory_usage_threshold` when starting Ray. To disable worker killing, set the environment variable `RAY_memory_monitor_refresh_ms` to zero.\n"
     ]
    }
   ],
   "source": [
    "results = tune_asha(num_samples=num_samples)"
   ]
  },
  {
   "cell_type": "code",
   "execution_count": 15,
   "metadata": {},
   "outputs": [
    {
     "data": {
      "text/plain": [
       "GNN_model(\n",
       "  (convs): ModuleList(\n",
       "    (0): GCNConv(6, 64)\n",
       "    (1): GCNConv(64, 128)\n",
       "    (2): GCNConv(128, 256)\n",
       "  )\n",
       "  (batch_norms): ModuleList(\n",
       "    (0): BatchNorm1d(64, eps=1e-05, momentum=0.1, affine=True, track_running_stats=True)\n",
       "    (1): BatchNorm1d(128, eps=1e-05, momentum=0.1, affine=True, track_running_stats=True)\n",
       "    (2): BatchNorm1d(256, eps=1e-05, momentum=0.1, affine=True, track_running_stats=True)\n",
       "  )\n",
       "  (graph_pred_linear): Linear(in_features=256, out_features=200, bias=True)\n",
       ")"
      ]
     },
     "execution_count": 15,
     "metadata": {},
     "output_type": "execute_result"
    }
   ],
   "source": [
    "model = GNN_model(config)\n",
    "model"
   ]
  },
  {
   "cell_type": "code",
   "execution_count": 16,
   "metadata": {},
   "outputs": [
    {
     "name": "stderr",
     "output_type": "stream",
     "text": [
      "Seed set to 1994\n",
      "GPU available: True (cuda), used: True\n",
      "TPU available: False, using: 0 TPU cores\n",
      "HPU available: False, using: 0 HPUs\n"
     ]
    }
   ],
   "source": [
    "# --- Seed for reproducability\n",
    "pl.seed_everything(1994, workers=True)\n",
    "torch.backends.cudnn.deterministic = True\n",
    "# torch.backends.cudnn.benchmark = False\n",
    "torch.use_deterministic_algorithms=True\n",
    "# --- Path to save model\n",
    "path = './ml_model'\n",
    "logger = pl.loggers.TensorBoardLogger(save_dir=path)\n",
    "# --- Lightining trainer\n",
    "trainer = pl.Trainer(logger=logger,\n",
    "                    default_root_dir=path,\n",
    "                    max_epochs=50, \n",
    "                    accelerator='auto',\n",
    "                    log_every_n_steps=1)"
   ]
  },
  {
   "cell_type": "code",
   "execution_count": 17,
   "metadata": {},
   "outputs": [
    {
     "name": "stderr",
     "output_type": "stream",
     "text": [
      "LOCAL_RANK: 0 - CUDA_VISIBLE_DEVICES: [0]\n",
      "\n",
      "  | Name              | Type       | Params | Mode \n",
      "---------------------------------------------------------\n",
      "0 | convs             | ModuleList | 41.8 K | train\n",
      "1 | batch_norms       | ModuleList | 896    | train\n",
      "2 | graph_pred_linear | Linear     | 51.4 K | train\n",
      "---------------------------------------------------------\n",
      "94.1 K    Trainable params\n",
      "0         Non-trainable params\n",
      "94.1 K    Total params\n",
      "0.376     Total estimated model params size (MB)\n",
      "15        Modules in train mode\n",
      "0         Modules in eval mode\n"
     ]
    },
    {
     "data": {
      "application/vnd.jupyter.widget-view+json": {
       "model_id": "d61f8e583424440497c96ff9b45a2cc4",
       "version_major": 2,
       "version_minor": 0
      },
      "text/plain": [
       "Sanity Checking: |          | 0/? [00:00<?, ?it/s]"
      ]
     },
     "metadata": {},
     "output_type": "display_data"
    },
    {
     "data": {
      "application/vnd.jupyter.widget-view+json": {
       "model_id": "b4ec72e533e9443584d2dfcb54e96059",
       "version_major": 2,
       "version_minor": 0
      },
      "text/plain": [
       "Training: |          | 0/? [00:00<?, ?it/s]"
      ]
     },
     "metadata": {},
     "output_type": "display_data"
    },
    {
     "data": {
      "application/vnd.jupyter.widget-view+json": {
       "model_id": "cc07b4679d9e418ca3c84e6e4bd716cf",
       "version_major": 2,
       "version_minor": 0
      },
      "text/plain": [
       "Validation: |          | 0/? [00:00<?, ?it/s]"
      ]
     },
     "metadata": {},
     "output_type": "display_data"
    },
    {
     "data": {
      "application/vnd.jupyter.widget-view+json": {
       "model_id": "36d94bef4a4d41edb104f8ec35fb07db",
       "version_major": 2,
       "version_minor": 0
      },
      "text/plain": [
       "Validation: |          | 0/? [00:00<?, ?it/s]"
      ]
     },
     "metadata": {},
     "output_type": "display_data"
    },
    {
     "data": {
      "application/vnd.jupyter.widget-view+json": {
       "model_id": "13a7201a825c4b44b06d19faef437ff7",
       "version_major": 2,
       "version_minor": 0
      },
      "text/plain": [
       "Validation: |          | 0/? [00:00<?, ?it/s]"
      ]
     },
     "metadata": {},
     "output_type": "display_data"
    },
    {
     "data": {
      "application/vnd.jupyter.widget-view+json": {
       "model_id": "039f4289bf55482c95281109613c2cf5",
       "version_major": 2,
       "version_minor": 0
      },
      "text/plain": [
       "Validation: |          | 0/? [00:00<?, ?it/s]"
      ]
     },
     "metadata": {},
     "output_type": "display_data"
    },
    {
     "data": {
      "application/vnd.jupyter.widget-view+json": {
       "model_id": "11fe3b0cb5934740974f6a5ecb10e71c",
       "version_major": 2,
       "version_minor": 0
      },
      "text/plain": [
       "Validation: |          | 0/? [00:00<?, ?it/s]"
      ]
     },
     "metadata": {},
     "output_type": "display_data"
    },
    {
     "data": {
      "application/vnd.jupyter.widget-view+json": {
       "model_id": "81ffe285f8fe4a3380d7d768d18dc465",
       "version_major": 2,
       "version_minor": 0
      },
      "text/plain": [
       "Validation: |          | 0/? [00:00<?, ?it/s]"
      ]
     },
     "metadata": {},
     "output_type": "display_data"
    },
    {
     "data": {
      "application/vnd.jupyter.widget-view+json": {
       "model_id": "a2fff99f06f64221bbf0c687e94e1140",
       "version_major": 2,
       "version_minor": 0
      },
      "text/plain": [
       "Validation: |          | 0/? [00:00<?, ?it/s]"
      ]
     },
     "metadata": {},
     "output_type": "display_data"
    },
    {
     "data": {
      "application/vnd.jupyter.widget-view+json": {
       "model_id": "4b852e7de5a442a0b575563e5f889c0c",
       "version_major": 2,
       "version_minor": 0
      },
      "text/plain": [
       "Validation: |          | 0/? [00:00<?, ?it/s]"
      ]
     },
     "metadata": {},
     "output_type": "display_data"
    },
    {
     "data": {
      "application/vnd.jupyter.widget-view+json": {
       "model_id": "26920737e0e4488ab1088badcb64bf8e",
       "version_major": 2,
       "version_minor": 0
      },
      "text/plain": [
       "Validation: |          | 0/? [00:00<?, ?it/s]"
      ]
     },
     "metadata": {},
     "output_type": "display_data"
    },
    {
     "data": {
      "application/vnd.jupyter.widget-view+json": {
       "model_id": "6532cdf4806e476c918d15a8aa5f9e6a",
       "version_major": 2,
       "version_minor": 0
      },
      "text/plain": [
       "Validation: |          | 0/? [00:00<?, ?it/s]"
      ]
     },
     "metadata": {},
     "output_type": "display_data"
    },
    {
     "data": {
      "application/vnd.jupyter.widget-view+json": {
       "model_id": "450e1590a64d4c4992aebfeb1d0c1b28",
       "version_major": 2,
       "version_minor": 0
      },
      "text/plain": [
       "Validation: |          | 0/? [00:00<?, ?it/s]"
      ]
     },
     "metadata": {},
     "output_type": "display_data"
    },
    {
     "data": {
      "application/vnd.jupyter.widget-view+json": {
       "model_id": "7fb5ed7b0eeb4f19846ad205fa7bdf6e",
       "version_major": 2,
       "version_minor": 0
      },
      "text/plain": [
       "Validation: |          | 0/? [00:00<?, ?it/s]"
      ]
     },
     "metadata": {},
     "output_type": "display_data"
    },
    {
     "data": {
      "application/vnd.jupyter.widget-view+json": {
       "model_id": "e073067d7823464f9da1d43cd040a1fd",
       "version_major": 2,
       "version_minor": 0
      },
      "text/plain": [
       "Validation: |          | 0/? [00:00<?, ?it/s]"
      ]
     },
     "metadata": {},
     "output_type": "display_data"
    },
    {
     "data": {
      "application/vnd.jupyter.widget-view+json": {
       "model_id": "daf8876546e34e20b2dea915335fa130",
       "version_major": 2,
       "version_minor": 0
      },
      "text/plain": [
       "Validation: |          | 0/? [00:00<?, ?it/s]"
      ]
     },
     "metadata": {},
     "output_type": "display_data"
    },
    {
     "data": {
      "application/vnd.jupyter.widget-view+json": {
       "model_id": "7bc8622dba974b5594caa704ef49e531",
       "version_major": 2,
       "version_minor": 0
      },
      "text/plain": [
       "Validation: |          | 0/? [00:00<?, ?it/s]"
      ]
     },
     "metadata": {},
     "output_type": "display_data"
    },
    {
     "data": {
      "application/vnd.jupyter.widget-view+json": {
       "model_id": "539cf6e40ed54d65a7b6b860877a134d",
       "version_major": 2,
       "version_minor": 0
      },
      "text/plain": [
       "Validation: |          | 0/? [00:00<?, ?it/s]"
      ]
     },
     "metadata": {},
     "output_type": "display_data"
    },
    {
     "data": {
      "application/vnd.jupyter.widget-view+json": {
       "model_id": "b46edb89732440dfb7bcb61aeee22621",
       "version_major": 2,
       "version_minor": 0
      },
      "text/plain": [
       "Validation: |          | 0/? [00:00<?, ?it/s]"
      ]
     },
     "metadata": {},
     "output_type": "display_data"
    },
    {
     "data": {
      "application/vnd.jupyter.widget-view+json": {
       "model_id": "e5383b61e6824f9595b6578826c7ca74",
       "version_major": 2,
       "version_minor": 0
      },
      "text/plain": [
       "Validation: |          | 0/? [00:00<?, ?it/s]"
      ]
     },
     "metadata": {},
     "output_type": "display_data"
    },
    {
     "data": {
      "application/vnd.jupyter.widget-view+json": {
       "model_id": "1f07fb71bab54d0f971a3355f537d471",
       "version_major": 2,
       "version_minor": 0
      },
      "text/plain": [
       "Validation: |          | 0/? [00:00<?, ?it/s]"
      ]
     },
     "metadata": {},
     "output_type": "display_data"
    },
    {
     "data": {
      "application/vnd.jupyter.widget-view+json": {
       "model_id": "ed9f142b16a54f7992d921ba2aede23b",
       "version_major": 2,
       "version_minor": 0
      },
      "text/plain": [
       "Validation: |          | 0/? [00:00<?, ?it/s]"
      ]
     },
     "metadata": {},
     "output_type": "display_data"
    },
    {
     "data": {
      "application/vnd.jupyter.widget-view+json": {
       "model_id": "6923e0653bab465091a46b2c8cf3dfff",
       "version_major": 2,
       "version_minor": 0
      },
      "text/plain": [
       "Validation: |          | 0/? [00:00<?, ?it/s]"
      ]
     },
     "metadata": {},
     "output_type": "display_data"
    },
    {
     "data": {
      "application/vnd.jupyter.widget-view+json": {
       "model_id": "78a2aef207f346faa25487c3beaab1d6",
       "version_major": 2,
       "version_minor": 0
      },
      "text/plain": [
       "Validation: |          | 0/? [00:00<?, ?it/s]"
      ]
     },
     "metadata": {},
     "output_type": "display_data"
    },
    {
     "data": {
      "application/vnd.jupyter.widget-view+json": {
       "model_id": "a673dc2f6ecb4825bf1830b03ac8729b",
       "version_major": 2,
       "version_minor": 0
      },
      "text/plain": [
       "Validation: |          | 0/? [00:00<?, ?it/s]"
      ]
     },
     "metadata": {},
     "output_type": "display_data"
    },
    {
     "data": {
      "application/vnd.jupyter.widget-view+json": {
       "model_id": "7038577342ec472e8498dfb870af677f",
       "version_major": 2,
       "version_minor": 0
      },
      "text/plain": [
       "Validation: |          | 0/? [00:00<?, ?it/s]"
      ]
     },
     "metadata": {},
     "output_type": "display_data"
    },
    {
     "data": {
      "application/vnd.jupyter.widget-view+json": {
       "model_id": "efe9dcce807a44ed98bff9c90fb71596",
       "version_major": 2,
       "version_minor": 0
      },
      "text/plain": [
       "Validation: |          | 0/? [00:00<?, ?it/s]"
      ]
     },
     "metadata": {},
     "output_type": "display_data"
    },
    {
     "data": {
      "application/vnd.jupyter.widget-view+json": {
       "model_id": "447d6c16ab3a4c9897fdc81f1f6a1bf6",
       "version_major": 2,
       "version_minor": 0
      },
      "text/plain": [
       "Validation: |          | 0/? [00:00<?, ?it/s]"
      ]
     },
     "metadata": {},
     "output_type": "display_data"
    },
    {
     "data": {
      "application/vnd.jupyter.widget-view+json": {
       "model_id": "3afd0fe65a714c83b280036625147f2e",
       "version_major": 2,
       "version_minor": 0
      },
      "text/plain": [
       "Validation: |          | 0/? [00:00<?, ?it/s]"
      ]
     },
     "metadata": {},
     "output_type": "display_data"
    },
    {
     "data": {
      "application/vnd.jupyter.widget-view+json": {
       "model_id": "ab854febb2fa42058f73c933e0766f83",
       "version_major": 2,
       "version_minor": 0
      },
      "text/plain": [
       "Validation: |          | 0/? [00:00<?, ?it/s]"
      ]
     },
     "metadata": {},
     "output_type": "display_data"
    },
    {
     "data": {
      "application/vnd.jupyter.widget-view+json": {
       "model_id": "f528db2c4d204ef4840fccaace85f41a",
       "version_major": 2,
       "version_minor": 0
      },
      "text/plain": [
       "Validation: |          | 0/? [00:00<?, ?it/s]"
      ]
     },
     "metadata": {},
     "output_type": "display_data"
    },
    {
     "data": {
      "application/vnd.jupyter.widget-view+json": {
       "model_id": "69371ffa51134c6594db7a1cd82c805d",
       "version_major": 2,
       "version_minor": 0
      },
      "text/plain": [
       "Validation: |          | 0/? [00:00<?, ?it/s]"
      ]
     },
     "metadata": {},
     "output_type": "display_data"
    },
    {
     "data": {
      "application/vnd.jupyter.widget-view+json": {
       "model_id": "9069d42498c44af5b71060a7a23b063d",
       "version_major": 2,
       "version_minor": 0
      },
      "text/plain": [
       "Validation: |          | 0/? [00:00<?, ?it/s]"
      ]
     },
     "metadata": {},
     "output_type": "display_data"
    },
    {
     "data": {
      "application/vnd.jupyter.widget-view+json": {
       "model_id": "62a3d48895fe4b408c891d38cf85618b",
       "version_major": 2,
       "version_minor": 0
      },
      "text/plain": [
       "Validation: |          | 0/? [00:00<?, ?it/s]"
      ]
     },
     "metadata": {},
     "output_type": "display_data"
    },
    {
     "data": {
      "application/vnd.jupyter.widget-view+json": {
       "model_id": "05a1a75dc5d148b9a27ed6946155446a",
       "version_major": 2,
       "version_minor": 0
      },
      "text/plain": [
       "Validation: |          | 0/? [00:00<?, ?it/s]"
      ]
     },
     "metadata": {},
     "output_type": "display_data"
    },
    {
     "data": {
      "application/vnd.jupyter.widget-view+json": {
       "model_id": "2765771ed7794320bc16b1f2c5a7b2da",
       "version_major": 2,
       "version_minor": 0
      },
      "text/plain": [
       "Validation: |          | 0/? [00:00<?, ?it/s]"
      ]
     },
     "metadata": {},
     "output_type": "display_data"
    },
    {
     "data": {
      "application/vnd.jupyter.widget-view+json": {
       "model_id": "becf717cb8154917b5bdd7075f378371",
       "version_major": 2,
       "version_minor": 0
      },
      "text/plain": [
       "Validation: |          | 0/? [00:00<?, ?it/s]"
      ]
     },
     "metadata": {},
     "output_type": "display_data"
    },
    {
     "data": {
      "application/vnd.jupyter.widget-view+json": {
       "model_id": "5dde6d7cadf3441697dd8c839ae14b3c",
       "version_major": 2,
       "version_minor": 0
      },
      "text/plain": [
       "Validation: |          | 0/? [00:00<?, ?it/s]"
      ]
     },
     "metadata": {},
     "output_type": "display_data"
    },
    {
     "data": {
      "application/vnd.jupyter.widget-view+json": {
       "model_id": "f82ad396840f446bb497489aece3e668",
       "version_major": 2,
       "version_minor": 0
      },
      "text/plain": [
       "Validation: |          | 0/? [00:00<?, ?it/s]"
      ]
     },
     "metadata": {},
     "output_type": "display_data"
    },
    {
     "data": {
      "application/vnd.jupyter.widget-view+json": {
       "model_id": "e5e57fe9ccb74cbbb83ca3e49eb5cb85",
       "version_major": 2,
       "version_minor": 0
      },
      "text/plain": [
       "Validation: |          | 0/? [00:00<?, ?it/s]"
      ]
     },
     "metadata": {},
     "output_type": "display_data"
    },
    {
     "data": {
      "application/vnd.jupyter.widget-view+json": {
       "model_id": "74596f329bb54959bcfef2c6d37bcdc3",
       "version_major": 2,
       "version_minor": 0
      },
      "text/plain": [
       "Validation: |          | 0/? [00:00<?, ?it/s]"
      ]
     },
     "metadata": {},
     "output_type": "display_data"
    },
    {
     "data": {
      "application/vnd.jupyter.widget-view+json": {
       "model_id": "ebf7c46a791a4ba4b214aa1e103e5dbe",
       "version_major": 2,
       "version_minor": 0
      },
      "text/plain": [
       "Validation: |          | 0/? [00:00<?, ?it/s]"
      ]
     },
     "metadata": {},
     "output_type": "display_data"
    },
    {
     "data": {
      "application/vnd.jupyter.widget-view+json": {
       "model_id": "07d3a1294a884277808a98062801b235",
       "version_major": 2,
       "version_minor": 0
      },
      "text/plain": [
       "Validation: |          | 0/? [00:00<?, ?it/s]"
      ]
     },
     "metadata": {},
     "output_type": "display_data"
    },
    {
     "data": {
      "application/vnd.jupyter.widget-view+json": {
       "model_id": "5f9a267195a440b1a6ba5c1ef3f013be",
       "version_major": 2,
       "version_minor": 0
      },
      "text/plain": [
       "Validation: |          | 0/? [00:00<?, ?it/s]"
      ]
     },
     "metadata": {},
     "output_type": "display_data"
    },
    {
     "data": {
      "application/vnd.jupyter.widget-view+json": {
       "model_id": "9c9cc17033e54ada912cd6d7fa095e1c",
       "version_major": 2,
       "version_minor": 0
      },
      "text/plain": [
       "Validation: |          | 0/? [00:00<?, ?it/s]"
      ]
     },
     "metadata": {},
     "output_type": "display_data"
    },
    {
     "data": {
      "application/vnd.jupyter.widget-view+json": {
       "model_id": "e537e420285846b49d50442380d6b126",
       "version_major": 2,
       "version_minor": 0
      },
      "text/plain": [
       "Validation: |          | 0/? [00:00<?, ?it/s]"
      ]
     },
     "metadata": {},
     "output_type": "display_data"
    },
    {
     "data": {
      "application/vnd.jupyter.widget-view+json": {
       "model_id": "39e88f5cde0f44f6898bf373098e4d77",
       "version_major": 2,
       "version_minor": 0
      },
      "text/plain": [
       "Validation: |          | 0/? [00:00<?, ?it/s]"
      ]
     },
     "metadata": {},
     "output_type": "display_data"
    },
    {
     "data": {
      "application/vnd.jupyter.widget-view+json": {
       "model_id": "974bf7afbd6d4a32807e56f441f9b2c1",
       "version_major": 2,
       "version_minor": 0
      },
      "text/plain": [
       "Validation: |          | 0/? [00:00<?, ?it/s]"
      ]
     },
     "metadata": {},
     "output_type": "display_data"
    },
    {
     "data": {
      "application/vnd.jupyter.widget-view+json": {
       "model_id": "9e550483db36449b813508fb7fc934ed",
       "version_major": 2,
       "version_minor": 0
      },
      "text/plain": [
       "Validation: |          | 0/? [00:00<?, ?it/s]"
      ]
     },
     "metadata": {},
     "output_type": "display_data"
    },
    {
     "data": {
      "application/vnd.jupyter.widget-view+json": {
       "model_id": "ffabfd7958ad45519df2cd9d7a0a245e",
       "version_major": 2,
       "version_minor": 0
      },
      "text/plain": [
       "Validation: |          | 0/? [00:00<?, ?it/s]"
      ]
     },
     "metadata": {},
     "output_type": "display_data"
    },
    {
     "data": {
      "application/vnd.jupyter.widget-view+json": {
       "model_id": "860756cecf7947adb3bfa32a80d10be7",
       "version_major": 2,
       "version_minor": 0
      },
      "text/plain": [
       "Validation: |          | 0/? [00:00<?, ?it/s]"
      ]
     },
     "metadata": {},
     "output_type": "display_data"
    },
    {
     "data": {
      "application/vnd.jupyter.widget-view+json": {
       "model_id": "e213307525b44db886ab2e847732478c",
       "version_major": 2,
       "version_minor": 0
      },
      "text/plain": [
       "Validation: |          | 0/? [00:00<?, ?it/s]"
      ]
     },
     "metadata": {},
     "output_type": "display_data"
    },
    {
     "name": "stderr",
     "output_type": "stream",
     "text": [
      "`Trainer.fit` stopped: `max_epochs=50` reached.\n"
     ]
    }
   ],
   "source": [
    "trainer.fit(model, train_loader, val_loader)"
   ]
  },
  {
   "cell_type": "code",
   "execution_count": null,
   "metadata": {},
   "outputs": [],
   "source": []
  },
  {
   "cell_type": "code",
   "execution_count": null,
   "metadata": {},
   "outputs": [],
   "source": []
  },
  {
   "cell_type": "code",
   "execution_count": null,
   "metadata": {},
   "outputs": [],
   "source": []
  },
  {
   "cell_type": "code",
   "execution_count": 38,
   "metadata": {},
   "outputs": [],
   "source": [
    "checkpoint = './ml_model/lightning_logs/version_1/checkpoints/epoch=499-step=500.ckpt'\n",
    "\n",
    "test_model = GNN_model.load_from_checkpoint(checkpoint, hparams_file='./ml_model/lightning_logs/version_0/hparams.yaml')"
   ]
  },
  {
   "cell_type": "code",
   "execution_count": 11,
   "metadata": {},
   "outputs": [
    {
     "name": "stderr",
     "output_type": "stream",
     "text": [
      "/home/samjhall/miniconda3/envs/pyg-schnet/lib/python3.11/site-packages/lightning/pytorch/trainer/connectors/data_connector.py:424: The 'test_dataloader' does not have many workers which may be a bottleneck. Consider increasing the value of the `num_workers` argument` to `num_workers=19` in the `DataLoader` to improve performance.\n"
     ]
    },
    {
     "name": "stdout",
     "output_type": "stream",
     "text": [
      "Testing DataLoader 0:   0%|          | 0/1 [00:00<?, ?it/s]"
     ]
    },
    {
     "name": "stdout",
     "output_type": "stream",
     "text": [
      "Testing DataLoader 0: 100%|██████████| 1/1 [00:00<00:00, 92.85it/s] \n"
     ]
    },
    {
     "name": "stderr",
     "output_type": "stream",
     "text": [
      "/home/samjhall/miniconda3/envs/pyg-schnet/lib/python3.11/site-packages/lightning/pytorch/utilities/data.py:78: Trying to infer the `batch_size` from an ambiguous collection. The batch size we found is 1471. To avoid any miscalculations, use `self.log(..., batch_size=batch_size)`.\n"
     ]
    },
    {
     "data": {
      "text/html": [
       "<pre style=\"white-space:pre;overflow-x:auto;line-height:normal;font-family:Menlo,'DejaVu Sans Mono',consolas,'Courier New',monospace\">┏━━━━━━━━━━━━━━━━━━━━━━━━━━━┳━━━━━━━━━━━━━━━━━━━━━━━━━━━┓\n",
       "┃<span style=\"font-weight: bold\">        Test metric        </span>┃<span style=\"font-weight: bold\">       DataLoader 0        </span>┃\n",
       "┡━━━━━━━━━━━━━━━━━━━━━━━━━━━╇━━━━━━━━━━━━━━━━━━━━━━━━━━━┩\n",
       "│<span style=\"color: #008080; text-decoration-color: #008080\">         test_loss         </span>│<span style=\"color: #800080; text-decoration-color: #800080\">   0.006667571607977152    </span>│\n",
       "└───────────────────────────┴───────────────────────────┘\n",
       "</pre>\n"
      ],
      "text/plain": [
       "┏━━━━━━━━━━━━━━━━━━━━━━━━━━━┳━━━━━━━━━━━━━━━━━━━━━━━━━━━┓\n",
       "┃\u001b[1m \u001b[0m\u001b[1m       Test metric       \u001b[0m\u001b[1m \u001b[0m┃\u001b[1m \u001b[0m\u001b[1m      DataLoader 0       \u001b[0m\u001b[1m \u001b[0m┃\n",
       "┡━━━━━━━━━━━━━━━━━━━━━━━━━━━╇━━━━━━━━━━━━━━━━━━━━━━━━━━━┩\n",
       "│\u001b[36m \u001b[0m\u001b[36m        test_loss        \u001b[0m\u001b[36m \u001b[0m│\u001b[35m \u001b[0m\u001b[35m  0.006667571607977152   \u001b[0m\u001b[35m \u001b[0m│\n",
       "└───────────────────────────┴───────────────────────────┘\n"
      ]
     },
     "metadata": {},
     "output_type": "display_data"
    },
    {
     "data": {
      "text/plain": [
       "[{'test_loss': 0.006667571607977152}]"
      ]
     },
     "execution_count": 11,
     "metadata": {},
     "output_type": "execute_result"
    }
   ],
   "source": [
    "trainer.test(model, test_loader)"
   ]
  },
  {
   "cell_type": "code",
   "execution_count": 16,
   "metadata": {},
   "outputs": [
    {
     "data": {
      "text/plain": [
       "Data(x=[29, 6], edge_index=[2, 72], edge_attr=[72, 5], spectrum=[200], idx=[1], smiles='c12[c:4]3[c:8]4[c:10]5[c:11]([H:31])[c:13]([H:32])[c:14]6[c:12]4[c:16]4[c:18]([c:17]([H:40])[c:15]6[C:24](=[O:28])[H:39])[c:19]([H:33])[c:21]([H:34])[c:22]([c:20]14)[C:23](=[O:26])[C:1]([H:36])=[C:2]2[C:3]([H:37])([H:38])[C:5]([O:25][H:35])=[C:6]3[C:7]1([H:29])[C:9]5([H:30])[O:27]1')"
      ]
     },
     "execution_count": 16,
     "metadata": {},
     "output_type": "execute_result"
    }
   ],
   "source": [
    "test_dataset[0]"
   ]
  },
  {
   "cell_type": "code",
   "execution_count": 39,
   "metadata": {},
   "outputs": [
    {
     "data": {
      "text/plain": [
       "GNN_light(\n",
       "  (convs): ModuleList(\n",
       "    (0): GCNConv(6, 64)\n",
       "    (1): GCNConv(64, 128)\n",
       "    (2): GCNConv(128, 256)\n",
       "  )\n",
       "  (batch_norms): ModuleList(\n",
       "    (0): BatchNorm1d(64, eps=1e-05, momentum=0.1, affine=True, track_running_stats=True)\n",
       "    (1): BatchNorm1d(128, eps=1e-05, momentum=0.1, affine=True, track_running_stats=True)\n",
       "    (2): BatchNorm1d(256, eps=1e-05, momentum=0.1, affine=True, track_running_stats=True)\n",
       "  )\n",
       "  (graph_pred_linear): Linear(in_features=256, out_features=200, bias=True)\n",
       ")"
      ]
     },
     "execution_count": 39,
     "metadata": {},
     "output_type": "execute_result"
    }
   ],
   "source": [
    "test_model.eval()"
   ]
  },
  {
   "cell_type": "code",
   "execution_count": 46,
   "metadata": {},
   "outputs": [],
   "source": [
    "x = 23\n",
    "\n",
    "with torch.no_grad():\n",
    "    test = test_model(test_dataset[x])"
   ]
  },
  {
   "cell_type": "code",
   "execution_count": 47,
   "metadata": {},
   "outputs": [],
   "source": [
    "flat = torch.flatten(test)"
   ]
  },
  {
   "cell_type": "code",
   "execution_count": 48,
   "metadata": {},
   "outputs": [
    {
     "data": {
      "image/png": "[encoded data removed]",
      "text/plain": [
       "<Figure size 640x480 with 1 Axes>"
      ]
     },
     "metadata": {},
     "output_type": "display_data"
    }
   ],
   "source": [
    "import matplotlib.pyplot as plt\n",
    "plt.plot(flat)\n",
    "plt.plot(test_dataset[x].spectrum)\n",
    "plt.show()"
   ]
  },
  {
   "cell_type": "code",
   "execution_count": null,
   "metadata": {},
   "outputs": [],
   "source": []
  }
 ],
 "metadata": {
  "kernelspec": {
   "display_name": "pyg-schnet",
   "language": "python",
   "name": "python3"
  },
  "language_info": {
   "codemirror_mode": {
    "name": "ipython",
    "version": 3
   },
   "file_extension": ".py",
   "mimetype": "text/x-python",
   "name": "python",
   "nbconvert_exporter": "python",
   "pygments_lexer": "ipython3",
   "version": "3.11.9"
  }
 },
 "nbformat": 4,
 "nbformat_minor": 2
}
