{
 "cells": [
  {
   "cell_type": "code",
   "execution_count": 9,
   "metadata": {},
   "outputs": [],
   "source": [
    "import json\n",
    "import numpy as np\n",
    "from ase import Atoms\n",
    "from schnetpack.data import ASEAtomsData"
   ]
  },
  {
   "cell_type": "code",
   "execution_count": 10,
   "metadata": {},
   "outputs": [],
   "source": [
    "with open('../raw/data_coronene.json', 'r') as j_file:\n",
    "    data = json.load(j_file)"
   ]
  },
  {
   "cell_type": "code",
   "execution_count": 11,
   "metadata": {},
   "outputs": [],
   "source": [
    "go_atoms = []\n",
    "go_properties = []\n",
    "\n",
    "for name in data[0].keys():\n",
    "    ats = Atoms(positions=data[2][name][0], numbers=data[2][name][1])\n",
    "    atom_spec = data[1][name]\n",
    "    tot_spec = np.zeros(len(atom_spec[str(0)]))\n",
    "    for key in atom_spec.keys():\n",
    "        tot_spec += atom_spec[key]\n",
    "    max_int = np.max(tot_spec)\n",
    "    norm_spec = 1.0 * (tot_spec / max_int)\n",
    "    norm_spec = np.reshape(norm_spec, (1, 200))\n",
    "    properties = {'spectrum': norm_spec}\n",
    "    go_atoms.append(ats)\n",
    "    go_properties.append(properties)"
   ]
  },
  {
   "cell_type": "code",
   "execution_count": 12,
   "metadata": {},
   "outputs": [],
   "source": [
    "go_dataset = ASEAtomsData.create(\n",
    "    './go_dataset.db',\n",
    "    distance_unit='Ang',\n",
    "    property_unit_dict={'spectrum':'eV'}\n",
    ")\n",
    "go_dataset.add_systems(go_properties, go_atoms)"
   ]
  },
  {
   "cell_type": "code",
   "execution_count": 13,
   "metadata": {},
   "outputs": [
    {
     "name": "stdout",
     "output_type": "stream",
     "text": [
      "Number of graphs in dataset: 318\n",
      "Available properties:\n",
      "- spectrum\n",
      "\n",
      "Properties of molecule\n",
      "- _idx : torch.Size([1])\n",
      "- spectrum : torch.Size([1, 200])\n",
      "- _n_atoms : torch.Size([1])\n",
      "- _atomic_numbers : torch.Size([43])\n",
      "- _positions : torch.Size([43, 3])\n",
      "- _cell : torch.Size([1, 3, 3])\n",
      "- _pbc : torch.Size([3])\n"
     ]
    }
   ],
   "source": [
    "print(f'Number of graphs in dataset: {len(go_dataset)}')\n",
    "print('Available properties:')\n",
    "\n",
    "for p in go_dataset.available_properties:\n",
    "    print('-', p)\n",
    "print()\n",
    "\n",
    "example = go_dataset[0]\n",
    "print('Properties of molecule')\n",
    "\n",
    "for k, v in example.items():\n",
    "    print('-', k, ':', v.shape)"
   ]
  },
  {
   "cell_type": "code",
   "execution_count": null,
   "metadata": {},
   "outputs": [],
   "source": []
  }
 ],
 "metadata": {
  "kernelspec": {
   "display_name": "pyg-schnet",
   "language": "python",
   "name": "python3"
  },
  "language_info": {
   "codemirror_mode": {
    "name": "ipython",
    "version": 3
   },
   "file_extension": ".py",
   "mimetype": "text/x-python",
   "name": "python",
   "nbconvert_exporter": "python",
   "pygments_lexer": "ipython3",
   "version": "3.11.9"
  }
 },
 "nbformat": 4,
 "nbformat_minor": 2
}
