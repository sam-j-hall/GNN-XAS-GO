{
 "cells": [
  {
   "cell_type": "code",
   "execution_count": 1,
   "metadata": {},
   "outputs": [],
   "source": [
    "import os\n",
    "import torch\n",
    "import torchmetrics\n",
    "import schnetpack as spk\n",
    "import schnetpack.transform as trn\n",
    "from schnetpack.atomistic import Atomwise\n",
    "from schnetpack.representation import SchNet\n",
    "import matplotlib.pyplot as plt\n",
    "import pytorch_lightning as pl"
   ]
  },
  {
   "cell_type": "code",
   "execution_count": 3,
   "metadata": {},
   "outputs": [],
   "source": [
    "go_mol_data = spk.data.AtomsDataModule(\n",
    "    './coronene_schnet.db',\n",
    "    batch_size=1,\n",
    "    distance_unit='Ang',\n",
    "    property_units={'Spectrum':'eV'},\n",
    "    num_train=238,\n",
    "    num_val=29,\n",
    "    val_batch_size=1,\n",
    "    transforms=[\n",
    "        trn.ASENeighborList(cutoff=5.),\n",
    "        trn.CastTo32()\n",
    "    ],\n",
    "    num_workers=1,\n",
    "    pin_memory=True\n",
    ")\n",
    "go_mol_data.prepare_data()\n",
    "go_mol_data.setup()"
   ]
  },
  {
   "cell_type": "code",
   "execution_count": 4,
   "metadata": {},
   "outputs": [
    {
     "name": "stdout",
     "output_type": "stream",
     "text": [
      "_idx - torch.Size([1])\n",
      "Spectrum - torch.Size([1, 200])\n",
      "_n_atoms - torch.Size([1])\n",
      "_atomic_numbers - torch.Size([44])\n",
      "_positions - torch.Size([44, 3])\n",
      "_cell - torch.Size([1, 3, 3])\n",
      "_pbc - torch.Size([3])\n"
     ]
    }
   ],
   "source": [
    "properties = go_mol_data.dataset[0]\n",
    "for prop in properties.keys():\n",
    "    print(f'{prop} - {properties[prop].shape}')"
   ]
  },
  {
   "cell_type": "code",
   "execution_count": 5,
   "metadata": {},
   "outputs": [],
   "source": [
    "cutoff = 2.\n",
    "n_atom_basis = 2\n",
    "\n",
    "pairwise_distance = spk.atomistic.PairwiseDistances()\n",
    "radial_basis = spk.nn.GaussianRBF(n_rbf=10, cutoff=cutoff)\n",
    "schnet = SchNet(\n",
    "    n_atom_basis=n_atom_basis,\n",
    "    n_interactions=1,\n",
    "    radial_basis=radial_basis,\n",
    "    cutoff_fn=spk.nn.CosineCutoff(cutoff)\n",
    ")\n",
    "\n",
    "pred_spectrum = Atomwise(n_in=n_atom_basis, n_out=200, n_hidden=[64, 128, 128],\n",
    "                        n_layers=3, output_key='Spectrum')"
   ]
  },
  {
   "cell_type": "code",
   "execution_count": 6,
   "metadata": {},
   "outputs": [],
   "source": [
    "nnpot = spk.model.NeuralNetworkPotential(\n",
    "    representation=schnet,\n",
    "    input_modules=[pairwise_distance],\n",
    "    output_modules=[pred_spectrum]\n",
    ")"
   ]
  },
  {
   "cell_type": "code",
   "execution_count": 7,
   "metadata": {},
   "outputs": [],
   "source": [
    "output_spec = spk.task.ModelOutput(\n",
    "    name='Spectrum',\n",
    "    loss_fn=torch.nn.MSELoss(),\n",
    "    loss_weight=0.01,\n",
    "    metrics={'MAE':torchmetrics.MeanAbsoluteError()}\n",
    ")"
   ]
  },
  {
   "cell_type": "code",
   "execution_count": 8,
   "metadata": {},
   "outputs": [
    {
     "name": "stdout",
     "output_type": "stream",
     "text": [
      "AtomisticTask(\n",
      "  (model): NeuralNetworkPotential(\n",
      "    (postprocessors): ModuleList()\n",
      "    (representation): SchNet(\n",
      "      (radial_basis): GaussianRBF()\n",
      "      (cutoff_fn): CosineCutoff()\n",
      "      (embedding): Embedding(100, 2, padding_idx=0)\n",
      "      (interactions): ModuleList(\n",
      "        (0): SchNetInteraction(\n",
      "          (in2f): Dense(\n",
      "            in_features=2, out_features=2, bias=False\n",
      "            (activation): Identity()\n",
      "          )\n",
      "          (f2out): Sequential(\n",
      "            (0): Dense(in_features=2, out_features=2, bias=True)\n",
      "            (1): Dense(\n",
      "              in_features=2, out_features=2, bias=True\n",
      "              (activation): Identity()\n",
      "            )\n",
      "          )\n",
      "          (filter_network): Sequential(\n",
      "            (0): Dense(in_features=10, out_features=2, bias=True)\n",
      "            (1): Dense(\n",
      "              in_features=2, out_features=2, bias=True\n",
      "              (activation): Identity()\n",
      "            )\n",
      "          )\n",
      "        )\n",
      "      )\n",
      "    )\n",
      "    (input_modules): ModuleList(\n",
      "      (0): PairwiseDistances()\n",
      "    )\n",
      "    (output_modules): ModuleList(\n",
      "      (0): Atomwise(\n",
      "        (outnet): Sequential(\n",
      "          (0): Dense(in_features=2, out_features=64, bias=True)\n",
      "          (1): Dense(in_features=64, out_features=128, bias=True)\n",
      "          (2): Dense(\n",
      "            in_features=128, out_features=200, bias=True\n",
      "            (activation): Identity()\n",
      "          )\n",
      "        )\n",
      "      )\n",
      "    )\n",
      "  )\n",
      "  (outputs): ModuleList(\n",
      "    (0): ModelOutput(\n",
      "      (loss_fn): MSELoss()\n",
      "      (train_metrics): ModuleDict(\n",
      "        (MAE): MeanAbsoluteError()\n",
      "      )\n",
      "      (val_metrics): ModuleDict(\n",
      "        (MAE): MeanAbsoluteError()\n",
      "      )\n",
      "      (test_metrics): ModuleDict(\n",
      "        (MAE): MeanAbsoluteError()\n",
      "      )\n",
      "    )\n",
      "  )\n",
      ")\n"
     ]
    },
    {
     "name": "stderr",
     "output_type": "stream",
     "text": [
      "/home/samjhall/anaconda3/envs/pyg-schnet/lib/python3.11/site-packages/pytorch_lightning/utilities/parsing.py:208: Attribute 'model' is an instance of `nn.Module` and is already saved during checkpointing. It is recommended to ignore them using `self.save_hyperparameters(ignore=['model'])`.\n"
     ]
    }
   ],
   "source": [
    "task = spk.task.AtomisticTask(\n",
    "    model=nnpot,\n",
    "    outputs=[output_spec],\n",
    "    optimizer_cls=torch.optim.Adam,\n",
    "    optimizer_args={'lr':1e-4}\n",
    ")\n",
    "print(task)"
   ]
  },
  {
   "cell_type": "code",
   "execution_count": 9,
   "metadata": {},
   "outputs": [
    {
     "name": "stderr",
     "output_type": "stream",
     "text": [
      "GPU available: True (cuda), used: True\n",
      "TPU available: False, using: 0 TPU cores\n",
      "HPU available: False, using: 0 HPUs\n",
      "You are using a CUDA device ('NVIDIA GeForce RTX 4080') that has Tensor Cores. To properly utilize them, you should set `torch.set_float32_matmul_precision('medium' | 'high')` which will trade-off precision for performance. For more details, read https://pytorch.org/docs/stable/generated/torch.set_float32_matmul_precision.html#torch.set_float32_matmul_precision\n",
      "LOCAL_RANK: 0 - CUDA_VISIBLE_DEVICES: [0]\n",
      "\n",
      "  | Name    | Type                   | Params | Mode \n",
      "-----------------------------------------------------------\n",
      "0 | model   | NeuralNetworkPotential | 34.6 K | train\n",
      "1 | outputs | ModuleList             | 0      | train\n",
      "-----------------------------------------------------------\n",
      "34.6 K    Trainable params\n",
      "0         Non-trainable params\n",
      "34.6 K    Total params\n",
      "0.138     Total estimated model params size (MB)\n",
      "36        Modules in train mode\n",
      "0         Modules in eval mode\n"
     ]
    },
    {
     "name": "stdout",
     "output_type": "stream",
     "text": [
      "Sanity Checking: |          | 0/? [00:00<?, ?it/s]"
     ]
    },
    {
     "name": "stderr",
     "output_type": "stream",
     "text": [
      "/home/samjhall/anaconda3/envs/pyg-schnet/lib/python3.11/site-packages/pytorch_lightning/trainer/connectors/data_connector.py:424: The 'val_dataloader' does not have many workers which may be a bottleneck. Consider increasing the value of the `num_workers` argument` to `num_workers=23` in the `DataLoader` to improve performance.\n"
     ]
    },
    {
     "name": "stdout",
     "output_type": "stream",
     "text": [
      "                                                                           \r"
     ]
    },
    {
     "name": "stderr",
     "output_type": "stream",
     "text": [
      "/home/samjhall/anaconda3/envs/pyg-schnet/lib/python3.11/site-packages/pytorch_lightning/utilities/data.py:78: Trying to infer the `batch_size` from an ambiguous collection. The batch size we found is 1. To avoid any miscalculations, use `self.log(..., batch_size=batch_size)`.\n",
      "/home/samjhall/anaconda3/envs/pyg-schnet/lib/python3.11/site-packages/pytorch_lightning/trainer/connectors/data_connector.py:424: The 'train_dataloader' does not have many workers which may be a bottleneck. Consider increasing the value of the `num_workers` argument` to `num_workers=23` in the `DataLoader` to improve performance.\n"
     ]
    },
    {
     "name": "stdout",
     "output_type": "stream",
     "text": [
      "Epoch 99: 100%|██████████| 238/238 [00:02<00:00, 79.99it/s, v_num=0, val_loss=9.91e-5]  "
     ]
    },
    {
     "name": "stderr",
     "output_type": "stream",
     "text": [
      "`Trainer.fit` stopped: `max_epochs=100` reached.\n"
     ]
    },
    {
     "name": "stdout",
     "output_type": "stream",
     "text": [
      "Epoch 99: 100%|██████████| 238/238 [00:02<00:00, 79.91it/s, v_num=0, val_loss=9.91e-5]\n"
     ]
    }
   ],
   "source": [
    "path = './ml_model'\n",
    "logger = pl.loggers.TensorBoardLogger(save_dir=path)\n",
    "\n",
    "callbacks = [\n",
    "    spk.train.ModelCheckpoint(\n",
    "        model_path=os.path.join(path, 'best_inference_model'),\n",
    "        save_top_k=1,\n",
    "        monitor='val_loss'\n",
    "    )\n",
    "]\n",
    "\n",
    "trainer = pl.Trainer(\n",
    "    callbacks=callbacks,\n",
    "    logger=logger,\n",
    "    default_root_dir=path,\n",
    "    max_epochs=100,\n",
    "    accelerator='cuda',\n",
    "    devices=1\n",
    ")\n",
    "\n",
    "trainer.fit(task, datamodule=go_mol_data)"
   ]
  },
  {
   "cell_type": "code",
   "execution_count": 10,
   "metadata": {},
   "outputs": [
    {
     "name": "stderr",
     "output_type": "stream",
     "text": [
      "/tmp/ipykernel_62364/1409555684.py:1: FutureWarning: You are using `torch.load` with `weights_only=False` (the current default value), which uses the default pickle module implicitly. It is possible to construct malicious pickle data which will execute arbitrary code during unpickling (See https://github.com/pytorch/pytorch/blob/main/SECURITY.md#untrusted-models for more details). In a future release, the default value for `weights_only` will be flipped to `True`. This limits the functions that could be executed during unpickling. Arbitrary objects will no longer be allowed to be loaded via this mode unless they are explicitly allowlisted by the user via `torch.serialization.add_safe_globals`. We recommend you start setting `weights_only=True` for any use case where you don't have full control of the loaded file. Please open an issue on GitHub for any issues related to this experimental feature.\n",
      "  best_model = torch.load('./ml_model/best_inference_model', map_location='cpu')\n"
     ]
    }
   ],
   "source": [
    "best_model = torch.load('./ml_model/best_inference_model', map_location='cpu')"
   ]
  },
  {
   "cell_type": "code",
   "execution_count": 11,
   "metadata": {},
   "outputs": [],
   "source": [
    "result = []\n",
    "for batch in go_mol_data.test_dataloader():\n",
    "    temp = best_model(batch)\n",
    "    result.append(temp)"
   ]
  },
  {
   "cell_type": "code",
   "execution_count": 12,
   "metadata": {},
   "outputs": [
    {
     "data": {
      "image/png": "[encoded data removed]",
      "text/plain": [
       "<Figure size 640x480 with 1 Axes>"
      ]
     },
     "metadata": {},
     "output_type": "display_data"
    }
   ],
   "source": [
    "plt.plot(torch.flatten(result[0]['Spectrum']).detach().numpy())\n",
    "plt.plot(torch.flatten(go_mol_data.test_dataset[0]['Spectrum']).detach().numpy())\n",
    "plt.show()"
   ]
  },
  {
   "cell_type": "code",
   "execution_count": null,
   "metadata": {},
   "outputs": [],
   "source": []
  }
 ],
 "metadata": {
  "kernelspec": {
   "display_name": "pyg-schnet",
   "language": "python",
   "name": "python3"
  },
  "language_info": {
   "codemirror_mode": {
    "name": "ipython",
    "version": 3
   },
   "file_extension": ".py",
   "mimetype": "text/x-python",
   "name": "python",
   "nbconvert_exporter": "python",
   "pygments_lexer": "ipython3",
   "version": "3.11.9"
  }
 },
 "nbformat": 4,
 "nbformat_minor": 2
}
