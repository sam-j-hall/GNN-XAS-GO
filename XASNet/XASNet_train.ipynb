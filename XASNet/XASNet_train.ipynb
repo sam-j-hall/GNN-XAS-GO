{
 "cells": [
  {
   "cell_type": "code",
   "execution_count": 1,
   "metadata": {},
   "outputs": [],
   "source": [
    "# --- Standard libraries\n",
    "import os.path as osp\n",
    "import pandas as pd\n",
    "import numpy as np\n",
    "import pickle as pkl\n",
    "# --- Matplotlib\n",
    "import matplotlib.pyplot as plt\n",
    "#import imageio\n",
    "import torch\n",
    "import torch_geometric\n",
    "from torch.nn import MSELoss\n",
    "from torch_geometric.loader import DataLoader\n",
    "# --- XASNet\n",
    "from XASNet.data import QM9_XAS\n",
    "from XASNet.data import save_split\n",
    "from XASNet.models import XASNet_GNN, XASNet_GAT, XASNet_GraphNet\n",
    "from XASNet.trainer import GNNTrainer"
   ]
  },
  {
   "cell_type": "code",
   "execution_count": 2,
   "metadata": {},
   "outputs": [
    {
     "name": "stdout",
     "output_type": "stream",
     "text": [
      "Pytorch version: 2.4.1+cu124\n",
      "PyG version: 2.5.3\n"
     ]
    }
   ],
   "source": [
    "print(f'Pytorch version: {torch.__version__}')\n",
    "print(f'PyG version: {torch_geometric.__version__}')"
   ]
  },
  {
   "cell_type": "code",
   "execution_count": 3,
   "metadata": {},
   "outputs": [
    {
     "name": "stderr",
     "output_type": "stream",
     "text": [
      "/tmp/ipykernel_17890/3519260758.py:1: FutureWarning: You are using `torch.load` with `weights_only=False` (the current default value), which uses the default pickle module implicitly. It is possible to construct malicious pickle data which will execute arbitrary code during unpickling (See https://github.com/pytorch/pytorch/blob/main/SECURITY.md#untrusted-models for more details). In a future release, the default value for `weights_only` will be flipped to `True`. This limits the functions that could be executed during unpickling. Arbitrary objects will no longer be allowed to be loaded via this mode unless they are explicitly allowlisted by the user via `torch.serialization.add_safe_globals`. We recommend you start setting `weights_only=True` for any use case where you don't have full control of the loaded file. Please open an issue on GitHub for any issues related to this experimental feature.\n",
      "  go_spec = torch.load('./processed/cor_xasnet.pt')\n"
     ]
    }
   ],
   "source": [
    "go_spec = torch.load('./processed/cor_xasnet.pt')"
   ]
  },
  {
   "cell_type": "code",
   "execution_count": 4,
   "metadata": {},
   "outputs": [
    {
     "name": "stdout",
     "output_type": "stream",
     "text": [
      "XASDataset_mol(317)\n",
      "------------\n",
      "Number of graphs: 317\n",
      "Number of features: 6\n",
      "\n",
      "Data(x=[32, 6], edge_index=[2, 76], edge_attr=[76, 5], spectrum=[200], idx=[1], smiles='c12[c:2]3[c:1]([H:32])[c:25]([H:41])[c:24]4[c:22]1[c:17]1[c:19]([c:20]([H:39])[c:23]4[H:40])[C:18]([C:21](=[O:26])[O:27][H:42])=[C:16]([H:38])[C:15]4=[C:14]([H:37])[C:12]([H:36])=[C:11]5[C:9]([O:30][H:44])([C:4]2([H:47])[C:6]([O:31][H:46])([C:5]([C:8](=[O:28])[O:29][H:43])=[C:3]3[H:33])[C:7]([H:34])=[C:10]5[H:35])[C:13]41[H:45]')\n",
      "------------\n",
      "Number of nodes: 32\n",
      "Number of edges: 76\n",
      "Average node degree: 2.38\n",
      "Has isolated nodes: False\n",
      "Has self loops: False\n",
      "Is undirected: True\n"
     ]
    }
   ],
   "source": [
    "# --- Print details of the dataset\n",
    "print(go_spec)\n",
    "print('------------')\n",
    "print(f'Number of graphs: {len(go_spec)}')\n",
    "print(f'Number of features: {go_spec.num_features}')\n",
    "print('')\n",
    "\n",
    "# --- Print details of the first molecule/graph in dataset\n",
    "data = go_spec[0]\n",
    "\n",
    "print(data)\n",
    "print('------------')\n",
    "print(f'Number of nodes: {data.num_nodes}')\n",
    "print(f'Number of edges: {data.num_edges}')\n",
    "print(f'Average node degree: {data.num_edges / data.num_nodes:.2f}')\n",
    "print(f'Has isolated nodes: {data.has_isolated_nodes()}')\n",
    "print(f'Has self loops: {data.has_self_loops()}')\n",
    "print(f'Is undirected: {data.is_undirected()}')"
   ]
  },
  {
   "cell_type": "code",
   "execution_count": 5,
   "metadata": {},
   "outputs": [
    {
     "name": "stdout",
     "output_type": "stream",
     "text": [
      "{'train': 238, 'val': 30, 'test': 49}\n"
     ]
    }
   ],
   "source": [
    "# --- Create spilt file with the dataset\n",
    "# --- split into test, validation and test datasets\n",
    "idxs = save_split(\n",
    "    path='./processed/xasnet-split.npz',\n",
    "    ndata=len(go_spec),\n",
    "    ntrain=238,\n",
    "    nval=30,\n",
    "    ntest=49,\n",
    "    save_split=True,\n",
    "    shuffle=True, \n",
    "    print_nsample=True\n",
    ")"
   ]
  },
  {
   "cell_type": "code",
   "execution_count": 6,
   "metadata": {},
   "outputs": [
    {
     "name": "stdout",
     "output_type": "stream",
     "text": [
      "Training dataset length: 238, compiled in 1 loaders\n",
      "Validation dataset length: 30, compiled in 1 loaders\n",
      "Test dataset length: 49, compiled in 1 loaders\n"
     ]
    }
   ],
   "source": [
    "# --- Create variables for each dataset split\n",
    "train_go = [go_spec[i] for i in idxs['train']]\n",
    "val_go = [go_spec[i] for i in idxs['val']]\n",
    "test_go = [go_spec[i] for i in idxs['test']]\n",
    "\n",
    "# train_go = torch.load('./mol_train.pt')\n",
    "# val_go = torch.load('./mol_val.pt')\n",
    "# --- Save datasets splits into dataloaders\n",
    "train_loader = DataLoader(train_go, batch_size=238, shuffle=True)\n",
    "val_loader = DataLoader(val_go, batch_size=30, shuffle=True)\n",
    "test_loader = DataLoader(test_go, batch_size=49, shuffle=False)\n",
    "\n",
    "print(f'Training dataset length: {len(train_go)}, compiled in {len(train_loader)} loaders')\n",
    "print(f'Validation dataset length: {len(val_go)}, compiled in {len(val_loader)} loaders')\n",
    "print(f'Test dataset length: {len(test_go)}, compiled in {len(test_loader)} loaders')\n",
    "\n",
    "torch.save(test_go, './processed/test_cor_xasnet.pt')"
   ]
  },
  {
   "cell_type": "code",
   "execution_count": 7,
   "metadata": {},
   "outputs": [],
   "source": [
    "# --- Define cost functions\n",
    "def RSE_loss(prediction, target):\n",
    "    dE = (300 - 280) / 200\n",
    "    nom = torch.sum(dE*torch.pow((target-prediction), 2))\n",
    "    denom = torch.sum(dE*target)\n",
    "    return torch.sqrt(nom) / denom \n",
    "\n",
    "def RMSE_loss(prediction, target):\n",
    "    return torch.sqrt(torch.mean((target - prediction)**2))"
   ]
  },
  {
   "cell_type": "code",
   "execution_count": 8,
   "metadata": {},
   "outputs": [
    {
     "name": "stdout",
     "output_type": "stream",
     "text": [
      "[200, 400, 600, 800]\n"
     ]
    }
   ],
   "source": [
    "# --- Set number of epochs to run\n",
    "num_epochs = 500\n",
    "# --- Set the learning rate \n",
    "lr = 0.01\n",
    "# --- Milestones to reduce learning rate in steps \n",
    "milestones = np.arange(200, 900, 200).tolist()\n",
    "print(milestones)"
   ]
  },
  {
   "cell_type": "markdown",
   "metadata": {
    "tags": []
   },
   "source": [
    "##### XASNet GNN"
   ]
  },
  {
   "cell_type": "code",
   "execution_count": 27,
   "metadata": {},
   "outputs": [
    {
     "ename": "AttributeError",
     "evalue": "'NoneType' object has no attribute 'weight'",
     "output_type": "error",
     "traceback": [
      "\u001b[0;31m---------------------------------------------------------------------------\u001b[0m",
      "\u001b[0;31mAttributeError\u001b[0m                            Traceback (most recent call last)",
      "Cell \u001b[0;32mIn[27], line 8\u001b[0m\n\u001b[1;32m      5\u001b[0m device \u001b[38;5;241m=\u001b[39m \u001b[38;5;124m'\u001b[39m\u001b[38;5;124mcuda\u001b[39m\u001b[38;5;124m'\u001b[39m \u001b[38;5;28;01mif\u001b[39;00m torch\u001b[38;5;241m.\u001b[39mcuda\u001b[38;5;241m.\u001b[39mis_available() \u001b[38;5;28;01melse\u001b[39;00m \u001b[38;5;124m'\u001b[39m\u001b[38;5;124mcpu\u001b[39m\u001b[38;5;124m'\u001b[39m\n\u001b[1;32m      7\u001b[0m \u001b[38;5;66;03m# --- Create the type of ML model you want to run\u001b[39;00m\n\u001b[0;32m----> 8\u001b[0m xasnet_gnn \u001b[38;5;241m=\u001b[39m \u001b[43mXASNet_GNN\u001b[49m\u001b[43m(\u001b[49m\n\u001b[1;32m      9\u001b[0m \u001b[43m    \u001b[49m\u001b[43mgnn_name\u001b[49m\u001b[43m \u001b[49m\u001b[38;5;241;43m=\u001b[39;49m\u001b[43m \u001b[49m\u001b[38;5;124;43m'\u001b[39;49m\u001b[38;5;124;43mgatv2\u001b[39;49m\u001b[38;5;124;43m'\u001b[39;49m\u001b[43m,\u001b[49m\u001b[43m \u001b[49m\u001b[38;5;66;43;03m# model type\u001b[39;49;00m\n\u001b[1;32m     10\u001b[0m \u001b[43m    \u001b[49m\u001b[43min_channels\u001b[49m\u001b[43m \u001b[49m\u001b[38;5;241;43m=\u001b[39;49m\u001b[43m \u001b[49m\u001b[43m[\u001b[49m\u001b[38;5;241;43m6\u001b[39;49m\u001b[43m,\u001b[49m\u001b[43m \u001b[49m\u001b[38;5;241;43m64\u001b[39;49m\u001b[43m,\u001b[49m\u001b[43m \u001b[49m\u001b[38;5;241;43m128\u001b[39;49m\u001b[43m]\u001b[49m\u001b[43m,\u001b[49m\u001b[43m \u001b[49m\u001b[38;5;66;43;03m# input nodes for each layer\u001b[39;49;00m\n\u001b[1;32m     11\u001b[0m \u001b[43m    \u001b[49m\u001b[43mout_channels\u001b[49m\u001b[43m \u001b[49m\u001b[38;5;241;43m=\u001b[39;49m\u001b[43m \u001b[49m\u001b[43m[\u001b[49m\u001b[38;5;241;43m64\u001b[39;49m\u001b[43m,\u001b[49m\u001b[43m \u001b[49m\u001b[38;5;241;43m128\u001b[39;49m\u001b[43m,\u001b[49m\u001b[43m \u001b[49m\u001b[38;5;241;43m256\u001b[39;49m\u001b[43m]\u001b[49m\u001b[43m,\u001b[49m\u001b[43m \u001b[49m\u001b[38;5;66;43;03m# output nodes for each layer\u001b[39;49;00m\n\u001b[1;32m     12\u001b[0m \u001b[43m    \u001b[49m\u001b[43mnum_targets\u001b[49m\u001b[43m \u001b[49m\u001b[38;5;241;43m=\u001b[39;49m\u001b[43m \u001b[49m\u001b[38;5;241;43m200\u001b[39;49m\u001b[43m,\u001b[49m\u001b[43m \u001b[49m\u001b[38;5;66;43;03m# nodes for final output\u001b[39;49;00m\n\u001b[1;32m     13\u001b[0m \u001b[43m    \u001b[49m\u001b[43mnum_layers\u001b[49m\u001b[43m \u001b[49m\u001b[38;5;241;43m=\u001b[39;49m\u001b[43m \u001b[49m\u001b[38;5;241;43m3\u001b[39;49m\u001b[43m,\u001b[49m\u001b[43m \u001b[49m\u001b[38;5;66;43;03m# number of total layers\u001b[39;49;00m\n\u001b[1;32m     14\u001b[0m \u001b[43m    \u001b[49m\u001b[43mdropout\u001b[49m\u001b[43m \u001b[49m\u001b[38;5;241;43m=\u001b[39;49m\u001b[43m \u001b[49m\u001b[38;5;241;43m0.1\u001b[39;49m\u001b[43m,\u001b[49m\n\u001b[1;32m     15\u001b[0m \u001b[43m    \u001b[49m\u001b[43mheads\u001b[49m\u001b[43m \u001b[49m\u001b[38;5;241;43m=\u001b[39;49m\u001b[43m \u001b[49m\u001b[38;5;241;43m0\u001b[39;49m\n\u001b[1;32m     16\u001b[0m \u001b[43m)\u001b[49m\u001b[38;5;241m.\u001b[39mto(device)\n\u001b[1;32m     18\u001b[0m \u001b[38;5;66;03m# --- Set model name\u001b[39;00m\n\u001b[1;32m     19\u001b[0m model_name \u001b[38;5;241m=\u001b[39m \u001b[38;5;124m'\u001b[39m\u001b[38;5;124mxasnet_\u001b[39m\u001b[38;5;124m'\u001b[39m \u001b[38;5;241m+\u001b[39m xasnet_gnn\u001b[38;5;241m.\u001b[39mgnn_name \u001b[38;5;241m+\u001b[39m\u001b[38;5;124m'\u001b[39m\u001b[38;5;124m_model\u001b[39m\u001b[38;5;124m'\u001b[39m\n",
      "File \u001b[0;32m~/xasnet/lib/python3.10/site-packages/XASNet/models.py:94\u001b[0m, in \u001b[0;36mXASNet_GNN.__init__\u001b[0;34m(self, gnn_name, num_layers, in_channels, out_channels, num_targets, dropout, heads, gat_dp)\u001b[0m\n\u001b[1;32m     92\u001b[0m \u001b[38;5;28mself\u001b[39m\u001b[38;5;241m.\u001b[39mdropout \u001b[38;5;241m=\u001b[39m torch\u001b[38;5;241m.\u001b[39mnn\u001b[38;5;241m.\u001b[39mDropout(p\u001b[38;5;241m=\u001b[39m\u001b[38;5;28mself\u001b[39m\u001b[38;5;241m.\u001b[39mdp)\n\u001b[1;32m     93\u001b[0m \u001b[38;5;28mself\u001b[39m\u001b[38;5;241m.\u001b[39mout \u001b[38;5;241m=\u001b[39m torch\u001b[38;5;241m.\u001b[39mnn\u001b[38;5;241m.\u001b[39mLinear(out_channels[\u001b[38;5;241m-\u001b[39m\u001b[38;5;241m1\u001b[39m], num_targets)      \n\u001b[0;32m---> 94\u001b[0m \u001b[38;5;28;43mself\u001b[39;49m\u001b[38;5;241;43m.\u001b[39;49m\u001b[43mreset_parameters\u001b[49m\u001b[43m(\u001b[49m\u001b[43m)\u001b[49m\n",
      "File \u001b[0;32m~/xasnet/lib/python3.10/site-packages/XASNet/models.py:111\u001b[0m, in \u001b[0;36mXASNet_GNN.reset_parameters\u001b[0;34m(self)\u001b[0m\n\u001b[1;32m    107\u001b[0m     layers \u001b[38;5;241m=\u001b[39m [m\u001b[38;5;241m.\u001b[39mlin_l]\n\u001b[1;32m    110\u001b[0m \u001b[38;5;28;01mfor\u001b[39;00m layer \u001b[38;5;129;01min\u001b[39;00m layers:\n\u001b[0;32m--> 111\u001b[0m     kaiming_orthogonal_init(\u001b[43mlayer\u001b[49m\u001b[38;5;241;43m.\u001b[39;49m\u001b[43mweight\u001b[49m\u001b[38;5;241m.\u001b[39mdata)\n\u001b[1;32m    112\u001b[0m     \u001b[38;5;28;01mif\u001b[39;00m layer\u001b[38;5;241m.\u001b[39mbias \u001b[38;5;129;01mis\u001b[39;00m \u001b[38;5;129;01mnot\u001b[39;00m \u001b[38;5;28;01mNone\u001b[39;00m:\n\u001b[1;32m    113\u001b[0m        layer\u001b[38;5;241m.\u001b[39mbias\u001b[38;5;241m.\u001b[39mdata\u001b[38;5;241m.\u001b[39mfill_(\u001b[38;5;241m0.0\u001b[39m)\n",
      "\u001b[0;31mAttributeError\u001b[0m: 'NoneType' object has no attribute 'weight'"
     ]
    }
   ],
   "source": [
    "# --- Set a manual seed for reproducibility\n",
    "torch.manual_seed(1994)\n",
    "\n",
    "# --- Set device for model to run on\n",
    "device = 'cuda' if torch.cuda.is_available() else 'cpu'\n",
    "\n",
    "# --- Create the type of ML model you want to run\n",
    "xasnet_gnn = XASNet_GNN(\n",
    "    gnn_name = 'gatv2', # model type\n",
    "    in_channels = [6, 64, 128], # input nodes for each layer\n",
    "    out_channels = [64, 128, 256], # output nodes for each layer\n",
    "    num_targets = 200, # nodes for final output\n",
    "    num_layers = 3, # number of total layers\n",
    "    dropout = 0.1,\n",
    "    heads = 0\n",
    ").to(device)\n",
    "\n",
    "# --- Set model name\n",
    "model_name = 'xasnet_' + xasnet_gnn.gnn_name +'_model'\n",
    "\n",
    "# --- Location to save model\n",
    "path_to_model = osp.join('./best_model,', model_name)\n",
    "\n",
    "# --- Check if there is an already existing model\n",
    "if osp.exists(path_to_model):\n",
    "    xasnet_gnn.load_state_dict(torch.load(path_to_model))\n",
    "else:\n",
    "    print('Model is not loaded.')"
   ]
  },
  {
   "cell_type": "code",
   "execution_count": 28,
   "metadata": {},
   "outputs": [
    {
     "name": "stdout",
     "output_type": "stream",
     "text": [
      "XASNet_GNN(\n",
      "  (interaction_layers): ModuleList(\n",
      "    (0): GraphConv(6, 64)\n",
      "    (1): ReLU(inplace=True)\n",
      "    (2): GraphConv(64, 128)\n",
      "    (3): ReLU(inplace=True)\n",
      "    (4): GraphConv(128, 256)\n",
      "  )\n",
      "  (dropout): Dropout(p=0.1, inplace=False)\n",
      "  (out): Linear(in_features=256, out_features=200, bias=True)\n",
      ")\n",
      "----\n",
      " Model will be trained on: cuda\n"
     ]
    }
   ],
   "source": [
    "# --- View the details of the created model\n",
    "print(xasnet_gnn)\n",
    "print('----')\n",
    "print(f' Model will be trained on: {device}')"
   ]
  },
  {
   "cell_type": "markdown",
   "metadata": {
    "jp-MarkdownHeadingCollapsed": true,
    "tags": []
   },
   "source": [
    "##### XASNet GAT"
   ]
  },
  {
   "cell_type": "code",
   "execution_count": 65,
   "metadata": {},
   "outputs": [
    {
     "name": "stdout",
     "output_type": "stream",
     "text": [
      "Model is not loaded.\n"
     ]
    }
   ],
   "source": [
    "# --- Set a manual seed for reproducibility\n",
    "torch.manual_seed(1994)\n",
    "\n",
    "# --- Set device for model to run on\n",
    "device = 'cuda' if torch.cuda.is_available() else 'cpu'\n",
    "\n",
    "# --- Create the type of ML model you want to run\n",
    "xasnet_gat = XASNet_GAT(\n",
    "    node_features_dim=8,\n",
    "    in_channels=[64, 128],\n",
    "    out_channels=[128, 256],\n",
    "    targets=200,\n",
    "    n_layers=2,\n",
    "    n_heads=4,\n",
    "    gat_type='gatv2',\n",
    "    use_residuals=True,\n",
    "    use_jk=True\n",
    ").to(device)\n",
    "\n",
    "# --- Set name for ML model\n",
    "model_name = 'xasnet-GAT_' + xasnet_gat.gat_type + '_model'\n",
    "\n",
    "# --- Location to save model\n",
    "path_to_model = osp.join('./best_model,', model_name)\n",
    "\n",
    "# --- Check if there is an already existing model\n",
    "if osp.exists(path_to_model):\n",
    "    xasnet_gat.load_state_dict(torch.load(path_to_model))\n",
    "else:\n",
    "    print('Model is not loaded.')"
   ]
  },
  {
   "cell_type": "code",
   "execution_count": 66,
   "metadata": {},
   "outputs": [
    {
     "name": "stdout",
     "output_type": "stream",
     "text": [
      "XASNet_GAT(\n",
      "  (pre_layer): LinearLayer(\n",
      "    (linear): Linear(in_features=8, out_features=64, bias=False)\n",
      "    (_activation): ReLU(inplace=True)\n",
      "  )\n",
      "  (res_block): Residual_block(\n",
      "    (res_layers): Sequential(\n",
      "      (0): LinearLayer(\n",
      "        (linear): Linear(in_features=64, out_features=64, bias=False)\n",
      "        (_activation): ReLU(inplace=True)\n",
      "      )\n",
      "      (1): LinearLayer(\n",
      "        (linear): Linear(in_features=64, out_features=64, bias=False)\n",
      "        (_activation): ReLU(inplace=True)\n",
      "      )\n",
      "      (2): LinearLayer(\n",
      "        (linear): Linear(in_features=64, out_features=64, bias=False)\n",
      "        (_activation): ReLU(inplace=True)\n",
      "      )\n",
      "      (3): LinearLayer(\n",
      "        (linear): Linear(in_features=64, out_features=64, bias=False)\n",
      "        (_activation): ReLU(inplace=True)\n",
      "      )\n",
      "    )\n",
      "  )\n",
      "  (gat_layers): ModuleList(\n",
      "    (0): GATv2Conv(64, 128, heads=4)\n",
      "    (1): ReLU(inplace=True)\n",
      "    (2): GATv2Conv(512, 256, heads=1)\n",
      "  )\n",
      "  (lstm): LSTM(512, 128, num_layers=3, batch_first=True, bidirectional=True)\n",
      "  (attn): Linear(in_features=256, out_features=1, bias=True)\n",
      "  (dropout): Dropout(p=0.3, inplace=False)\n",
      "  (linear_out): LinearLayer(\n",
      "    (linear): Linear(in_features=256, out_features=200, bias=False)\n",
      "    (_activation): Identity()\n",
      "  )\n",
      ")\n",
      "----\n",
      " Model will be trained on: cuda\n"
     ]
    }
   ],
   "source": [
    "# --- View the details of the created model\n",
    "print(xasnet_gat)\n",
    "print('----')\n",
    "print(f' Model will be trained on: {device}')"
   ]
  },
  {
   "cell_type": "markdown",
   "metadata": {
    "jp-MarkdownHeadingCollapsed": true,
    "tags": []
   },
   "source": [
    "##### XASNet GraphNet"
   ]
  },
  {
   "cell_type": "code",
   "execution_count": 87,
   "metadata": {},
   "outputs": [
    {
     "name": "stdout",
     "output_type": "stream",
     "text": [
      "Model is not loaded.\n"
     ]
    }
   ],
   "source": [
    "# --- Set name for ML model\n",
    "model_name = 'xasnet_graphnet_model'\n",
    "\n",
    "# --- Set device for model to run on\n",
    "device = 'cuda' if torch.cuda.is_available() else 'cpu'\n",
    "\n",
    "# --- Set a manual seed for reproducibility\n",
    "torch.manual_seed(1994)\n",
    "\n",
    "# --- Create the type of ML model you want to run\n",
    "xasnet_graphnet = XASNet_GraphNet(\n",
    "    node_dim=8,\n",
    "    edge_dim=5,\n",
    "    hidden_channels=64,\n",
    "    out_channels=128,\n",
    "    gat_hidd=64,\n",
    "    gat_out=128,\n",
    "    n_layers=3,\n",
    "    n_targets=200\n",
    ").to(device)\n",
    "\n",
    "# --- Location to save model\n",
    "path_to_model = osp.join('./best_model,', model_name)\n",
    "\n",
    "# --- Check if there is an already existing model\n",
    "if osp.exists(path_to_model):\n",
    "    xasnet_graphnet.load_state_dict(torch.load(path_to_model))\n",
    "else:\n",
    "    print('Model is not loaded.')"
   ]
  },
  {
   "cell_type": "code",
   "execution_count": 88,
   "metadata": {},
   "outputs": [
    {
     "name": "stdout",
     "output_type": "stream",
     "text": [
      "XASNet_GraphNet(\n",
      "  (graphnets): ModuleList(\n",
      "    (0): GraphNetwork(\n",
      "      (gatencoder): GATEncoder(\n",
      "        (gats): ModuleList(\n",
      "          (0): GATv2Conv(8, 64, heads=3)\n",
      "          (1): ReLU(inplace=True)\n",
      "          (2): GATv2Conv(192, 64, heads=3)\n",
      "          (3): ReLU(inplace=True)\n",
      "          (4): GATv2Conv(192, 64, heads=3)\n",
      "          (5): ReLU(inplace=True)\n",
      "          (6): GATv2Conv(192, 128, heads=1)\n",
      "        )\n",
      "      )\n",
      "      (node_model): NodeModel(\n",
      "        (mlp): Sequential(\n",
      "          (0): Linear(in_features=146, out_features=64, bias=True)\n",
      "          (1): ReLU(inplace=True)\n",
      "          (2): Linear(in_features=64, out_features=128, bias=True)\n",
      "          (3): ReLU(inplace=True)\n",
      "          (4): LayerNorm((128,), eps=1e-05, elementwise_affine=True)\n",
      "        )\n",
      "      )\n",
      "      (edge_model): EdgeModel(\n",
      "        (mlp): Sequential(\n",
      "          (0): Linear(in_features=389, out_features=64, bias=True)\n",
      "          (1): ReLU(inplace=True)\n",
      "          (2): Linear(in_features=64, out_features=128, bias=True)\n",
      "          (3): ReLU(inplace=True)\n",
      "          (4): LayerNorm((128,), eps=1e-05, elementwise_affine=True)\n",
      "        )\n",
      "      )\n",
      "      (global_model): GlobalModel(\n",
      "        (mlp): Sequential(\n",
      "          (0): Linear(in_features=384, out_features=64, bias=True)\n",
      "          (1): ReLU(inplace=True)\n",
      "          (2): Linear(in_features=64, out_features=128, bias=True)\n",
      "          (3): ReLU(inplace=True)\n",
      "          (4): LayerNorm((128,), eps=1e-05, elementwise_affine=True)\n",
      "        )\n",
      "      )\n",
      "    )\n",
      "    (1-2): 2 x GraphNetwork(\n",
      "      (gatencoder): GATEncoder(\n",
      "        (gats): ModuleList(\n",
      "          (0): GATv2Conv(8, 64, heads=3)\n",
      "          (1): ReLU(inplace=True)\n",
      "          (2): GATv2Conv(192, 64, heads=3)\n",
      "          (3): ReLU(inplace=True)\n",
      "          (4): GATv2Conv(192, 64, heads=3)\n",
      "          (5): ReLU(inplace=True)\n",
      "          (6): GATv2Conv(192, 128, heads=1)\n",
      "        )\n",
      "      )\n",
      "      (node_model): NodeModel(\n",
      "        (mlp): Sequential(\n",
      "          (0): Linear(in_features=512, out_features=64, bias=True)\n",
      "          (1): ReLU(inplace=True)\n",
      "          (2): Linear(in_features=64, out_features=128, bias=True)\n",
      "          (3): ReLU(inplace=True)\n",
      "          (4): LayerNorm((128,), eps=1e-05, elementwise_affine=True)\n",
      "        )\n",
      "      )\n",
      "      (edge_model): EdgeModel(\n",
      "        (mlp): Sequential(\n",
      "          (0): Linear(in_features=512, out_features=64, bias=True)\n",
      "          (1): ReLU(inplace=True)\n",
      "          (2): Linear(in_features=64, out_features=128, bias=True)\n",
      "          (3): ReLU(inplace=True)\n",
      "          (4): LayerNorm((128,), eps=1e-05, elementwise_affine=True)\n",
      "        )\n",
      "      )\n",
      "      (global_model): GlobalModel(\n",
      "        (mlp): Sequential(\n",
      "          (0): Linear(in_features=384, out_features=64, bias=True)\n",
      "          (1): ReLU(inplace=True)\n",
      "          (2): Linear(in_features=64, out_features=128, bias=True)\n",
      "          (3): ReLU(inplace=True)\n",
      "          (4): LayerNorm((128,), eps=1e-05, elementwise_affine=True)\n",
      "        )\n",
      "      )\n",
      "    )\n",
      "  )\n",
      "  (dropout): Dropout(p=0.3, inplace=False)\n",
      "  (output_dense): Linear(in_features=128, out_features=200, bias=True)\n",
      ")\n",
      "----\n",
      " Model will be trained on: cuda\n"
     ]
    }
   ],
   "source": [
    "# --- View the details of the created model\n",
    "print(xasnet_graphnet)\n",
    "print('----')\n",
    "print(f' Model will be trained on: {device}')"
   ]
  },
  {
   "cell_type": "markdown",
   "metadata": {},
   "source": [
    "##### Train model"
   ]
  },
  {
   "cell_type": "code",
   "execution_count": 23,
   "metadata": {},
   "outputs": [],
   "source": [
    "chosen_model = xasnet_gnn"
   ]
  },
  {
   "cell_type": "code",
   "execution_count": 24,
   "metadata": {},
   "outputs": [],
   "source": [
    "# --- Set additional ML parameters\n",
    "optimizer = torch.optim.Adam(chosen_model.parameters(), lr=lr, weight_decay=1e-5, betas=(0.9, 0.99), eps=1e-08, amsgrad=True)\n",
    "\n",
    "scheduler = torch.optim.lr_scheduler.MultiStepLR(optimizer, milestones=milestones, gamma=0.8)\n",
    "#scheduler = torch.optim.lr_scheduler.ReduceLROnPlateau(optimizer, mode=\"min\", factor=0.5, patience=100, min_lr=0.000001)"
   ]
  },
  {
   "cell_type": "code",
   "execution_count": 25,
   "metadata": {},
   "outputs": [],
   "source": [
    "# --- Create trainier\n",
    "trainer = GNNTrainer(model = chosen_model,\n",
    "                     model_name = model_name,\n",
    "                     device = device,\n",
    "                     metric_path = './metrics/' + model_name)"
   ]
  },
  {
   "cell_type": "markdown",
   "metadata": {},
   "source": [
    "#### Train the ML model        "
   ]
  },
  {
   "cell_type": "code",
   "execution_count": 26,
   "metadata": {},
   "outputs": [
    {
     "name": "stderr",
     "output_type": "stream",
     "text": [
      "  2%|▏         | 10/500 [00:00<00:10, 46.59it/s]"
     ]
    },
    {
     "name": "stdout",
     "output_type": "stream",
     "text": [
      "time = 0.00 mins mins\n",
      "epoch 0 | average train loss = 0.000549 and average validation loss = 0.007246 | learning rate = 0.01000\n",
      "time = 0.00 mins mins\n",
      "epoch 1 | average train loss = 0.000349 and average validation loss = 0.002222 | learning rate = 0.01000\n",
      "time = 0.00 mins mins\n",
      "epoch 2 | average train loss = 0.000105 and average validation loss = 0.001492 | learning rate = 0.01000\n",
      "time = 0.00 mins mins\n",
      "epoch 3 | average train loss = 0.000065 and average validation loss = 0.001533 | learning rate = 0.01000\n",
      "time = 0.00 mins mins\n",
      "epoch 4 | average train loss = 0.000067 and average validation loss = 0.001506 | learning rate = 0.01000\n",
      "time = 0.00 mins mins\n",
      "epoch 5 | average train loss = 0.000066 and average validation loss = 0.001440 | learning rate = 0.01000\n",
      "time = 0.00 mins mins\n",
      "epoch 6 | average train loss = 0.000063 and average validation loss = 0.001308 | learning rate = 0.01000\n",
      "time = 0.00 mins mins\n",
      "epoch 7 | average train loss = 0.000057 and average validation loss = 0.001071 | learning rate = 0.01000\n",
      "time = 0.00 mins mins\n",
      "epoch 8 | average train loss = 0.000047 and average validation loss = 0.001381 | learning rate = 0.01000\n",
      "time = 0.00 mins mins\n",
      "epoch 9 | average train loss = 0.000066 and average validation loss = 0.001080 | learning rate = 0.01000\n"
     ]
    },
    {
     "name": "stderr",
     "output_type": "stream",
     "text": [
      "  4%|▍         | 20/500 [00:00<00:10, 47.11it/s]"
     ]
    },
    {
     "name": "stdout",
     "output_type": "stream",
     "text": [
      "time = 0.00 mins mins\n",
      "epoch 10 | average train loss = 0.000050 and average validation loss = 0.000853 | learning rate = 0.01000\n",
      "time = 0.00 mins mins\n",
      "epoch 11 | average train loss = 0.000037 and average validation loss = 0.000921 | learning rate = 0.01000\n",
      "time = 0.00 mins mins\n",
      "epoch 12 | average train loss = 0.000038 and average validation loss = 0.000911 | learning rate = 0.01000\n",
      "time = 0.01 mins mins\n",
      "epoch 13 | average train loss = 0.000038 and average validation loss = 0.000695 | learning rate = 0.01000\n",
      "time = 0.01 mins mins\n",
      "epoch 14 | average train loss = 0.000029 and average validation loss = 0.000594 | learning rate = 0.01000\n",
      "time = 0.01 mins mins\n",
      "epoch 15 | average train loss = 0.000029 and average validation loss = 0.000605 | learning rate = 0.01000\n",
      "time = 0.01 mins mins\n",
      "epoch 16 | average train loss = 0.000029 and average validation loss = 0.000566 | learning rate = 0.01000\n",
      "time = 0.01 mins mins\n",
      "epoch 17 | average train loss = 0.000025 and average validation loss = 0.000603 | learning rate = 0.01000\n",
      "time = 0.01 mins mins\n",
      "epoch 18 | average train loss = 0.000026 and average validation loss = 0.000541 | learning rate = 0.01000\n",
      "time = 0.01 mins mins\n",
      "epoch 19 | average train loss = 0.000024 and average validation loss = 0.000457 | learning rate = 0.01000\n"
     ]
    },
    {
     "name": "stderr",
     "output_type": "stream",
     "text": [
      "  6%|▌         | 30/500 [00:00<00:09, 47.11it/s]"
     ]
    },
    {
     "name": "stdout",
     "output_type": "stream",
     "text": [
      "time = 0.01 mins mins\n",
      "epoch 20 | average train loss = 0.000021 and average validation loss = 0.000461 | learning rate = 0.01000\n",
      "time = 0.01 mins mins\n",
      "epoch 21 | average train loss = 0.000022 and average validation loss = 0.000429 | learning rate = 0.01000\n",
      "time = 0.01 mins mins\n",
      "epoch 22 | average train loss = 0.000019 and average validation loss = 0.000447 | learning rate = 0.01000\n",
      "time = 0.01 mins mins\n",
      "epoch 23 | average train loss = 0.000020 and average validation loss = 0.000415 | learning rate = 0.01000\n",
      "time = 0.01 mins mins\n",
      "epoch 24 | average train loss = 0.000019 and average validation loss = 0.000404 | learning rate = 0.01000\n",
      "time = 0.01 mins mins\n",
      "epoch 25 | average train loss = 0.000019 and average validation loss = 0.000391 | learning rate = 0.01000\n",
      "time = 0.01 mins mins\n",
      "epoch 26 | average train loss = 0.000018 and average validation loss = 0.000372 | learning rate = 0.01000\n",
      "time = 0.01 mins mins\n",
      "epoch 27 | average train loss = 0.000018 and average validation loss = 0.000361 | learning rate = 0.01000\n",
      "time = 0.01 mins mins\n",
      "epoch 28 | average train loss = 0.000017 and average validation loss = 0.000365 | learning rate = 0.01000\n",
      "time = 0.01 mins mins\n",
      "epoch 29 | average train loss = 0.000017 and average validation loss = 0.000366 | learning rate = 0.01000\n"
     ]
    },
    {
     "name": "stderr",
     "output_type": "stream",
     "text": [
      "  7%|▋         | 35/500 [00:00<00:09, 46.89it/s]"
     ]
    },
    {
     "name": "stdout",
     "output_type": "stream",
     "text": [
      "time = 0.01 mins mins\n",
      "epoch 30 | average train loss = 0.000017 and average validation loss = 0.000362 | learning rate = 0.01000\n",
      "time = 0.01 mins mins\n",
      "epoch 31 | average train loss = 0.000017 and average validation loss = 0.000358 | learning rate = 0.01000\n",
      "time = 0.01 mins mins\n",
      "epoch 32 | average train loss = 0.000017 and average validation loss = 0.000359 | learning rate = 0.01000\n",
      "time = 0.01 mins mins\n",
      "epoch 33 | average train loss = 0.000017 and average validation loss = 0.000355 | learning rate = 0.01000\n",
      "time = 0.01 mins mins\n",
      "epoch 34 | average train loss = 0.000017 and average validation loss = 0.000351 | learning rate = 0.01000\n",
      "time = 0.01 mins mins\n",
      "epoch 35 | average train loss = 0.000016 and average validation loss = 0.000371 | learning rate = 0.01000\n",
      "time = 0.01 mins mins\n",
      "epoch 36 | average train loss = 0.000017 and average validation loss = 0.000367 | learning rate = 0.01000\n",
      "time = 0.01 mins mins\n",
      "epoch 37 | average train loss = 0.000017 and average validation loss = 0.000377 | learning rate = 0.01000\n",
      "time = 0.01 mins mins\n",
      "epoch 38 | average train loss = 0.000017 and average validation loss = 0.000369 | learning rate = 0.01000\n",
      "time = 0.01 mins mins\n",
      "epoch 39 | average train loss = 0.000016 and average validation loss = 0.000347 | learning rate = 0.01000\n"
     ]
    },
    {
     "name": "stderr",
     "output_type": "stream",
     "text": [
      "  9%|▉         | 47/500 [00:00<00:09, 49.13it/s]"
     ]
    },
    {
     "name": "stdout",
     "output_type": "stream",
     "text": [
      "time = 0.01 mins mins\n",
      "epoch 40 | average train loss = 0.000016 and average validation loss = 0.000429 | learning rate = 0.01000\n",
      "time = 0.01 mins mins\n",
      "epoch 41 | average train loss = 0.000019 and average validation loss = 0.000347 | learning rate = 0.01000\n",
      "time = 0.02 mins mins\n",
      "epoch 42 | average train loss = 0.000016 and average validation loss = 0.000351 | learning rate = 0.01000\n",
      "time = 0.02 mins mins\n",
      "epoch 43 | average train loss = 0.000016 and average validation loss = 0.000353 | learning rate = 0.01000\n",
      "time = 0.02 mins mins\n",
      "epoch 44 | average train loss = 0.000016 and average validation loss = 0.000357 | learning rate = 0.01000\n",
      "time = 0.02 mins mins\n",
      "epoch 45 | average train loss = 0.000016 and average validation loss = 0.000355 | learning rate = 0.01000\n",
      "time = 0.02 mins mins\n",
      "epoch 46 | average train loss = 0.000016 and average validation loss = 0.000353 | learning rate = 0.01000\n",
      "time = 0.02 mins mins\n",
      "epoch 47 | average train loss = 0.000016 and average validation loss = 0.000349 | learning rate = 0.01000\n",
      "time = 0.02 mins mins\n",
      "epoch 48 | average train loss = 0.000016 and average validation loss = 0.000346 | learning rate = 0.01000\n",
      "time = 0.02 mins mins\n",
      "epoch 49 | average train loss = 0.000016 and average validation loss = 0.000346 | learning rate = 0.01000\n",
      "time = 0.02 mins mins\n",
      "epoch 50 | average train loss = 0.000015 and average validation loss = 0.000347 | learning rate = 0.01000\n"
     ]
    },
    {
     "name": "stderr",
     "output_type": "stream",
     "text": [
      " 12%|█▏        | 58/500 [00:01<00:08, 50.12it/s]"
     ]
    },
    {
     "name": "stdout",
     "output_type": "stream",
     "text": [
      "time = 0.02 mins mins\n",
      "epoch 51 | average train loss = 0.000016 and average validation loss = 0.000347 | learning rate = 0.01000\n",
      "time = 0.02 mins mins\n",
      "epoch 52 | average train loss = 0.000016 and average validation loss = 0.000347 | learning rate = 0.01000\n",
      "time = 0.02 mins mins\n",
      "epoch 53 | average train loss = 0.000016 and average validation loss = 0.000346 | learning rate = 0.01000\n",
      "time = 0.02 mins mins\n",
      "epoch 54 | average train loss = 0.000015 and average validation loss = 0.000346 | learning rate = 0.01000\n",
      "time = 0.02 mins mins\n",
      "epoch 55 | average train loss = 0.000016 and average validation loss = 0.000348 | learning rate = 0.01000\n",
      "time = 0.02 mins mins\n",
      "epoch 56 | average train loss = 0.000016 and average validation loss = 0.000349 | learning rate = 0.01000\n",
      "time = 0.02 mins mins\n",
      "epoch 57 | average train loss = 0.000015 and average validation loss = 0.000348 | learning rate = 0.01000\n",
      "time = 0.02 mins mins\n",
      "epoch 58 | average train loss = 0.000016 and average validation loss = 0.000346 | learning rate = 0.01000\n",
      "time = 0.02 mins mins\n",
      "epoch 59 | average train loss = 0.000015 and average validation loss = 0.000417 | learning rate = 0.01000\n",
      "time = 0.02 mins mins\n",
      "epoch 60 | average train loss = 0.000019 and average validation loss = 0.000346 | learning rate = 0.01000\n",
      "time = 0.02 mins mins\n",
      "epoch 61 | average train loss = 0.000015 and average validation loss = 0.000351 | learning rate = 0.01000\n"
     ]
    },
    {
     "name": "stderr",
     "output_type": "stream",
     "text": [
      " 14%|█▍        | 70/500 [00:01<00:08, 49.96it/s]"
     ]
    },
    {
     "name": "stdout",
     "output_type": "stream",
     "text": [
      "time = 0.02 mins mins\n",
      "epoch 62 | average train loss = 0.000016 and average validation loss = 0.000351 | learning rate = 0.01000\n",
      "time = 0.02 mins mins\n",
      "epoch 63 | average train loss = 0.000016 and average validation loss = 0.000348 | learning rate = 0.01000\n",
      "time = 0.02 mins mins\n",
      "epoch 64 | average train loss = 0.000016 and average validation loss = 0.000345 | learning rate = 0.01000\n",
      "time = 0.02 mins mins\n",
      "epoch 65 | average train loss = 0.000015 and average validation loss = 0.000344 | learning rate = 0.01000\n",
      "time = 0.02 mins mins\n",
      "epoch 66 | average train loss = 0.000015 and average validation loss = 0.000345 | learning rate = 0.01000\n",
      "time = 0.02 mins mins\n",
      "epoch 67 | average train loss = 0.000015 and average validation loss = 0.000347 | learning rate = 0.01000\n",
      "time = 0.02 mins mins\n",
      "epoch 68 | average train loss = 0.000015 and average validation loss = 0.000346 | learning rate = 0.01000\n",
      "time = 0.02 mins mins\n",
      "epoch 69 | average train loss = 0.000015 and average validation loss = 0.000344 | learning rate = 0.01000\n",
      "time = 0.02 mins mins\n",
      "epoch 70 | average train loss = 0.000015 and average validation loss = 0.000342 | learning rate = 0.01000\n",
      "time = 0.02 mins mins\n",
      "epoch 71 | average train loss = 0.000015 and average validation loss = 0.000341 | learning rate = 0.01000\n"
     ]
    },
    {
     "name": "stderr",
     "output_type": "stream",
     "text": [
      " 16%|█▌        | 80/500 [00:01<00:08, 48.24it/s]"
     ]
    },
    {
     "name": "stdout",
     "output_type": "stream",
     "text": [
      "time = 0.03 mins mins\n",
      "epoch 72 | average train loss = 0.000015 and average validation loss = 0.000342 | learning rate = 0.01000\n",
      "time = 0.03 mins mins\n",
      "epoch 73 | average train loss = 0.000015 and average validation loss = 0.000343 | learning rate = 0.01000\n",
      "time = 0.03 mins mins\n",
      "epoch 74 | average train loss = 0.000015 and average validation loss = 0.000342 | learning rate = 0.01000\n",
      "time = 0.03 mins mins\n",
      "epoch 75 | average train loss = 0.000015 and average validation loss = 0.000340 | learning rate = 0.01000\n",
      "time = 0.03 mins mins\n",
      "epoch 76 | average train loss = 0.000015 and average validation loss = 0.000338 | learning rate = 0.01000\n",
      "time = 0.03 mins mins\n",
      "epoch 77 | average train loss = 0.000015 and average validation loss = 0.000337 | learning rate = 0.01000\n",
      "time = 0.03 mins mins\n",
      "epoch 78 | average train loss = 0.000015 and average validation loss = 0.000337 | learning rate = 0.01000\n",
      "time = 0.03 mins mins\n",
      "epoch 79 | average train loss = 0.000015 and average validation loss = 0.000337 | learning rate = 0.01000\n",
      "time = 0.03 mins mins\n",
      "epoch 80 | average train loss = 0.000015 and average validation loss = 0.000336 | learning rate = 0.01000\n",
      "time = 0.03 mins mins\n",
      "epoch 81 | average train loss = 0.000015 and average validation loss = 0.000334 | learning rate = 0.01000\n"
     ]
    },
    {
     "name": "stderr",
     "output_type": "stream",
     "text": [
      " 18%|█▊        | 90/500 [00:01<00:08, 48.06it/s]"
     ]
    },
    {
     "name": "stdout",
     "output_type": "stream",
     "text": [
      "time = 0.03 mins mins\n",
      "epoch 82 | average train loss = 0.000015 and average validation loss = 0.000336 | learning rate = 0.01000\n",
      "time = 0.03 mins mins\n",
      "epoch 83 | average train loss = 0.000015 and average validation loss = 0.000336 | learning rate = 0.01000\n",
      "time = 0.03 mins mins\n",
      "epoch 84 | average train loss = 0.000015 and average validation loss = 0.000335 | learning rate = 0.01000\n",
      "time = 0.03 mins mins\n",
      "epoch 85 | average train loss = 0.000015 and average validation loss = 0.000334 | learning rate = 0.01000\n",
      "time = 0.03 mins mins\n",
      "epoch 86 | average train loss = 0.000015 and average validation loss = 0.000334 | learning rate = 0.01000\n",
      "time = 0.03 mins mins\n",
      "epoch 87 | average train loss = 0.000015 and average validation loss = 0.000333 | learning rate = 0.01000\n",
      "time = 0.03 mins mins\n",
      "epoch 88 | average train loss = 0.000015 and average validation loss = 0.000334 | learning rate = 0.01000\n",
      "time = 0.03 mins mins\n",
      "epoch 89 | average train loss = 0.000015 and average validation loss = 0.000335 | learning rate = 0.01000\n",
      "time = 0.03 mins mins\n",
      "epoch 90 | average train loss = 0.000015 and average validation loss = 0.000332 | learning rate = 0.01000\n",
      "time = 0.03 mins mins\n",
      "epoch 91 | average train loss = 0.000015 and average validation loss = 0.000331 | learning rate = 0.01000\n"
     ]
    },
    {
     "name": "stderr",
     "output_type": "stream",
     "text": [
      " 20%|██        | 101/500 [00:02<00:08, 48.66it/s]"
     ]
    },
    {
     "name": "stdout",
     "output_type": "stream",
     "text": [
      "time = 0.03 mins mins\n",
      "epoch 92 | average train loss = 0.000015 and average validation loss = 0.000330 | learning rate = 0.01000\n",
      "time = 0.03 mins mins\n",
      "epoch 93 | average train loss = 0.000015 and average validation loss = 0.000331 | learning rate = 0.01000\n",
      "time = 0.03 mins mins\n",
      "epoch 94 | average train loss = 0.000015 and average validation loss = 0.000333 | learning rate = 0.01000\n",
      "time = 0.03 mins mins\n",
      "epoch 95 | average train loss = 0.000015 and average validation loss = 0.000332 | learning rate = 0.01000\n",
      "time = 0.03 mins mins\n",
      "epoch 96 | average train loss = 0.000015 and average validation loss = 0.000331 | learning rate = 0.01000\n",
      "time = 0.03 mins mins\n",
      "epoch 97 | average train loss = 0.000015 and average validation loss = 0.000331 | learning rate = 0.01000\n",
      "time = 0.03 mins mins\n",
      "epoch 98 | average train loss = 0.000015 and average validation loss = 0.000330 | learning rate = 0.01000\n",
      "time = 0.03 mins mins\n",
      "epoch 99 | average train loss = 0.000015 and average validation loss = 0.000331 | learning rate = 0.01000\n",
      "time = 0.03 mins mins\n",
      "epoch 100 | average train loss = 0.000015 and average validation loss = 0.000330 | learning rate = 0.01000\n",
      "time = 0.04 mins mins\n",
      "epoch 101 | average train loss = 0.000015 and average validation loss = 0.000330 | learning rate = 0.01000\n",
      "time = 0.04 mins mins\n",
      "epoch 102 | average train loss = 0.000015 and average validation loss = 0.000330 | learning rate = 0.01000\n"
     ]
    },
    {
     "name": "stderr",
     "output_type": "stream",
     "text": [
      " 22%|██▏       | 112/500 [00:02<00:07, 49.34it/s]"
     ]
    },
    {
     "name": "stdout",
     "output_type": "stream",
     "text": [
      "time = 0.04 mins mins\n",
      "epoch 103 | average train loss = 0.000015 and average validation loss = 0.000330 | learning rate = 0.01000\n",
      "time = 0.04 mins mins\n",
      "epoch 104 | average train loss = 0.000015 and average validation loss = 0.000409 | learning rate = 0.01000\n",
      "time = 0.04 mins mins\n",
      "epoch 105 | average train loss = 0.000019 and average validation loss = 0.000340 | learning rate = 0.01000\n",
      "time = 0.04 mins mins\n",
      "epoch 106 | average train loss = 0.000015 and average validation loss = 0.000350 | learning rate = 0.01000\n",
      "time = 0.04 mins mins\n",
      "epoch 107 | average train loss = 0.000015 and average validation loss = 0.000345 | learning rate = 0.01000\n",
      "time = 0.04 mins mins\n",
      "epoch 108 | average train loss = 0.000015 and average validation loss = 0.000333 | learning rate = 0.01000\n",
      "time = 0.04 mins mins\n",
      "epoch 109 | average train loss = 0.000015 and average validation loss = 0.000324 | learning rate = 0.01000\n",
      "time = 0.04 mins mins\n",
      "epoch 110 | average train loss = 0.000015 and average validation loss = 0.000325 | learning rate = 0.01000\n",
      "time = 0.04 mins mins\n",
      "epoch 111 | average train loss = 0.000015 and average validation loss = 0.000329 | learning rate = 0.01000\n",
      "time = 0.04 mins mins\n",
      "epoch 112 | average train loss = 0.000015 and average validation loss = 0.000332 | learning rate = 0.01000\n",
      "time = 0.04 mins mins\n",
      "epoch 113 | average train loss = 0.000015 and average validation loss = 0.000333 | learning rate = 0.01000\n"
     ]
    },
    {
     "name": "stderr",
     "output_type": "stream",
     "text": [
      " 25%|██▍       | 123/500 [00:02<00:07, 49.48it/s]"
     ]
    },
    {
     "name": "stdout",
     "output_type": "stream",
     "text": [
      "time = 0.04 mins mins\n",
      "epoch 114 | average train loss = 0.000015 and average validation loss = 0.000335 | learning rate = 0.01000\n",
      "time = 0.04 mins mins\n",
      "epoch 115 | average train loss = 0.000015 and average validation loss = 0.000335 | learning rate = 0.01000\n",
      "time = 0.04 mins mins\n",
      "epoch 116 | average train loss = 0.000015 and average validation loss = 0.000333 | learning rate = 0.01000\n",
      "time = 0.04 mins mins\n",
      "epoch 117 | average train loss = 0.000015 and average validation loss = 0.000329 | learning rate = 0.01000\n",
      "time = 0.04 mins mins\n",
      "epoch 118 | average train loss = 0.000015 and average validation loss = 0.000324 | learning rate = 0.01000\n",
      "time = 0.04 mins mins\n",
      "epoch 119 | average train loss = 0.000015 and average validation loss = 0.000322 | learning rate = 0.01000\n",
      "time = 0.04 mins mins\n",
      "epoch 120 | average train loss = 0.000015 and average validation loss = 0.000323 | learning rate = 0.01000\n",
      "time = 0.04 mins mins\n",
      "epoch 121 | average train loss = 0.000015 and average validation loss = 0.000325 | learning rate = 0.01000\n",
      "time = 0.04 mins mins\n",
      "epoch 122 | average train loss = 0.000015 and average validation loss = 0.000328 | learning rate = 0.01000\n",
      "time = 0.04 mins mins\n",
      "epoch 123 | average train loss = 0.000015 and average validation loss = 0.000329 | learning rate = 0.01000\n",
      "time = 0.04 mins mins\n",
      "epoch 124 | average train loss = 0.000015 and average validation loss = 0.000329 | learning rate = 0.01000\n"
     ]
    },
    {
     "name": "stderr",
     "output_type": "stream",
     "text": [
      " 27%|██▋       | 134/500 [00:02<00:07, 49.78it/s]"
     ]
    },
    {
     "name": "stdout",
     "output_type": "stream",
     "text": [
      "time = 0.04 mins mins\n",
      "epoch 125 | average train loss = 0.000015 and average validation loss = 0.000326 | learning rate = 0.01000\n",
      "time = 0.04 mins mins\n",
      "epoch 126 | average train loss = 0.000015 and average validation loss = 0.000323 | learning rate = 0.01000\n",
      "time = 0.04 mins mins\n",
      "epoch 127 | average train loss = 0.000015 and average validation loss = 0.000320 | learning rate = 0.01000\n",
      "time = 0.04 mins mins\n",
      "epoch 128 | average train loss = 0.000015 and average validation loss = 0.000319 | learning rate = 0.01000\n",
      "time = 0.04 mins mins\n",
      "epoch 129 | average train loss = 0.000014 and average validation loss = 0.000319 | learning rate = 0.01000\n",
      "time = 0.04 mins mins\n",
      "epoch 130 | average train loss = 0.000015 and average validation loss = 0.000321 | learning rate = 0.01000\n",
      "time = 0.05 mins mins\n",
      "epoch 131 | average train loss = 0.000015 and average validation loss = 0.000323 | learning rate = 0.01000\n",
      "time = 0.05 mins mins\n",
      "epoch 132 | average train loss = 0.000014 and average validation loss = 0.000334 | learning rate = 0.01000\n",
      "time = 0.05 mins mins\n",
      "epoch 133 | average train loss = 0.000015 and average validation loss = 0.000324 | learning rate = 0.01000\n",
      "time = 0.05 mins mins\n",
      "epoch 134 | average train loss = 0.000015 and average validation loss = 0.000323 | learning rate = 0.01000\n"
     ]
    },
    {
     "name": "stderr",
     "output_type": "stream",
     "text": [
      " 29%|██▉       | 144/500 [00:02<00:07, 47.55it/s]"
     ]
    },
    {
     "name": "stdout",
     "output_type": "stream",
     "text": [
      "time = 0.05 mins mins\n",
      "epoch 135 | average train loss = 0.000015 and average validation loss = 0.000319 | learning rate = 0.01000\n",
      "time = 0.05 mins mins\n",
      "epoch 136 | average train loss = 0.000015 and average validation loss = 0.000315 | learning rate = 0.01000\n",
      "time = 0.05 mins mins\n",
      "epoch 137 | average train loss = 0.000014 and average validation loss = 0.000315 | learning rate = 0.01000\n",
      "time = 0.05 mins mins\n",
      "epoch 138 | average train loss = 0.000014 and average validation loss = 0.000316 | learning rate = 0.01000\n",
      "time = 0.05 mins mins\n",
      "epoch 139 | average train loss = 0.000014 and average validation loss = 0.000317 | learning rate = 0.01000\n",
      "time = 0.05 mins mins\n",
      "epoch 140 | average train loss = 0.000014 and average validation loss = 0.000315 | learning rate = 0.01000\n",
      "time = 0.05 mins mins\n",
      "epoch 141 | average train loss = 0.000014 and average validation loss = 0.000313 | learning rate = 0.01000\n",
      "time = 0.05 mins mins\n",
      "epoch 142 | average train loss = 0.000014 and average validation loss = 0.000312 | learning rate = 0.01000\n",
      "time = 0.05 mins mins\n",
      "epoch 143 | average train loss = 0.000014 and average validation loss = 0.000311 | learning rate = 0.01000\n",
      "time = 0.05 mins mins\n",
      "epoch 144 | average train loss = 0.000014 and average validation loss = 0.000310 | learning rate = 0.01000\n"
     ]
    },
    {
     "name": "stderr",
     "output_type": "stream",
     "text": [
      " 31%|███       | 154/500 [00:03<00:07, 47.96it/s]"
     ]
    },
    {
     "name": "stdout",
     "output_type": "stream",
     "text": [
      "time = 0.05 mins mins\n",
      "epoch 145 | average train loss = 0.000014 and average validation loss = 0.000308 | learning rate = 0.01000\n",
      "time = 0.05 mins mins\n",
      "epoch 146 | average train loss = 0.000014 and average validation loss = 0.000308 | learning rate = 0.01000\n",
      "time = 0.05 mins mins\n",
      "epoch 147 | average train loss = 0.000014 and average validation loss = 0.000310 | learning rate = 0.01000\n",
      "time = 0.05 mins mins\n",
      "epoch 148 | average train loss = 0.000014 and average validation loss = 0.000310 | learning rate = 0.01000\n",
      "time = 0.05 mins mins\n",
      "epoch 149 | average train loss = 0.000014 and average validation loss = 0.000309 | learning rate = 0.01000\n",
      "time = 0.05 mins mins\n",
      "epoch 150 | average train loss = 0.000014 and average validation loss = 0.000308 | learning rate = 0.01000\n",
      "time = 0.05 mins mins\n",
      "epoch 151 | average train loss = 0.000014 and average validation loss = 0.000308 | learning rate = 0.01000\n",
      "time = 0.05 mins mins\n",
      "epoch 152 | average train loss = 0.000014 and average validation loss = 0.000308 | learning rate = 0.01000\n",
      "time = 0.05 mins mins\n",
      "epoch 153 | average train loss = 0.000014 and average validation loss = 0.000308 | learning rate = 0.01000\n",
      "time = 0.05 mins mins\n",
      "epoch 154 | average train loss = 0.000014 and average validation loss = 0.000305 | learning rate = 0.01000\n"
     ]
    },
    {
     "name": "stderr",
     "output_type": "stream",
     "text": [
      " 33%|███▎      | 164/500 [00:03<00:07, 47.83it/s]"
     ]
    },
    {
     "name": "stdout",
     "output_type": "stream",
     "text": [
      "time = 0.05 mins mins\n",
      "epoch 155 | average train loss = 0.000014 and average validation loss = 0.000305 | learning rate = 0.01000\n",
      "time = 0.05 mins mins\n",
      "epoch 156 | average train loss = 0.000014 and average validation loss = 0.000304 | learning rate = 0.01000\n",
      "time = 0.05 mins mins\n",
      "epoch 157 | average train loss = 0.000014 and average validation loss = 0.000305 | learning rate = 0.01000\n",
      "time = 0.05 mins mins\n",
      "epoch 158 | average train loss = 0.000014 and average validation loss = 0.000305 | learning rate = 0.01000\n",
      "time = 0.06 mins mins\n",
      "epoch 159 | average train loss = 0.000014 and average validation loss = 0.000305 | learning rate = 0.01000\n",
      "time = 0.06 mins mins\n",
      "epoch 160 | average train loss = 0.000014 and average validation loss = 0.000305 | learning rate = 0.01000\n",
      "time = 0.06 mins mins\n",
      "epoch 161 | average train loss = 0.000014 and average validation loss = 0.000305 | learning rate = 0.01000\n",
      "time = 0.06 mins mins\n",
      "epoch 162 | average train loss = 0.000014 and average validation loss = 0.000305 | learning rate = 0.01000\n",
      "time = 0.06 mins mins\n",
      "epoch 163 | average train loss = 0.000014 and average validation loss = 0.000304 | learning rate = 0.01000\n",
      "time = 0.06 mins mins\n",
      "epoch 164 | average train loss = 0.000014 and average validation loss = 0.000302 | learning rate = 0.01000\n"
     ]
    },
    {
     "name": "stderr",
     "output_type": "stream",
     "text": [
      " 35%|███▌      | 175/500 [00:03<00:06, 49.04it/s]"
     ]
    },
    {
     "name": "stdout",
     "output_type": "stream",
     "text": [
      "time = 0.06 mins mins\n",
      "epoch 165 | average train loss = 0.000014 and average validation loss = 0.000303 | learning rate = 0.01000\n",
      "time = 0.06 mins mins\n",
      "epoch 166 | average train loss = 0.000014 and average validation loss = 0.000313 | learning rate = 0.01000\n",
      "time = 0.06 mins mins\n",
      "epoch 167 | average train loss = 0.000014 and average validation loss = 0.000303 | learning rate = 0.01000\n",
      "time = 0.06 mins mins\n",
      "epoch 168 | average train loss = 0.000014 and average validation loss = 0.000303 | learning rate = 0.01000\n",
      "time = 0.06 mins mins\n",
      "epoch 169 | average train loss = 0.000014 and average validation loss = 0.000303 | learning rate = 0.01000\n",
      "time = 0.06 mins mins\n",
      "epoch 170 | average train loss = 0.000014 and average validation loss = 0.000303 | learning rate = 0.01000\n",
      "time = 0.06 mins mins\n",
      "epoch 171 | average train loss = 0.000014 and average validation loss = 0.000305 | learning rate = 0.01000\n",
      "time = 0.06 mins mins\n",
      "epoch 172 | average train loss = 0.000014 and average validation loss = 0.000306 | learning rate = 0.01000\n",
      "time = 0.06 mins mins\n",
      "epoch 173 | average train loss = 0.000014 and average validation loss = 0.000304 | learning rate = 0.01000\n",
      "time = 0.06 mins mins\n",
      "epoch 174 | average train loss = 0.000014 and average validation loss = 0.000303 | learning rate = 0.01000\n",
      "time = 0.06 mins mins\n",
      "epoch 175 | average train loss = 0.000014 and average validation loss = 0.000302 | learning rate = 0.01000\n"
     ]
    },
    {
     "name": "stderr",
     "output_type": "stream",
     "text": [
      " 37%|███▋      | 185/500 [00:03<00:06, 48.19it/s]"
     ]
    },
    {
     "name": "stdout",
     "output_type": "stream",
     "text": [
      "time = 0.06 mins mins\n",
      "epoch 176 | average train loss = 0.000014 and average validation loss = 0.000302 | learning rate = 0.01000\n",
      "time = 0.06 mins mins\n",
      "epoch 177 | average train loss = 0.000014 and average validation loss = 0.000303 | learning rate = 0.01000\n",
      "time = 0.06 mins mins\n",
      "epoch 178 | average train loss = 0.000014 and average validation loss = 0.000305 | learning rate = 0.01000\n",
      "time = 0.06 mins mins\n",
      "epoch 179 | average train loss = 0.000014 and average validation loss = 0.000305 | learning rate = 0.01000\n",
      "time = 0.06 mins mins\n",
      "epoch 180 | average train loss = 0.000014 and average validation loss = 0.000302 | learning rate = 0.01000\n",
      "time = 0.06 mins mins\n",
      "epoch 181 | average train loss = 0.000014 and average validation loss = 0.000301 | learning rate = 0.01000\n",
      "time = 0.06 mins mins\n",
      "epoch 182 | average train loss = 0.000014 and average validation loss = 0.000301 | learning rate = 0.01000\n",
      "time = 0.06 mins mins\n",
      "epoch 183 | average train loss = 0.000014 and average validation loss = 0.000302 | learning rate = 0.01000\n",
      "time = 0.06 mins mins\n",
      "epoch 184 | average train loss = 0.000014 and average validation loss = 0.000304 | learning rate = 0.01000\n",
      "time = 0.06 mins mins\n",
      "epoch 185 | average train loss = 0.000014 and average validation loss = 0.000304 | learning rate = 0.01000\n"
     ]
    },
    {
     "name": "stderr",
     "output_type": "stream",
     "text": [
      " 39%|███▉      | 195/500 [00:04<00:06, 48.54it/s]"
     ]
    },
    {
     "name": "stdout",
     "output_type": "stream",
     "text": [
      "time = 0.06 mins mins\n",
      "epoch 186 | average train loss = 0.000014 and average validation loss = 0.000303 | learning rate = 0.01000\n",
      "time = 0.06 mins mins\n",
      "epoch 187 | average train loss = 0.000014 and average validation loss = 0.000301 | learning rate = 0.01000\n",
      "time = 0.07 mins mins\n",
      "epoch 188 | average train loss = 0.000014 and average validation loss = 0.000301 | learning rate = 0.01000\n",
      "time = 0.07 mins mins\n",
      "epoch 189 | average train loss = 0.000014 and average validation loss = 0.000301 | learning rate = 0.01000\n",
      "time = 0.07 mins mins\n",
      "epoch 190 | average train loss = 0.000014 and average validation loss = 0.000302 | learning rate = 0.01000\n",
      "time = 0.07 mins mins\n",
      "epoch 191 | average train loss = 0.000014 and average validation loss = 0.000303 | learning rate = 0.01000\n",
      "time = 0.07 mins mins\n",
      "epoch 192 | average train loss = 0.000014 and average validation loss = 0.000303 | learning rate = 0.01000\n",
      "time = 0.07 mins mins\n",
      "epoch 193 | average train loss = 0.000014 and average validation loss = 0.000302 | learning rate = 0.01000\n",
      "time = 0.07 mins mins\n",
      "epoch 194 | average train loss = 0.000014 and average validation loss = 0.000301 | learning rate = 0.01000\n",
      "time = 0.07 mins mins\n",
      "epoch 195 | average train loss = 0.000014 and average validation loss = 0.000300 | learning rate = 0.01000\n"
     ]
    },
    {
     "name": "stderr",
     "output_type": "stream",
     "text": [
      " 41%|████      | 205/500 [00:04<00:06, 48.20it/s]"
     ]
    },
    {
     "name": "stdout",
     "output_type": "stream",
     "text": [
      "time = 0.07 mins mins\n",
      "epoch 196 | average train loss = 0.000014 and average validation loss = 0.000301 | learning rate = 0.01000\n",
      "time = 0.07 mins mins\n",
      "epoch 197 | average train loss = 0.000014 and average validation loss = 0.000302 | learning rate = 0.01000\n",
      "time = 0.07 mins mins\n",
      "epoch 198 | average train loss = 0.000014 and average validation loss = 0.000303 | learning rate = 0.01000\n",
      "time = 0.07 mins mins\n",
      "epoch 199 | average train loss = 0.000014 and average validation loss = 0.000302 | learning rate = 0.00800\n",
      "time = 0.07 mins mins\n",
      "epoch 200 | average train loss = 0.000014 and average validation loss = 0.000301 | learning rate = 0.00800\n",
      "time = 0.07 mins mins\n",
      "epoch 201 | average train loss = 0.000014 and average validation loss = 0.000300 | learning rate = 0.00800\n",
      "time = 0.07 mins mins\n",
      "epoch 202 | average train loss = 0.000014 and average validation loss = 0.000300 | learning rate = 0.00800\n",
      "time = 0.07 mins mins\n",
      "epoch 203 | average train loss = 0.000014 and average validation loss = 0.000300 | learning rate = 0.00800\n",
      "time = 0.07 mins mins\n",
      "epoch 204 | average train loss = 0.000014 and average validation loss = 0.000300 | learning rate = 0.00800\n",
      "time = 0.07 mins mins\n",
      "epoch 205 | average train loss = 0.000014 and average validation loss = 0.000301 | learning rate = 0.00800\n"
     ]
    },
    {
     "name": "stderr",
     "output_type": "stream",
     "text": [
      " 43%|████▎     | 216/500 [00:04<00:05, 48.72it/s]"
     ]
    },
    {
     "name": "stdout",
     "output_type": "stream",
     "text": [
      "time = 0.07 mins mins\n",
      "epoch 206 | average train loss = 0.000014 and average validation loss = 0.000301 | learning rate = 0.00800\n",
      "time = 0.07 mins mins\n",
      "epoch 207 | average train loss = 0.000013 and average validation loss = 0.000301 | learning rate = 0.00800\n",
      "time = 0.07 mins mins\n",
      "epoch 208 | average train loss = 0.000014 and average validation loss = 0.000300 | learning rate = 0.00800\n",
      "time = 0.07 mins mins\n",
      "epoch 209 | average train loss = 0.000014 and average validation loss = 0.000300 | learning rate = 0.00800\n",
      "time = 0.07 mins mins\n",
      "epoch 210 | average train loss = 0.000014 and average validation loss = 0.000300 | learning rate = 0.00800\n",
      "time = 0.07 mins mins\n",
      "epoch 211 | average train loss = 0.000014 and average validation loss = 0.000301 | learning rate = 0.00800\n",
      "time = 0.07 mins mins\n",
      "epoch 212 | average train loss = 0.000014 and average validation loss = 0.000302 | learning rate = 0.00800\n",
      "time = 0.07 mins mins\n",
      "epoch 213 | average train loss = 0.000014 and average validation loss = 0.000301 | learning rate = 0.00800\n",
      "time = 0.07 mins mins\n",
      "epoch 214 | average train loss = 0.000014 and average validation loss = 0.000300 | learning rate = 0.00800\n",
      "time = 0.07 mins mins\n",
      "epoch 215 | average train loss = 0.000014 and average validation loss = 0.000299 | learning rate = 0.00800\n"
     ]
    },
    {
     "name": "stderr",
     "output_type": "stream",
     "text": [
      " 45%|████▌     | 226/500 [00:04<00:05, 48.69it/s]"
     ]
    },
    {
     "name": "stdout",
     "output_type": "stream",
     "text": [
      "time = 0.07 mins mins\n",
      "epoch 216 | average train loss = 0.000014 and average validation loss = 0.000299 | learning rate = 0.00800\n",
      "time = 0.08 mins mins\n",
      "epoch 217 | average train loss = 0.000014 and average validation loss = 0.000299 | learning rate = 0.00800\n",
      "time = 0.08 mins mins\n",
      "epoch 218 | average train loss = 0.000014 and average validation loss = 0.000300 | learning rate = 0.00800\n",
      "time = 0.08 mins mins\n",
      "epoch 219 | average train loss = 0.000014 and average validation loss = 0.000301 | learning rate = 0.00800\n",
      "time = 0.08 mins mins\n",
      "epoch 220 | average train loss = 0.000014 and average validation loss = 0.000301 | learning rate = 0.00800\n",
      "time = 0.08 mins mins\n",
      "epoch 221 | average train loss = 0.000014 and average validation loss = 0.000301 | learning rate = 0.00800\n",
      "time = 0.08 mins mins\n",
      "epoch 222 | average train loss = 0.000014 and average validation loss = 0.000300 | learning rate = 0.00800\n",
      "time = 0.08 mins mins\n",
      "epoch 223 | average train loss = 0.000014 and average validation loss = 0.000299 | learning rate = 0.00800\n",
      "time = 0.08 mins mins\n",
      "epoch 224 | average train loss = 0.000014 and average validation loss = 0.000299 | learning rate = 0.00800\n",
      "time = 0.08 mins mins\n",
      "epoch 225 | average train loss = 0.000014 and average validation loss = 0.000299 | learning rate = 0.00800\n"
     ]
    },
    {
     "name": "stderr",
     "output_type": "stream",
     "text": [
      " 47%|████▋     | 237/500 [00:04<00:05, 49.60it/s]"
     ]
    },
    {
     "name": "stdout",
     "output_type": "stream",
     "text": [
      "time = 0.08 mins mins\n",
      "epoch 226 | average train loss = 0.000014 and average validation loss = 0.000299 | learning rate = 0.00800\n",
      "time = 0.08 mins mins\n",
      "epoch 227 | average train loss = 0.000014 and average validation loss = 0.000300 | learning rate = 0.00800\n",
      "time = 0.08 mins mins\n",
      "epoch 228 | average train loss = 0.000014 and average validation loss = 0.000300 | learning rate = 0.00800\n",
      "time = 0.08 mins mins\n",
      "epoch 229 | average train loss = 0.000014 and average validation loss = 0.000300 | learning rate = 0.00800\n",
      "time = 0.08 mins mins\n",
      "epoch 230 | average train loss = 0.000014 and average validation loss = 0.000299 | learning rate = 0.00800\n",
      "time = 0.08 mins mins\n",
      "epoch 231 | average train loss = 0.000014 and average validation loss = 0.000299 | learning rate = 0.00800\n",
      "time = 0.08 mins mins\n",
      "epoch 232 | average train loss = 0.000014 and average validation loss = 0.000299 | learning rate = 0.00800\n",
      "time = 0.08 mins mins\n",
      "epoch 233 | average train loss = 0.000013 and average validation loss = 0.000299 | learning rate = 0.00800\n",
      "time = 0.08 mins mins\n",
      "epoch 234 | average train loss = 0.000014 and average validation loss = 0.000300 | learning rate = 0.00800\n",
      "time = 0.08 mins mins\n",
      "epoch 235 | average train loss = 0.000014 and average validation loss = 0.000300 | learning rate = 0.00800\n",
      "time = 0.08 mins mins\n",
      "epoch 236 | average train loss = 0.000014 and average validation loss = 0.000300 | learning rate = 0.00800\n"
     ]
    },
    {
     "name": "stderr",
     "output_type": "stream",
     "text": [
      " 48%|████▊     | 242/500 [00:04<00:05, 49.13it/s]"
     ]
    },
    {
     "name": "stdout",
     "output_type": "stream",
     "text": [
      "time = 0.08 mins mins\n",
      "epoch 237 | average train loss = 0.000014 and average validation loss = 0.000300 | learning rate = 0.00800\n",
      "time = 0.08 mins mins\n",
      "epoch 238 | average train loss = 0.000013 and average validation loss = 0.000299 | learning rate = 0.00800\n",
      "time = 0.08 mins mins\n",
      "epoch 239 | average train loss = 0.000013 and average validation loss = 0.000299 | learning rate = 0.00800\n",
      "time = 0.08 mins mins\n",
      "epoch 240 | average train loss = 0.000014 and average validation loss = 0.000299 | learning rate = 0.00800\n",
      "time = 0.08 mins mins\n",
      "epoch 241 | average train loss = 0.000014 and average validation loss = 0.000299 | learning rate = 0.00800\n",
      "time = 0.08 mins mins\n",
      "epoch 242 | average train loss = 0.000014 and average validation loss = 0.000299 | learning rate = 0.00800\n",
      "time = 0.08 mins mins\n",
      "epoch 243 | average train loss = 0.000014 and average validation loss = 0.000299 | learning rate = 0.00800\n",
      "time = 0.08 mins mins\n",
      "epoch 244 | average train loss = 0.000014 and average validation loss = 0.000299 | learning rate = 0.00800\n",
      "time = 0.08 mins mins\n",
      "epoch 245 | average train loss = 0.000014 and average validation loss = 0.000300 | learning rate = 0.00800\n",
      "time = 0.08 mins mins\n",
      "epoch 246 | average train loss = 0.000014 and average validation loss = 0.000299 | learning rate = 0.00800\n"
     ]
    },
    {
     "name": "stderr",
     "output_type": "stream",
     "text": [
      " 51%|█████     | 253/500 [00:05<00:05, 48.32it/s]"
     ]
    },
    {
     "name": "stdout",
     "output_type": "stream",
     "text": [
      "time = 0.09 mins mins\n",
      "epoch 247 | average train loss = 0.000014 and average validation loss = 0.000298 | learning rate = 0.00800\n",
      "time = 0.09 mins mins\n",
      "epoch 248 | average train loss = 0.000014 and average validation loss = 0.000298 | learning rate = 0.00800\n",
      "time = 0.09 mins mins\n",
      "epoch 249 | average train loss = 0.000014 and average validation loss = 0.000298 | learning rate = 0.00800\n",
      "time = 0.09 mins mins\n",
      "epoch 250 | average train loss = 0.000013 and average validation loss = 0.000298 | learning rate = 0.00800\n",
      "time = 0.09 mins mins\n",
      "epoch 251 | average train loss = 0.000013 and average validation loss = 0.000299 | learning rate = 0.00800\n",
      "time = 0.09 mins mins\n",
      "epoch 252 | average train loss = 0.000014 and average validation loss = 0.000299 | learning rate = 0.00800\n",
      "time = 0.09 mins mins\n",
      "epoch 253 | average train loss = 0.000014 and average validation loss = 0.000299 | learning rate = 0.00800\n",
      "time = 0.09 mins mins\n",
      "epoch 254 | average train loss = 0.000014 and average validation loss = 0.000298 | learning rate = 0.00800\n",
      "time = 0.09 mins mins\n",
      "epoch 255 | average train loss = 0.000014 and average validation loss = 0.000298 | learning rate = 0.00800\n",
      "time = 0.09 mins mins\n",
      "epoch 256 | average train loss = 0.000014 and average validation loss = 0.000298 | learning rate = 0.00800\n"
     ]
    },
    {
     "name": "stderr",
     "output_type": "stream",
     "text": [
      " 53%|█████▎    | 264/500 [00:05<00:04, 48.17it/s]"
     ]
    },
    {
     "name": "stdout",
     "output_type": "stream",
     "text": [
      "time = 0.09 mins mins\n",
      "epoch 257 | average train loss = 0.000013 and average validation loss = 0.000298 | learning rate = 0.00800\n",
      "time = 0.09 mins mins\n",
      "epoch 258 | average train loss = 0.000013 and average validation loss = 0.000298 | learning rate = 0.00800\n",
      "time = 0.09 mins mins\n",
      "epoch 259 | average train loss = 0.000014 and average validation loss = 0.000299 | learning rate = 0.00800\n",
      "time = 0.09 mins mins\n",
      "epoch 260 | average train loss = 0.000014 and average validation loss = 0.000299 | learning rate = 0.00800\n",
      "time = 0.09 mins mins\n",
      "epoch 261 | average train loss = 0.000014 and average validation loss = 0.000299 | learning rate = 0.00800\n",
      "time = 0.09 mins mins\n",
      "epoch 262 | average train loss = 0.000013 and average validation loss = 0.000298 | learning rate = 0.00800\n",
      "time = 0.09 mins mins\n",
      "epoch 263 | average train loss = 0.000014 and average validation loss = 0.000297 | learning rate = 0.00800\n",
      "time = 0.09 mins mins\n",
      "epoch 264 | average train loss = 0.000013 and average validation loss = 0.000297 | learning rate = 0.00800\n",
      "time = 0.09 mins mins\n",
      "epoch 265 | average train loss = 0.000014 and average validation loss = 0.000298 | learning rate = 0.00800\n",
      "time = 0.09 mins mins\n",
      "epoch 266 | average train loss = 0.000013 and average validation loss = 0.000299 | learning rate = 0.00800\n"
     ]
    },
    {
     "name": "stderr",
     "output_type": "stream",
     "text": [
      " 55%|█████▍    | 274/500 [00:05<00:04, 47.49it/s]"
     ]
    },
    {
     "name": "stdout",
     "output_type": "stream",
     "text": [
      "time = 0.09 mins mins\n",
      "epoch 267 | average train loss = 0.000014 and average validation loss = 0.000300 | learning rate = 0.00800\n",
      "time = 0.09 mins mins\n",
      "epoch 268 | average train loss = 0.000014 and average validation loss = 0.000299 | learning rate = 0.00800\n",
      "time = 0.09 mins mins\n",
      "epoch 269 | average train loss = 0.000013 and average validation loss = 0.000298 | learning rate = 0.00800\n",
      "time = 0.09 mins mins\n",
      "epoch 270 | average train loss = 0.000013 and average validation loss = 0.000297 | learning rate = 0.00800\n",
      "time = 0.09 mins mins\n",
      "epoch 271 | average train loss = 0.000014 and average validation loss = 0.000297 | learning rate = 0.00800\n",
      "time = 0.09 mins mins\n",
      "epoch 272 | average train loss = 0.000013 and average validation loss = 0.000297 | learning rate = 0.00800\n",
      "time = 0.09 mins mins\n",
      "epoch 273 | average train loss = 0.000013 and average validation loss = 0.000299 | learning rate = 0.00800\n",
      "time = 0.09 mins mins\n",
      "epoch 274 | average train loss = 0.000013 and average validation loss = 0.000300 | learning rate = 0.00800\n",
      "time = 0.10 mins mins\n",
      "epoch 275 | average train loss = 0.000014 and average validation loss = 0.000299 | learning rate = 0.00800\n",
      "time = 0.10 mins mins\n",
      "epoch 276 | average train loss = 0.000013 and average validation loss = 0.000297 | learning rate = 0.00800\n"
     ]
    },
    {
     "name": "stderr",
     "output_type": "stream",
     "text": [
      " 57%|█████▋    | 284/500 [00:05<00:04, 47.61it/s]"
     ]
    },
    {
     "name": "stdout",
     "output_type": "stream",
     "text": [
      "time = 0.10 mins mins\n",
      "epoch 277 | average train loss = 0.000014 and average validation loss = 0.000297 | learning rate = 0.00800\n",
      "time = 0.10 mins mins\n",
      "epoch 278 | average train loss = 0.000013 and average validation loss = 0.000298 | learning rate = 0.00800\n",
      "time = 0.10 mins mins\n",
      "epoch 279 | average train loss = 0.000013 and average validation loss = 0.000297 | learning rate = 0.00800\n",
      "time = 0.10 mins mins\n",
      "epoch 280 | average train loss = 0.000013 and average validation loss = 0.000296 | learning rate = 0.00800\n",
      "time = 0.10 mins mins\n",
      "epoch 281 | average train loss = 0.000013 and average validation loss = 0.000298 | learning rate = 0.00800\n",
      "time = 0.10 mins mins\n",
      "epoch 282 | average train loss = 0.000013 and average validation loss = 0.000298 | learning rate = 0.00800\n",
      "time = 0.10 mins mins\n",
      "epoch 283 | average train loss = 0.000014 and average validation loss = 0.000295 | learning rate = 0.00800\n",
      "time = 0.10 mins mins\n",
      "epoch 284 | average train loss = 0.000014 and average validation loss = 0.000301 | learning rate = 0.00800\n",
      "time = 0.10 mins mins\n",
      "epoch 285 | average train loss = 0.000013 and average validation loss = 0.000302 | learning rate = 0.00800\n",
      "time = 0.10 mins mins\n",
      "epoch 286 | average train loss = 0.000014 and average validation loss = 0.000299 | learning rate = 0.00800\n"
     ]
    },
    {
     "name": "stderr",
     "output_type": "stream",
     "text": [
      " 59%|█████▉    | 295/500 [00:06<00:04, 48.65it/s]"
     ]
    },
    {
     "name": "stdout",
     "output_type": "stream",
     "text": [
      "time = 0.10 mins mins\n",
      "epoch 287 | average train loss = 0.000014 and average validation loss = 0.000296 | learning rate = 0.00800\n",
      "time = 0.10 mins mins\n",
      "epoch 288 | average train loss = 0.000013 and average validation loss = 0.000296 | learning rate = 0.00800\n",
      "time = 0.10 mins mins\n",
      "epoch 289 | average train loss = 0.000014 and average validation loss = 0.000296 | learning rate = 0.00800\n",
      "time = 0.10 mins mins\n",
      "epoch 290 | average train loss = 0.000013 and average validation loss = 0.000298 | learning rate = 0.00800\n",
      "time = 0.10 mins mins\n",
      "epoch 291 | average train loss = 0.000013 and average validation loss = 0.000300 | learning rate = 0.00800\n",
      "time = 0.10 mins mins\n",
      "epoch 292 | average train loss = 0.000014 and average validation loss = 0.000300 | learning rate = 0.00800\n",
      "time = 0.10 mins mins\n",
      "epoch 293 | average train loss = 0.000013 and average validation loss = 0.000297 | learning rate = 0.00800\n",
      "time = 0.10 mins mins\n",
      "epoch 294 | average train loss = 0.000013 and average validation loss = 0.000295 | learning rate = 0.00800\n",
      "time = 0.10 mins mins\n",
      "epoch 295 | average train loss = 0.000013 and average validation loss = 0.000296 | learning rate = 0.00800\n",
      "time = 0.10 mins mins\n",
      "epoch 296 | average train loss = 0.000013 and average validation loss = 0.000298 | learning rate = 0.00800\n",
      "time = 0.10 mins mins\n",
      "epoch 297 | average train loss = 0.000013 and average validation loss = 0.000298 | learning rate = 0.00800\n"
     ]
    },
    {
     "name": "stderr",
     "output_type": "stream",
     "text": [
      " 61%|██████    | 306/500 [00:06<00:03, 48.77it/s]"
     ]
    },
    {
     "name": "stdout",
     "output_type": "stream",
     "text": [
      "time = 0.10 mins mins\n",
      "epoch 298 | average train loss = 0.000013 and average validation loss = 0.000297 | learning rate = 0.00800\n",
      "time = 0.10 mins mins\n",
      "epoch 299 | average train loss = 0.000013 and average validation loss = 0.000296 | learning rate = 0.00800\n",
      "time = 0.10 mins mins\n",
      "epoch 300 | average train loss = 0.000013 and average validation loss = 0.000295 | learning rate = 0.00800\n",
      "time = 0.10 mins mins\n",
      "epoch 301 | average train loss = 0.000013 and average validation loss = 0.000296 | learning rate = 0.00800\n",
      "time = 0.10 mins mins\n",
      "epoch 302 | average train loss = 0.000013 and average validation loss = 0.000295 | learning rate = 0.00800\n",
      "time = 0.10 mins mins\n",
      "epoch 303 | average train loss = 0.000013 and average validation loss = 0.000296 | learning rate = 0.00800\n",
      "time = 0.11 mins mins\n",
      "epoch 304 | average train loss = 0.000013 and average validation loss = 0.000297 | learning rate = 0.00800\n",
      "time = 0.11 mins mins\n",
      "epoch 305 | average train loss = 0.000013 and average validation loss = 0.000294 | learning rate = 0.00800\n",
      "time = 0.11 mins mins\n",
      "epoch 306 | average train loss = 0.000014 and average validation loss = 0.000300 | learning rate = 0.00800\n",
      "time = 0.11 mins mins\n",
      "epoch 307 | average train loss = 0.000013 and average validation loss = 0.000295 | learning rate = 0.00800\n"
     ]
    },
    {
     "name": "stderr",
     "output_type": "stream",
     "text": [
      " 63%|██████▎   | 317/500 [00:06<00:03, 48.95it/s]"
     ]
    },
    {
     "name": "stdout",
     "output_type": "stream",
     "text": [
      "time = 0.11 mins mins\n",
      "epoch 308 | average train loss = 0.000013 and average validation loss = 0.000292 | learning rate = 0.00800\n",
      "time = 0.11 mins mins\n",
      "epoch 309 | average train loss = 0.000013 and average validation loss = 0.000302 | learning rate = 0.00800\n",
      "time = 0.11 mins mins\n",
      "epoch 310 | average train loss = 0.000013 and average validation loss = 0.000302 | learning rate = 0.00800\n",
      "time = 0.11 mins mins\n",
      "epoch 311 | average train loss = 0.000013 and average validation loss = 0.000295 | learning rate = 0.00800\n",
      "time = 0.11 mins mins\n",
      "epoch 312 | average train loss = 0.000013 and average validation loss = 0.000293 | learning rate = 0.00800\n",
      "time = 0.11 mins mins\n",
      "epoch 313 | average train loss = 0.000013 and average validation loss = 0.000294 | learning rate = 0.00800\n",
      "time = 0.11 mins mins\n",
      "epoch 314 | average train loss = 0.000013 and average validation loss = 0.000297 | learning rate = 0.00800\n",
      "time = 0.11 mins mins\n",
      "epoch 315 | average train loss = 0.000013 and average validation loss = 0.000297 | learning rate = 0.00800\n",
      "time = 0.11 mins mins\n",
      "epoch 316 | average train loss = 0.000013 and average validation loss = 0.000295 | learning rate = 0.00800\n",
      "time = 0.11 mins mins\n",
      "epoch 317 | average train loss = 0.000013 and average validation loss = 0.000293 | learning rate = 0.00800\n"
     ]
    },
    {
     "name": "stderr",
     "output_type": "stream",
     "text": [
      " 65%|██████▌   | 327/500 [00:06<00:03, 47.29it/s]"
     ]
    },
    {
     "name": "stdout",
     "output_type": "stream",
     "text": [
      "time = 0.11 mins mins\n",
      "epoch 318 | average train loss = 0.000013 and average validation loss = 0.000293 | learning rate = 0.00800\n",
      "time = 0.11 mins mins\n",
      "epoch 319 | average train loss = 0.000013 and average validation loss = 0.000294 | learning rate = 0.00800\n",
      "time = 0.11 mins mins\n",
      "epoch 320 | average train loss = 0.000013 and average validation loss = 0.000295 | learning rate = 0.00800\n",
      "time = 0.11 mins mins\n",
      "epoch 321 | average train loss = 0.000013 and average validation loss = 0.000295 | learning rate = 0.00800\n",
      "time = 0.11 mins mins\n",
      "epoch 322 | average train loss = 0.000013 and average validation loss = 0.000291 | learning rate = 0.00800\n",
      "time = 0.11 mins mins\n",
      "epoch 323 | average train loss = 0.000013 and average validation loss = 0.000289 | learning rate = 0.00800\n",
      "time = 0.11 mins mins\n",
      "epoch 324 | average train loss = 0.000013 and average validation loss = 0.000289 | learning rate = 0.00800\n",
      "time = 0.11 mins mins\n",
      "epoch 325 | average train loss = 0.000013 and average validation loss = 0.000289 | learning rate = 0.00800\n",
      "time = 0.11 mins mins\n",
      "epoch 326 | average train loss = 0.000013 and average validation loss = 0.000289 | learning rate = 0.00800\n",
      "time = 0.11 mins mins\n",
      "epoch 327 | average train loss = 0.000013 and average validation loss = 0.000290 | learning rate = 0.00800\n"
     ]
    },
    {
     "name": "stderr",
     "output_type": "stream",
     "text": [
      " 67%|██████▋   | 337/500 [00:06<00:03, 46.69it/s]"
     ]
    },
    {
     "name": "stdout",
     "output_type": "stream",
     "text": [
      "time = 0.11 mins mins\n",
      "epoch 328 | average train loss = 0.000013 and average validation loss = 0.000290 | learning rate = 0.00800\n",
      "time = 0.11 mins mins\n",
      "epoch 329 | average train loss = 0.000013 and average validation loss = 0.000288 | learning rate = 0.00800\n",
      "time = 0.11 mins mins\n",
      "epoch 330 | average train loss = 0.000013 and average validation loss = 0.000287 | learning rate = 0.00800\n",
      "time = 0.11 mins mins\n",
      "epoch 331 | average train loss = 0.000013 and average validation loss = 0.000289 | learning rate = 0.00800\n",
      "time = 0.12 mins mins\n",
      "epoch 332 | average train loss = 0.000013 and average validation loss = 0.000287 | learning rate = 0.00800\n",
      "time = 0.12 mins mins\n",
      "epoch 333 | average train loss = 0.000013 and average validation loss = 0.000286 | learning rate = 0.00800\n",
      "time = 0.12 mins mins\n",
      "epoch 334 | average train loss = 0.000013 and average validation loss = 0.000287 | learning rate = 0.00800\n",
      "time = 0.12 mins mins\n",
      "epoch 335 | average train loss = 0.000013 and average validation loss = 0.000287 | learning rate = 0.00800\n",
      "time = 0.12 mins mins\n",
      "epoch 336 | average train loss = 0.000013 and average validation loss = 0.000287 | learning rate = 0.00800\n",
      "time = 0.12 mins mins\n",
      "epoch 337 | average train loss = 0.000013 and average validation loss = 0.000286 | learning rate = 0.00800\n"
     ]
    },
    {
     "name": "stderr",
     "output_type": "stream",
     "text": [
      " 69%|██████▉   | 347/500 [00:07<00:03, 46.58it/s]"
     ]
    },
    {
     "name": "stdout",
     "output_type": "stream",
     "text": [
      "time = 0.12 mins mins\n",
      "epoch 338 | average train loss = 0.000013 and average validation loss = 0.000286 | learning rate = 0.00800\n",
      "time = 0.12 mins mins\n",
      "epoch 339 | average train loss = 0.000013 and average validation loss = 0.000286 | learning rate = 0.00800\n",
      "time = 0.12 mins mins\n",
      "epoch 340 | average train loss = 0.000013 and average validation loss = 0.000288 | learning rate = 0.00800\n",
      "time = 0.12 mins mins\n",
      "epoch 341 | average train loss = 0.000013 and average validation loss = 0.000285 | learning rate = 0.00800\n",
      "time = 0.12 mins mins\n",
      "epoch 342 | average train loss = 0.000013 and average validation loss = 0.000284 | learning rate = 0.00800\n",
      "time = 0.12 mins mins\n",
      "epoch 343 | average train loss = 0.000013 and average validation loss = 0.000287 | learning rate = 0.00800\n",
      "time = 0.12 mins mins\n",
      "epoch 344 | average train loss = 0.000013 and average validation loss = 0.000288 | learning rate = 0.00800\n",
      "time = 0.12 mins mins\n",
      "epoch 345 | average train loss = 0.000013 and average validation loss = 0.000285 | learning rate = 0.00800\n",
      "time = 0.12 mins mins\n",
      "epoch 346 | average train loss = 0.000013 and average validation loss = 0.000285 | learning rate = 0.00800\n",
      "time = 0.12 mins mins\n",
      "epoch 347 | average train loss = 0.000013 and average validation loss = 0.000286 | learning rate = 0.00800\n"
     ]
    },
    {
     "name": "stderr",
     "output_type": "stream",
     "text": [
      " 71%|███████▏  | 357/500 [00:07<00:03, 47.56it/s]"
     ]
    },
    {
     "name": "stdout",
     "output_type": "stream",
     "text": [
      "time = 0.12 mins mins\n",
      "epoch 348 | average train loss = 0.000013 and average validation loss = 0.000287 | learning rate = 0.00800\n",
      "time = 0.12 mins mins\n",
      "epoch 349 | average train loss = 0.000013 and average validation loss = 0.000284 | learning rate = 0.00800\n",
      "time = 0.12 mins mins\n",
      "epoch 350 | average train loss = 0.000013 and average validation loss = 0.000282 | learning rate = 0.00800\n",
      "time = 0.12 mins mins\n",
      "epoch 351 | average train loss = 0.000013 and average validation loss = 0.000286 | learning rate = 0.00800\n",
      "time = 0.12 mins mins\n",
      "epoch 352 | average train loss = 0.000013 and average validation loss = 0.000285 | learning rate = 0.00800\n",
      "time = 0.12 mins mins\n",
      "epoch 353 | average train loss = 0.000013 and average validation loss = 0.000287 | learning rate = 0.00800\n",
      "time = 0.12 mins mins\n",
      "epoch 354 | average train loss = 0.000013 and average validation loss = 0.000285 | learning rate = 0.00800\n",
      "time = 0.12 mins mins\n",
      "epoch 355 | average train loss = 0.000013 and average validation loss = 0.000284 | learning rate = 0.00800\n",
      "time = 0.12 mins mins\n",
      "epoch 356 | average train loss = 0.000013 and average validation loss = 0.000282 | learning rate = 0.00800\n",
      "time = 0.12 mins mins\n",
      "epoch 357 | average train loss = 0.000013 and average validation loss = 0.000283 | learning rate = 0.00800\n"
     ]
    },
    {
     "name": "stderr",
     "output_type": "stream",
     "text": [
      " 73%|███████▎  | 367/500 [00:07<00:02, 46.89it/s]"
     ]
    },
    {
     "name": "stdout",
     "output_type": "stream",
     "text": [
      "time = 0.12 mins mins\n",
      "epoch 358 | average train loss = 0.000013 and average validation loss = 0.000284 | learning rate = 0.00800\n",
      "time = 0.12 mins mins\n",
      "epoch 359 | average train loss = 0.000013 and average validation loss = 0.000284 | learning rate = 0.00800\n",
      "time = 0.12 mins mins\n",
      "epoch 360 | average train loss = 0.000013 and average validation loss = 0.000283 | learning rate = 0.00800\n",
      "time = 0.13 mins mins\n",
      "epoch 361 | average train loss = 0.000013 and average validation loss = 0.000282 | learning rate = 0.00800\n",
      "time = 0.13 mins mins\n",
      "epoch 362 | average train loss = 0.000013 and average validation loss = 0.000283 | learning rate = 0.00800\n",
      "time = 0.13 mins mins\n",
      "epoch 363 | average train loss = 0.000013 and average validation loss = 0.000283 | learning rate = 0.00800\n",
      "time = 0.13 mins mins\n",
      "epoch 364 | average train loss = 0.000013 and average validation loss = 0.000284 | learning rate = 0.00800\n",
      "time = 0.13 mins mins\n",
      "epoch 365 | average train loss = 0.000013 and average validation loss = 0.000282 | learning rate = 0.00800\n",
      "time = 0.13 mins mins\n",
      "epoch 366 | average train loss = 0.000013 and average validation loss = 0.000281 | learning rate = 0.00800\n",
      "time = 0.13 mins mins\n",
      "epoch 367 | average train loss = 0.000013 and average validation loss = 0.000281 | learning rate = 0.00800\n"
     ]
    },
    {
     "name": "stderr",
     "output_type": "stream",
     "text": [
      " 75%|███████▌  | 377/500 [00:07<00:02, 46.67it/s]"
     ]
    },
    {
     "name": "stdout",
     "output_type": "stream",
     "text": [
      "time = 0.13 mins mins\n",
      "epoch 368 | average train loss = 0.000013 and average validation loss = 0.000282 | learning rate = 0.00800\n",
      "time = 0.13 mins mins\n",
      "epoch 369 | average train loss = 0.000013 and average validation loss = 0.000283 | learning rate = 0.00800\n",
      "time = 0.13 mins mins\n",
      "epoch 370 | average train loss = 0.000013 and average validation loss = 0.000281 | learning rate = 0.00800\n",
      "time = 0.13 mins mins\n",
      "epoch 371 | average train loss = 0.000013 and average validation loss = 0.000282 | learning rate = 0.00800\n",
      "time = 0.13 mins mins\n",
      "epoch 372 | average train loss = 0.000013 and average validation loss = 0.000282 | learning rate = 0.00800\n",
      "time = 0.13 mins mins\n",
      "epoch 373 | average train loss = 0.000013 and average validation loss = 0.000282 | learning rate = 0.00800\n",
      "time = 0.13 mins mins\n",
      "epoch 374 | average train loss = 0.000013 and average validation loss = 0.000283 | learning rate = 0.00800\n",
      "time = 0.13 mins mins\n",
      "epoch 375 | average train loss = 0.000013 and average validation loss = 0.000282 | learning rate = 0.00800\n",
      "time = 0.13 mins mins\n",
      "epoch 376 | average train loss = 0.000013 and average validation loss = 0.000280 | learning rate = 0.00800\n",
      "time = 0.13 mins mins\n",
      "epoch 377 | average train loss = 0.000013 and average validation loss = 0.000281 | learning rate = 0.00800\n"
     ]
    },
    {
     "name": "stderr",
     "output_type": "stream",
     "text": [
      " 77%|███████▋  | 387/500 [00:08<00:02, 47.25it/s]"
     ]
    },
    {
     "name": "stdout",
     "output_type": "stream",
     "text": [
      "time = 0.13 mins mins\n",
      "epoch 378 | average train loss = 0.000013 and average validation loss = 0.000283 | learning rate = 0.00800\n",
      "time = 0.13 mins mins\n",
      "epoch 379 | average train loss = 0.000013 and average validation loss = 0.000284 | learning rate = 0.00800\n",
      "time = 0.13 mins mins\n",
      "epoch 380 | average train loss = 0.000013 and average validation loss = 0.000281 | learning rate = 0.00800\n",
      "time = 0.13 mins mins\n",
      "epoch 381 | average train loss = 0.000013 and average validation loss = 0.000281 | learning rate = 0.00800\n",
      "time = 0.13 mins mins\n",
      "epoch 382 | average train loss = 0.000013 and average validation loss = 0.000282 | learning rate = 0.00800\n",
      "time = 0.13 mins mins\n",
      "epoch 383 | average train loss = 0.000013 and average validation loss = 0.000285 | learning rate = 0.00800\n",
      "time = 0.13 mins mins\n",
      "epoch 384 | average train loss = 0.000013 and average validation loss = 0.000281 | learning rate = 0.00800\n",
      "time = 0.13 mins mins\n",
      "epoch 385 | average train loss = 0.000013 and average validation loss = 0.000280 | learning rate = 0.00800\n",
      "time = 0.13 mins mins\n",
      "epoch 386 | average train loss = 0.000013 and average validation loss = 0.000282 | learning rate = 0.00800\n",
      "time = 0.13 mins mins\n",
      "epoch 387 | average train loss = 0.000013 and average validation loss = 0.000287 | learning rate = 0.00800\n"
     ]
    },
    {
     "name": "stderr",
     "output_type": "stream",
     "text": [
      " 79%|███████▉  | 397/500 [00:08<00:02, 47.25it/s]"
     ]
    },
    {
     "name": "stdout",
     "output_type": "stream",
     "text": [
      "time = 0.13 mins mins\n",
      "epoch 388 | average train loss = 0.000013 and average validation loss = 0.000282 | learning rate = 0.00800\n",
      "time = 0.14 mins mins\n",
      "epoch 389 | average train loss = 0.000013 and average validation loss = 0.000279 | learning rate = 0.00800\n",
      "time = 0.14 mins mins\n",
      "epoch 390 | average train loss = 0.000013 and average validation loss = 0.000280 | learning rate = 0.00800\n",
      "time = 0.14 mins mins\n",
      "epoch 391 | average train loss = 0.000013 and average validation loss = 0.000284 | learning rate = 0.00800\n",
      "time = 0.14 mins mins\n",
      "epoch 392 | average train loss = 0.000013 and average validation loss = 0.000284 | learning rate = 0.00800\n",
      "time = 0.14 mins mins\n",
      "epoch 393 | average train loss = 0.000013 and average validation loss = 0.000280 | learning rate = 0.00800\n",
      "time = 0.14 mins mins\n",
      "epoch 394 | average train loss = 0.000013 and average validation loss = 0.000279 | learning rate = 0.00800\n",
      "time = 0.14 mins mins\n",
      "epoch 395 | average train loss = 0.000013 and average validation loss = 0.000282 | learning rate = 0.00800\n",
      "time = 0.14 mins mins\n",
      "epoch 396 | average train loss = 0.000013 and average validation loss = 0.000283 | learning rate = 0.00800\n",
      "time = 0.14 mins mins\n",
      "epoch 397 | average train loss = 0.000013 and average validation loss = 0.000282 | learning rate = 0.00800\n"
     ]
    },
    {
     "name": "stderr",
     "output_type": "stream",
     "text": [
      " 81%|████████▏ | 407/500 [00:08<00:01, 47.00it/s]"
     ]
    },
    {
     "name": "stdout",
     "output_type": "stream",
     "text": [
      "time = 0.14 mins mins\n",
      "epoch 398 | average train loss = 0.000013 and average validation loss = 0.000282 | learning rate = 0.00800\n",
      "time = 0.14 mins mins\n",
      "epoch 399 | average train loss = 0.000013 and average validation loss = 0.000279 | learning rate = 0.00640\n",
      "time = 0.14 mins mins\n",
      "epoch 400 | average train loss = 0.000013 and average validation loss = 0.000280 | learning rate = 0.00640\n",
      "time = 0.14 mins mins\n",
      "epoch 401 | average train loss = 0.000012 and average validation loss = 0.000283 | learning rate = 0.00640\n",
      "time = 0.14 mins mins\n",
      "epoch 402 | average train loss = 0.000013 and average validation loss = 0.000286 | learning rate = 0.00640\n",
      "time = 0.14 mins mins\n",
      "epoch 403 | average train loss = 0.000013 and average validation loss = 0.000283 | learning rate = 0.00640\n",
      "time = 0.14 mins mins\n",
      "epoch 404 | average train loss = 0.000013 and average validation loss = 0.000279 | learning rate = 0.00640\n",
      "time = 0.14 mins mins\n",
      "epoch 405 | average train loss = 0.000013 and average validation loss = 0.000279 | learning rate = 0.00640\n",
      "time = 0.14 mins mins\n",
      "epoch 406 | average train loss = 0.000013 and average validation loss = 0.000281 | learning rate = 0.00640\n",
      "time = 0.14 mins mins\n",
      "epoch 407 | average train loss = 0.000012 and average validation loss = 0.000283 | learning rate = 0.00640\n"
     ]
    },
    {
     "name": "stderr",
     "output_type": "stream",
     "text": [
      " 83%|████████▎ | 417/500 [00:08<00:01, 47.80it/s]"
     ]
    },
    {
     "name": "stdout",
     "output_type": "stream",
     "text": [
      "time = 0.14 mins mins\n",
      "epoch 408 | average train loss = 0.000013 and average validation loss = 0.000283 | learning rate = 0.00640\n",
      "time = 0.14 mins mins\n",
      "epoch 409 | average train loss = 0.000013 and average validation loss = 0.000281 | learning rate = 0.00640\n",
      "time = 0.14 mins mins\n",
      "epoch 410 | average train loss = 0.000012 and average validation loss = 0.000280 | learning rate = 0.00640\n",
      "time = 0.14 mins mins\n",
      "epoch 411 | average train loss = 0.000012 and average validation loss = 0.000280 | learning rate = 0.00640\n",
      "time = 0.14 mins mins\n",
      "epoch 412 | average train loss = 0.000013 and average validation loss = 0.000280 | learning rate = 0.00640\n",
      "time = 0.14 mins mins\n",
      "epoch 413 | average train loss = 0.000013 and average validation loss = 0.000281 | learning rate = 0.00640\n",
      "time = 0.14 mins mins\n",
      "epoch 414 | average train loss = 0.000013 and average validation loss = 0.000283 | learning rate = 0.00640\n",
      "time = 0.14 mins mins\n",
      "epoch 415 | average train loss = 0.000013 and average validation loss = 0.000281 | learning rate = 0.00640\n",
      "time = 0.14 mins mins\n",
      "epoch 416 | average train loss = 0.000012 and average validation loss = 0.000279 | learning rate = 0.00640\n",
      "time = 0.15 mins mins\n",
      "epoch 417 | average train loss = 0.000012 and average validation loss = 0.000279 | learning rate = 0.00640\n"
     ]
    },
    {
     "name": "stderr",
     "output_type": "stream",
     "text": [
      " 85%|████████▌ | 427/500 [00:08<00:01, 47.97it/s]"
     ]
    },
    {
     "name": "stdout",
     "output_type": "stream",
     "text": [
      "time = 0.15 mins mins\n",
      "epoch 418 | average train loss = 0.000012 and average validation loss = 0.000281 | learning rate = 0.00640\n",
      "time = 0.15 mins mins\n",
      "epoch 419 | average train loss = 0.000013 and average validation loss = 0.000282 | learning rate = 0.00640\n",
      "time = 0.15 mins mins\n",
      "epoch 420 | average train loss = 0.000013 and average validation loss = 0.000281 | learning rate = 0.00640\n",
      "time = 0.15 mins mins\n",
      "epoch 421 | average train loss = 0.000013 and average validation loss = 0.000280 | learning rate = 0.00640\n",
      "time = 0.15 mins mins\n",
      "epoch 422 | average train loss = 0.000012 and average validation loss = 0.000281 | learning rate = 0.00640\n",
      "time = 0.15 mins mins\n",
      "epoch 423 | average train loss = 0.000013 and average validation loss = 0.000281 | learning rate = 0.00640\n",
      "time = 0.15 mins mins\n",
      "epoch 424 | average train loss = 0.000012 and average validation loss = 0.000280 | learning rate = 0.00640\n",
      "time = 0.15 mins mins\n",
      "epoch 425 | average train loss = 0.000012 and average validation loss = 0.000279 | learning rate = 0.00640\n",
      "time = 0.15 mins mins\n",
      "epoch 426 | average train loss = 0.000013 and average validation loss = 0.000280 | learning rate = 0.00640\n",
      "time = 0.15 mins mins\n",
      "epoch 427 | average train loss = 0.000013 and average validation loss = 0.000280 | learning rate = 0.00640\n"
     ]
    },
    {
     "name": "stderr",
     "output_type": "stream",
     "text": [
      " 87%|████████▋ | 437/500 [00:09<00:01, 48.09it/s]"
     ]
    },
    {
     "name": "stdout",
     "output_type": "stream",
     "text": [
      "time = 0.15 mins mins\n",
      "epoch 428 | average train loss = 0.000013 and average validation loss = 0.000280 | learning rate = 0.00640\n",
      "time = 0.15 mins mins\n",
      "epoch 429 | average train loss = 0.000013 and average validation loss = 0.000280 | learning rate = 0.00640\n",
      "time = 0.15 mins mins\n",
      "epoch 430 | average train loss = 0.000012 and average validation loss = 0.000281 | learning rate = 0.00640\n",
      "time = 0.15 mins mins\n",
      "epoch 431 | average train loss = 0.000012 and average validation loss = 0.000280 | learning rate = 0.00640\n",
      "time = 0.15 mins mins\n",
      "epoch 432 | average train loss = 0.000013 and average validation loss = 0.000279 | learning rate = 0.00640\n",
      "time = 0.15 mins mins\n",
      "epoch 433 | average train loss = 0.000012 and average validation loss = 0.000280 | learning rate = 0.00640\n",
      "time = 0.15 mins mins\n",
      "epoch 434 | average train loss = 0.000013 and average validation loss = 0.000281 | learning rate = 0.00640\n",
      "time = 0.15 mins mins\n",
      "epoch 435 | average train loss = 0.000013 and average validation loss = 0.000281 | learning rate = 0.00640\n",
      "time = 0.15 mins mins\n",
      "epoch 436 | average train loss = 0.000012 and average validation loss = 0.000281 | learning rate = 0.00640\n",
      "time = 0.15 mins mins\n",
      "epoch 437 | average train loss = 0.000013 and average validation loss = 0.000280 | learning rate = 0.00640\n"
     ]
    },
    {
     "name": "stderr",
     "output_type": "stream",
     "text": [
      " 89%|████████▉ | 447/500 [00:09<00:01, 47.18it/s]"
     ]
    },
    {
     "name": "stdout",
     "output_type": "stream",
     "text": [
      "time = 0.15 mins mins\n",
      "epoch 438 | average train loss = 0.000012 and average validation loss = 0.000280 | learning rate = 0.00640\n",
      "time = 0.15 mins mins\n",
      "epoch 439 | average train loss = 0.000013 and average validation loss = 0.000282 | learning rate = 0.00640\n",
      "time = 0.15 mins mins\n",
      "epoch 440 | average train loss = 0.000012 and average validation loss = 0.000280 | learning rate = 0.00640\n",
      "time = 0.15 mins mins\n",
      "epoch 441 | average train loss = 0.000013 and average validation loss = 0.000279 | learning rate = 0.00640\n",
      "time = 0.15 mins mins\n",
      "epoch 442 | average train loss = 0.000013 and average validation loss = 0.000279 | learning rate = 0.00640\n",
      "time = 0.15 mins mins\n",
      "epoch 443 | average train loss = 0.000012 and average validation loss = 0.000278 | learning rate = 0.00640\n",
      "time = 0.15 mins mins\n",
      "epoch 444 | average train loss = 0.000013 and average validation loss = 0.000280 | learning rate = 0.00640\n",
      "time = 0.15 mins mins\n",
      "epoch 445 | average train loss = 0.000013 and average validation loss = 0.000281 | learning rate = 0.00640\n",
      "time = 0.16 mins mins\n",
      "epoch 446 | average train loss = 0.000012 and average validation loss = 0.000279 | learning rate = 0.00640\n",
      "time = 0.16 mins mins\n",
      "epoch 447 | average train loss = 0.000012 and average validation loss = 0.000278 | learning rate = 0.00640\n"
     ]
    },
    {
     "name": "stderr",
     "output_type": "stream",
     "text": [
      " 91%|█████████▏| 457/500 [00:09<00:00, 47.13it/s]"
     ]
    },
    {
     "name": "stdout",
     "output_type": "stream",
     "text": [
      "time = 0.16 mins mins\n",
      "epoch 448 | average train loss = 0.000012 and average validation loss = 0.000280 | learning rate = 0.00640\n",
      "time = 0.16 mins mins\n",
      "epoch 449 | average train loss = 0.000012 and average validation loss = 0.000280 | learning rate = 0.00640\n",
      "time = 0.16 mins mins\n",
      "epoch 450 | average train loss = 0.000012 and average validation loss = 0.000278 | learning rate = 0.00640\n",
      "time = 0.16 mins mins\n",
      "epoch 451 | average train loss = 0.000012 and average validation loss = 0.000278 | learning rate = 0.00640\n",
      "time = 0.16 mins mins\n",
      "epoch 452 | average train loss = 0.000012 and average validation loss = 0.000280 | learning rate = 0.00640\n",
      "time = 0.16 mins mins\n",
      "epoch 453 | average train loss = 0.000012 and average validation loss = 0.000280 | learning rate = 0.00640\n",
      "time = 0.16 mins mins\n",
      "epoch 454 | average train loss = 0.000012 and average validation loss = 0.000280 | learning rate = 0.00640\n",
      "time = 0.16 mins mins\n",
      "epoch 455 | average train loss = 0.000013 and average validation loss = 0.000280 | learning rate = 0.00640\n",
      "time = 0.16 mins mins\n",
      "epoch 456 | average train loss = 0.000013 and average validation loss = 0.000279 | learning rate = 0.00640\n",
      "time = 0.16 mins mins\n",
      "epoch 457 | average train loss = 0.000012 and average validation loss = 0.000278 | learning rate = 0.00640\n"
     ]
    },
    {
     "name": "stderr",
     "output_type": "stream",
     "text": [
      " 93%|█████████▎| 467/500 [00:09<00:00, 47.22it/s]"
     ]
    },
    {
     "name": "stdout",
     "output_type": "stream",
     "text": [
      "time = 0.16 mins mins\n",
      "epoch 458 | average train loss = 0.000012 and average validation loss = 0.000278 | learning rate = 0.00640\n",
      "time = 0.16 mins mins\n",
      "epoch 459 | average train loss = 0.000012 and average validation loss = 0.000280 | learning rate = 0.00640\n",
      "time = 0.16 mins mins\n",
      "epoch 460 | average train loss = 0.000013 and average validation loss = 0.000280 | learning rate = 0.00640\n",
      "time = 0.16 mins mins\n",
      "epoch 461 | average train loss = 0.000012 and average validation loss = 0.000279 | learning rate = 0.00640\n",
      "time = 0.16 mins mins\n",
      "epoch 462 | average train loss = 0.000012 and average validation loss = 0.000280 | learning rate = 0.00640\n",
      "time = 0.16 mins mins\n",
      "epoch 463 | average train loss = 0.000012 and average validation loss = 0.000279 | learning rate = 0.00640\n",
      "time = 0.16 mins mins\n",
      "epoch 464 | average train loss = 0.000012 and average validation loss = 0.000278 | learning rate = 0.00640\n",
      "time = 0.16 mins mins\n",
      "epoch 465 | average train loss = 0.000012 and average validation loss = 0.000278 | learning rate = 0.00640\n",
      "time = 0.16 mins mins\n",
      "epoch 466 | average train loss = 0.000013 and average validation loss = 0.000278 | learning rate = 0.00640\n",
      "time = 0.16 mins mins\n",
      "epoch 467 | average train loss = 0.000012 and average validation loss = 0.000280 | learning rate = 0.00640\n"
     ]
    },
    {
     "name": "stderr",
     "output_type": "stream",
     "text": [
      " 95%|█████████▌| 477/500 [00:09<00:00, 47.08it/s]"
     ]
    },
    {
     "name": "stdout",
     "output_type": "stream",
     "text": [
      "time = 0.16 mins mins\n",
      "epoch 468 | average train loss = 0.000012 and average validation loss = 0.000281 | learning rate = 0.00640\n",
      "time = 0.16 mins mins\n",
      "epoch 469 | average train loss = 0.000012 and average validation loss = 0.000280 | learning rate = 0.00640\n",
      "time = 0.16 mins mins\n",
      "epoch 470 | average train loss = 0.000012 and average validation loss = 0.000277 | learning rate = 0.00640\n",
      "time = 0.16 mins mins\n",
      "epoch 471 | average train loss = 0.000012 and average validation loss = 0.000279 | learning rate = 0.00640\n",
      "time = 0.16 mins mins\n",
      "epoch 472 | average train loss = 0.000012 and average validation loss = 0.000282 | learning rate = 0.00640\n",
      "time = 0.16 mins mins\n",
      "epoch 473 | average train loss = 0.000013 and average validation loss = 0.000281 | learning rate = 0.00640\n",
      "time = 0.17 mins mins\n",
      "epoch 474 | average train loss = 0.000012 and average validation loss = 0.000278 | learning rate = 0.00640\n",
      "time = 0.17 mins mins\n",
      "epoch 475 | average train loss = 0.000012 and average validation loss = 0.000278 | learning rate = 0.00640\n",
      "time = 0.17 mins mins\n",
      "epoch 476 | average train loss = 0.000012 and average validation loss = 0.000281 | learning rate = 0.00640\n",
      "time = 0.17 mins mins\n",
      "epoch 477 | average train loss = 0.000013 and average validation loss = 0.000281 | learning rate = 0.00640\n"
     ]
    },
    {
     "name": "stderr",
     "output_type": "stream",
     "text": [
      " 97%|█████████▋| 487/500 [00:10<00:00, 46.43it/s]"
     ]
    },
    {
     "name": "stdout",
     "output_type": "stream",
     "text": [
      "time = 0.17 mins mins\n",
      "epoch 478 | average train loss = 0.000012 and average validation loss = 0.000280 | learning rate = 0.00640\n",
      "time = 0.17 mins mins\n",
      "epoch 479 | average train loss = 0.000013 and average validation loss = 0.000277 | learning rate = 0.00640\n",
      "time = 0.17 mins mins\n",
      "epoch 480 | average train loss = 0.000012 and average validation loss = 0.000278 | learning rate = 0.00640\n",
      "time = 0.17 mins mins\n",
      "epoch 481 | average train loss = 0.000012 and average validation loss = 0.000277 | learning rate = 0.00640\n",
      "time = 0.17 mins mins\n",
      "epoch 482 | average train loss = 0.000012 and average validation loss = 0.000280 | learning rate = 0.00640\n",
      "time = 0.17 mins mins\n",
      "epoch 483 | average train loss = 0.000012 and average validation loss = 0.000281 | learning rate = 0.00640\n",
      "time = 0.17 mins mins\n",
      "epoch 484 | average train loss = 0.000012 and average validation loss = 0.000280 | learning rate = 0.00640\n",
      "time = 0.17 mins mins\n",
      "epoch 485 | average train loss = 0.000013 and average validation loss = 0.000277 | learning rate = 0.00640\n",
      "time = 0.17 mins mins\n",
      "epoch 486 | average train loss = 0.000012 and average validation loss = 0.000276 | learning rate = 0.00640\n",
      "time = 0.17 mins mins\n",
      "epoch 487 | average train loss = 0.000012 and average validation loss = 0.000280 | learning rate = 0.00640\n"
     ]
    },
    {
     "name": "stderr",
     "output_type": "stream",
     "text": [
      " 99%|█████████▉| 497/500 [00:10<00:00, 46.92it/s]"
     ]
    },
    {
     "name": "stdout",
     "output_type": "stream",
     "text": [
      "time = 0.17 mins mins\n",
      "epoch 488 | average train loss = 0.000012 and average validation loss = 0.000283 | learning rate = 0.00640\n",
      "time = 0.17 mins mins\n",
      "epoch 489 | average train loss = 0.000012 and average validation loss = 0.000279 | learning rate = 0.00640\n",
      "time = 0.17 mins mins\n",
      "epoch 490 | average train loss = 0.000013 and average validation loss = 0.000276 | learning rate = 0.00640\n",
      "time = 0.17 mins mins\n",
      "epoch 491 | average train loss = 0.000012 and average validation loss = 0.000277 | learning rate = 0.00640\n",
      "time = 0.17 mins mins\n",
      "epoch 492 | average train loss = 0.000013 and average validation loss = 0.000281 | learning rate = 0.00640\n",
      "time = 0.17 mins mins\n",
      "epoch 493 | average train loss = 0.000012 and average validation loss = 0.000281 | learning rate = 0.00640\n",
      "time = 0.17 mins mins\n",
      "epoch 494 | average train loss = 0.000013 and average validation loss = 0.000278 | learning rate = 0.00640\n",
      "time = 0.17 mins mins\n",
      "epoch 495 | average train loss = 0.000012 and average validation loss = 0.000276 | learning rate = 0.00640\n",
      "time = 0.17 mins mins\n",
      "epoch 496 | average train loss = 0.000012 and average validation loss = 0.000278 | learning rate = 0.00640\n",
      "time = 0.17 mins mins\n",
      "epoch 497 | average train loss = 0.000013 and average validation loss = 0.000278 | learning rate = 0.00640\n"
     ]
    },
    {
     "name": "stderr",
     "output_type": "stream",
     "text": [
      "100%|██████████| 500/500 [00:10<00:00, 47.86it/s]"
     ]
    },
    {
     "name": "stdout",
     "output_type": "stream",
     "text": [
      "time = 0.17 mins mins\n",
      "epoch 498 | average train loss = 0.000012 and average validation loss = 0.000279 | learning rate = 0.00640\n",
      "time = 0.17 mins mins\n",
      "epoch 499 | average train loss = 0.000012 and average validation loss = 0.000279 | learning rate = 0.00640\n"
     ]
    },
    {
     "name": "stderr",
     "output_type": "stream",
     "text": [
      "\n"
     ]
    }
   ],
   "source": [
    "trainer.train_val(train_loader, val_loader, optimizer, RSE_loss,\n",
    "                  scheduler, num_epochs, write_every=1, train_graphnet=False)"
   ]
  },
  {
   "cell_type": "code",
   "execution_count": 33,
   "metadata": {},
   "outputs": [
    {
     "data": {
      "image/png": "[encoded data removed]",
      "text/plain": [
       "<Figure size 640x480 with 1 Axes>"
      ]
     },
     "metadata": {},
     "output_type": "display_data"
    }
   ],
   "source": [
    "df_train = pd.read_csv('./metrics/' + model_name + '/train_metrics.csv')\n",
    "df_val = pd.read_csv('./metrics/' + model_name + '/val_metrics.csv')\n",
    "plt.plot(df_train['epoch'], df_train['loss'])\n",
    "plt.plot(df_val['epoch'], df_val['loss'])\n",
    "plt.show()"
   ]
  },
  {
   "cell_type": "code",
   "execution_count": null,
   "metadata": {},
   "outputs": [],
   "source": []
  }
 ],
 "metadata": {
  "kernelspec": {
   "display_name": "xasnet",
   "language": "python",
   "name": "xasnet"
  },
  "language_info": {
   "codemirror_mode": {
    "name": "ipython",
    "version": 3
   },
   "file_extension": ".py",
   "mimetype": "text/x-python",
   "name": "python",
   "nbconvert_exporter": "python",
   "pygments_lexer": "ipython3",
   "version": "3.10.4"
  }
 },
 "nbformat": 4,
 "nbformat_minor": 4
}
