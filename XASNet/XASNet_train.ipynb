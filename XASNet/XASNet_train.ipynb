{
 "cells": [
  {
   "cell_type": "code",
   "execution_count": 1,
   "metadata": {},
   "outputs": [],
   "source": [
    "# --- Standard libraries\n",
    "import os.path as osp\n",
    "import pandas as pd\n",
    "import numpy as np\n",
    "import pickle as pkl\n",
    "# --- Matplotlib\n",
    "import matplotlib.pyplot as plt\n",
    "#import imageio\n",
    "import torch\n",
    "import torch_geometric\n",
    "from torch.nn import MSELoss\n",
    "from torch_geometric.loader import DataLoader\n",
    "# --- XASNet\n",
    "from XASNet.data import QM9_XAS\n",
    "from XASNet.data import save_split\n",
    "from XASNet.models import XASNet_GNN, XASNet_GAT, XASNet_GraphNet\n",
    "from XASNet.trainer import GNNTrainer\n",
    "from dataset import XASMolDataset"
   ]
  },
  {
   "cell_type": "code",
   "execution_count": 2,
   "metadata": {},
   "outputs": [
    {
     "name": "stdout",
     "output_type": "stream",
     "text": [
      "Pytorch version: 2.4.1+cu121\n",
      "PyG version: 2.5.3\n"
     ]
    }
   ],
   "source": [
    "print(f'Pytorch version: {torch.__version__}')\n",
    "print(f'PyG version: {torch_geometric.__version__}')"
   ]
  },
  {
   "cell_type": "code",
   "execution_count": 3,
   "metadata": {},
   "outputs": [
    {
     "name": "stderr",
     "output_type": "stream",
     "text": [
      "/home/samjhall/miniconda3/envs/xasnet/lib/python3.11/site-packages/torch_geometric/data/dataset.py:238: FutureWarning: You are using `torch.load` with `weights_only=False` (the current default value), which uses the default pickle module implicitly. It is possible to construct malicious pickle data which will execute arbitrary code during unpickling (See https://github.com/pytorch/pytorch/blob/main/SECURITY.md#untrusted-models for more details). In a future release, the default value for `weights_only` will be flipped to `True`. This limits the functions that could be executed during unpickling. Arbitrary objects will no longer be allowed to be loaded via this mode unless they are explicitly allowlisted by the user via `torch.serialization.add_safe_globals`. We recommend you start setting `weights_only=True` for any use case where you don't have full control of the loaded file. Please open an issue on GitHub for any issues related to this experimental feature.\n",
      "  if osp.exists(f) and torch.load(f) != _repr(self.pre_transform):\n",
      "/home/samjhall/miniconda3/envs/xasnet/lib/python3.11/site-packages/torch_geometric/data/dataset.py:246: FutureWarning: You are using `torch.load` with `weights_only=False` (the current default value), which uses the default pickle module implicitly. It is possible to construct malicious pickle data which will execute arbitrary code during unpickling (See https://github.com/pytorch/pytorch/blob/main/SECURITY.md#untrusted-models for more details). In a future release, the default value for `weights_only` will be flipped to `True`. This limits the functions that could be executed during unpickling. Arbitrary objects will no longer be allowed to be loaded via this mode unless they are explicitly allowlisted by the user via `torch.serialization.add_safe_globals`. We recommend you start setting `weights_only=True` for any use case where you don't have full control of the loaded file. Please open an issue on GitHub for any issues related to this experimental feature.\n",
      "  if osp.exists(f) and torch.load(f) != _repr(self.pre_filter):\n",
      "/home/samjhall/github/GNN-XAS-GO/XASNet/dataset.py:149: FutureWarning: You are using `torch.load` with `weights_only=False` (the current default value), which uses the default pickle module implicitly. It is possible to construct malicious pickle data which will execute arbitrary code during unpickling (See https://github.com/pytorch/pytorch/blob/main/SECURITY.md#untrusted-models for more details). In a future release, the default value for `weights_only` will be flipped to `True`. This limits the functions that could be executed during unpickling. Arbitrary objects will no longer be allowed to be loaded via this mode unless they are explicitly allowlisted by the user via `torch.serialization.add_safe_globals`. We recommend you start setting `weights_only=True` for any use case where you don't have full control of the loaded file. Please open an issue on GitHub for any issues related to this experimental feature.\n",
      "  self.data, self.slices = torch.load(self.processed_paths[0])\n"
     ]
    }
   ],
   "source": [
    "path = '../'\n",
    "dataset = XASMolDataset(path)\n",
    "\n",
    "# go_spec = torch.load('./processed/cor_xasnet.pt')"
   ]
  },
  {
   "cell_type": "code",
   "execution_count": 4,
   "metadata": {},
   "outputs": [
    {
     "name": "stdout",
     "output_type": "stream",
     "text": [
      "XASMolDataset(317)\n",
      "------------\n",
      "Number of graphs: 317\n",
      "Number of features: 15\n",
      "\n",
      "Data(x=[27, 15], edge_index=[2, 72], edge_attr=[72, 5], spectrum=[200], idx=[1], smiles='c12[c:4]3[c:6]4[c:7]([H:29])[c:9]([H:30])[c:10]5[c:8]3[c:12]3[c:16]6[c:20]1[C:22]1([C:21]([H:36])=[C:19]([H:37])[C:18]6=[C:17]([H:40])[C:15]([H:38])([H:39])[C:14]36[C:13]([H:32])([C:11]5([H:31])[H:35])[O:26]6)[C:23]([H:33])([C:1]([H:27])([H:34])[C:2]23[C:3]([H:28])([C:5]4([H:41])[H:42])[O:24]3)[O:25]1')\n",
      "------------\n",
      "Number of nodes: 27\n",
      "Number of edges: 72\n",
      "Average node degree: 2.67\n",
      "Has isolated nodes: False\n",
      "Has self loops: False\n",
      "Is undirected: True\n"
     ]
    }
   ],
   "source": [
    "# --- Print details of the dataset\n",
    "print(dataset)\n",
    "print('------------')\n",
    "print(f'Number of graphs: {len(dataset)}')\n",
    "print(f'Number of features: {dataset.num_features}')\n",
    "print('')\n",
    "\n",
    "# --- Print details of the first molecule/graph in dataset\n",
    "data = dataset[0]\n",
    "\n",
    "print(data)\n",
    "print('------------')\n",
    "print(f'Number of nodes: {data.num_nodes}')\n",
    "print(f'Number of edges: {data.num_edges}')\n",
    "print(f'Average node degree: {data.num_edges / data.num_nodes:.2f}')\n",
    "print(f'Has isolated nodes: {data.has_isolated_nodes()}')\n",
    "print(f'Has self loops: {data.has_self_loops()}')\n",
    "print(f'Is undirected: {data.is_undirected()}')"
   ]
  },
  {
   "cell_type": "code",
   "execution_count": 5,
   "metadata": {},
   "outputs": [],
   "source": [
    "# --- Create spilt file with the dataset\n",
    "# --- split into test, validation and test datasets\n",
    "data_seed = 256\n",
    "\n",
    "idxs = save_split(\n",
    "    path='../processed/xasnet_split_sd' + str(data_seed) + '.npz',\n",
    "    ndata=len(dataset),\n",
    "    ntrain=238, # 75% split\n",
    "    nval=40, # 12.5% split\n",
    "    ntest=39, # 12.5% split\n",
    "    save_split=True,\n",
    "    shuffle=True,\n",
    "    seed=data_seed, \n",
    "    print_nsample=True\n",
    ")"
   ]
  },
  {
   "cell_type": "code",
   "execution_count": 6,
   "metadata": {},
   "outputs": [
    {
     "name": "stdout",
     "output_type": "stream",
     "text": [
      "Training dataset length: 238, compiled in 8 loaders\n",
      "Validation dataset length: 40, compiled in 2 loaders\n"
     ]
    }
   ],
   "source": [
    "# --- Create variables for each dataset split\n",
    "train_go = [dataset[i] for i in idxs['train']]\n",
    "val_go = [dataset[i] for i in idxs['val']]\n",
    "\n",
    "# --- Save datasets splits into dataloaders\n",
    "train_loader = DataLoader(train_go, batch_size=32, shuffle=True)\n",
    "val_loader = DataLoader(val_go, batch_size=32, shuffle=True)\n",
    "\n",
    "print(f'Training dataset length: {len(train_go)}, compiled in {len(train_loader)} loaders')\n",
    "print(f'Validation dataset length: {len(val_go)}, compiled in {len(val_loader)} loaders')"
   ]
  },
  {
   "cell_type": "code",
   "execution_count": 7,
   "metadata": {},
   "outputs": [],
   "source": [
    "# --- Define cost functions\n",
    "def RSE_loss(prediction, target):\n",
    "    dE = (300 - 280) / 200\n",
    "    nom = torch.sum(dE*torch.pow((target-prediction), 2))\n",
    "    denom = torch.sum(dE*target)\n",
    "    return torch.sqrt(nom) / denom \n",
    "\n",
    "def RMSE_loss(prediction, target):\n",
    "    return torch.sqrt(torch.mean((target - prediction)**2))"
   ]
  },
  {
   "cell_type": "code",
   "execution_count": 8,
   "metadata": {},
   "outputs": [
    {
     "name": "stdout",
     "output_type": "stream",
     "text": [
      "[200, 400, 600, 800]\n"
     ]
    }
   ],
   "source": [
    "# --- Set number of epochs to run\n",
    "num_epochs = 300\n",
    "# --- Set the learning rate \n",
    "lr = 0.01\n",
    "# --- Milestones to reduce learning rate in steps \n",
    "milestones = np.arange(200, 900, 200).tolist()\n",
    "print(milestones)"
   ]
  },
  {
   "cell_type": "markdown",
   "metadata": {
    "tags": []
   },
   "source": [
    "##### XASNet GNN"
   ]
  },
  {
   "cell_type": "code",
   "execution_count": 9,
   "metadata": {},
   "outputs": [
    {
     "name": "stdout",
     "output_type": "stream",
     "text": [
      "Model is not loaded.\n"
     ]
    }
   ],
   "source": [
    "# --- Set a manual seed for reproducibility\n",
    "seed = 1994\n",
    "torch.manual_seed(seed)\n",
    "\n",
    "# --- Set device for model to run on\n",
    "device = 'cuda' if torch.cuda.is_available() else 'cpu'\n",
    "\n",
    "# --- Create the type of ML model you want to run\n",
    "xasnet_gnn = XASNet_GNN(\n",
    "    gnn_name = 'gcn', # model type\n",
    "    in_channels = [15, 64, 128], # input nodes for each layer\n",
    "    out_channels = [64, 128, 256], # output nodes for each layer\n",
    "    num_targets = 200, # nodes for final output\n",
    "    num_layers = 3, # number of total layers\n",
    "    dropout = 0.1,\n",
    "    heads = 0\n",
    ").to(device)\n",
    "\n",
    "# --- Set model name\n",
    "model_name = xasnet_gnn.gnn_name +'_model_sd' + str(seed)\n",
    "\n",
    "# --- Location to save model\n",
    "path_to_model = osp.join('./best_model,', model_name)\n",
    "\n",
    "# --- Check if there is an already existing model\n",
    "if osp.exists(path_to_model):\n",
    "    xasnet_gnn.load_state_dict(torch.load(path_to_model))\n",
    "else:\n",
    "    print('Model is not loaded.')"
   ]
  },
  {
   "cell_type": "code",
   "execution_count": 10,
   "metadata": {},
   "outputs": [
    {
     "name": "stdout",
     "output_type": "stream",
     "text": [
      "XASNet_GNN(\n",
      "  (interaction_layers): ModuleList(\n",
      "    (0): GCNConv(15, 64)\n",
      "    (1): ReLU(inplace=True)\n",
      "    (2): GCNConv(64, 128)\n",
      "    (3): ReLU(inplace=True)\n",
      "    (4): GCNConv(128, 256)\n",
      "  )\n",
      "  (dropout): Dropout(p=0.1, inplace=False)\n",
      "  (out): Linear(in_features=256, out_features=200, bias=True)\n",
      ")\n",
      "----\n",
      " Model will be trained on: cuda - NVIDIA GeForce RTX 4080\n"
     ]
    }
   ],
   "source": [
    "# --- View the details of the created model\n",
    "print(xasnet_gnn)\n",
    "print('----')\n",
    "print(f' Model will be trained on: {device} - {torch.cuda.get_device_name(0)}')"
   ]
  },
  {
   "cell_type": "markdown",
   "metadata": {
    "jp-MarkdownHeadingCollapsed": true,
    "tags": []
   },
   "source": [
    "##### XASNet GAT"
   ]
  },
  {
   "cell_type": "code",
   "execution_count": 11,
   "metadata": {},
   "outputs": [
    {
     "ename": "TypeError",
     "evalue": "XASNet_GAT.__init__() missing 1 required positional argument: 'dropout'",
     "output_type": "error",
     "traceback": [
      "\u001b[0;31m---------------------------------------------------------------------------\u001b[0m",
      "\u001b[0;31mTypeError\u001b[0m                                 Traceback (most recent call last)",
      "Cell \u001b[0;32mIn[11], line 8\u001b[0m\n\u001b[1;32m      5\u001b[0m device \u001b[38;5;241m=\u001b[39m \u001b[38;5;124m'\u001b[39m\u001b[38;5;124mcuda\u001b[39m\u001b[38;5;124m'\u001b[39m \u001b[38;5;28;01mif\u001b[39;00m torch\u001b[38;5;241m.\u001b[39mcuda\u001b[38;5;241m.\u001b[39mis_available() \u001b[38;5;28;01melse\u001b[39;00m \u001b[38;5;124m'\u001b[39m\u001b[38;5;124mcpu\u001b[39m\u001b[38;5;124m'\u001b[39m\n\u001b[1;32m      7\u001b[0m \u001b[38;5;66;03m# --- Create the type of ML model you want to run\u001b[39;00m\n\u001b[0;32m----> 8\u001b[0m xasnet_gat \u001b[38;5;241m=\u001b[39m \u001b[43mXASNet_GAT\u001b[49m\u001b[43m(\u001b[49m\n\u001b[1;32m      9\u001b[0m \u001b[43m    \u001b[49m\u001b[43mnode_features_dim\u001b[49m\u001b[38;5;241;43m=\u001b[39;49m\u001b[38;5;241;43m8\u001b[39;49m\u001b[43m,\u001b[49m\n\u001b[1;32m     10\u001b[0m \u001b[43m    \u001b[49m\u001b[43min_channels\u001b[49m\u001b[38;5;241;43m=\u001b[39;49m\u001b[43m[\u001b[49m\u001b[38;5;241;43m64\u001b[39;49m\u001b[43m,\u001b[49m\u001b[43m \u001b[49m\u001b[38;5;241;43m128\u001b[39;49m\u001b[43m]\u001b[49m\u001b[43m,\u001b[49m\n\u001b[1;32m     11\u001b[0m \u001b[43m    \u001b[49m\u001b[43mout_channels\u001b[49m\u001b[38;5;241;43m=\u001b[39;49m\u001b[43m[\u001b[49m\u001b[38;5;241;43m128\u001b[39;49m\u001b[43m,\u001b[49m\u001b[43m \u001b[49m\u001b[38;5;241;43m256\u001b[39;49m\u001b[43m]\u001b[49m\u001b[43m,\u001b[49m\n\u001b[1;32m     12\u001b[0m \u001b[43m    \u001b[49m\u001b[43mtargets\u001b[49m\u001b[38;5;241;43m=\u001b[39;49m\u001b[38;5;241;43m200\u001b[39;49m\u001b[43m,\u001b[49m\n\u001b[1;32m     13\u001b[0m \u001b[43m    \u001b[49m\u001b[43mn_layers\u001b[49m\u001b[38;5;241;43m=\u001b[39;49m\u001b[38;5;241;43m2\u001b[39;49m\u001b[43m,\u001b[49m\n\u001b[1;32m     14\u001b[0m \u001b[43m    \u001b[49m\u001b[43mn_heads\u001b[49m\u001b[38;5;241;43m=\u001b[39;49m\u001b[38;5;241;43m4\u001b[39;49m\u001b[43m,\u001b[49m\n\u001b[1;32m     15\u001b[0m \u001b[43m    \u001b[49m\u001b[43mgat_type\u001b[49m\u001b[38;5;241;43m=\u001b[39;49m\u001b[38;5;124;43m'\u001b[39;49m\u001b[38;5;124;43mgatv2\u001b[39;49m\u001b[38;5;124;43m'\u001b[39;49m\u001b[43m,\u001b[49m\n\u001b[1;32m     16\u001b[0m \u001b[43m    \u001b[49m\u001b[43muse_residuals\u001b[49m\u001b[38;5;241;43m=\u001b[39;49m\u001b[38;5;28;43;01mTrue\u001b[39;49;00m\u001b[43m,\u001b[49m\n\u001b[1;32m     17\u001b[0m \u001b[43m    \u001b[49m\u001b[43muse_jk\u001b[49m\u001b[38;5;241;43m=\u001b[39;49m\u001b[38;5;28;43;01mTrue\u001b[39;49;00m\n\u001b[1;32m     18\u001b[0m \u001b[43m)\u001b[49m\u001b[38;5;241m.\u001b[39mto(device)\n\u001b[1;32m     20\u001b[0m \u001b[38;5;66;03m# --- Set name for ML model\u001b[39;00m\n\u001b[1;32m     21\u001b[0m model_name \u001b[38;5;241m=\u001b[39m \u001b[38;5;124m'\u001b[39m\u001b[38;5;124mxasnet-GAT_\u001b[39m\u001b[38;5;124m'\u001b[39m \u001b[38;5;241m+\u001b[39m xasnet_gat\u001b[38;5;241m.\u001b[39mgat_type \u001b[38;5;241m+\u001b[39m \u001b[38;5;124m'\u001b[39m\u001b[38;5;124m_model\u001b[39m\u001b[38;5;124m'\u001b[39m\n",
      "\u001b[0;31mTypeError\u001b[0m: XASNet_GAT.__init__() missing 1 required positional argument: 'dropout'"
     ]
    }
   ],
   "source": [
    "# --- Set a manual seed for reproducibility\n",
    "torch.manual_seed(1994)\n",
    "\n",
    "# --- Set device for model to run on\n",
    "device = 'cuda' if torch.cuda.is_available() else 'cpu'\n",
    "\n",
    "# --- Create the type of ML model you want to run\n",
    "xasnet_gat = XASNet_GAT(\n",
    "    node_features_dim=8,\n",
    "    in_channels=[64, 128],\n",
    "    out_channels=[128, 256],\n",
    "    targets=200,\n",
    "    n_layers=2,\n",
    "    n_heads=4,\n",
    "    gat_type='gatv2',\n",
    "    use_residuals=True,\n",
    "    use_jk=True\n",
    ").to(device)\n",
    "\n",
    "# --- Set name for ML model\n",
    "model_name = 'xasnet-GAT_' + xasnet_gat.gat_type + '_model'\n",
    "\n",
    "# --- Location to save model\n",
    "path_to_model = osp.join('./best_model,', model_name)\n",
    "\n",
    "# --- Check if there is an already existing model\n",
    "if osp.exists(path_to_model):\n",
    "    xasnet_gat.load_state_dict(torch.load(path_to_model))\n",
    "else:\n",
    "    print('Model is not loaded.')"
   ]
  },
  {
   "cell_type": "code",
   "execution_count": null,
   "metadata": {},
   "outputs": [
    {
     "name": "stdout",
     "output_type": "stream",
     "text": [
      "XASNet_GAT(\n",
      "  (pre_layer): LinearLayer(\n",
      "    (linear): Linear(in_features=8, out_features=64, bias=False)\n",
      "    (_activation): ReLU(inplace=True)\n",
      "  )\n",
      "  (res_block): Residual_block(\n",
      "    (res_layers): Sequential(\n",
      "      (0): LinearLayer(\n",
      "        (linear): Linear(in_features=64, out_features=64, bias=False)\n",
      "        (_activation): ReLU(inplace=True)\n",
      "      )\n",
      "      (1): LinearLayer(\n",
      "        (linear): Linear(in_features=64, out_features=64, bias=False)\n",
      "        (_activation): ReLU(inplace=True)\n",
      "      )\n",
      "      (2): LinearLayer(\n",
      "        (linear): Linear(in_features=64, out_features=64, bias=False)\n",
      "        (_activation): ReLU(inplace=True)\n",
      "      )\n",
      "      (3): LinearLayer(\n",
      "        (linear): Linear(in_features=64, out_features=64, bias=False)\n",
      "        (_activation): ReLU(inplace=True)\n",
      "      )\n",
      "    )\n",
      "  )\n",
      "  (gat_layers): ModuleList(\n",
      "    (0): GATv2Conv(64, 128, heads=4)\n",
      "    (1): ReLU(inplace=True)\n",
      "    (2): GATv2Conv(512, 256, heads=1)\n",
      "  )\n",
      "  (lstm): LSTM(512, 128, num_layers=3, batch_first=True, bidirectional=True)\n",
      "  (attn): Linear(in_features=256, out_features=1, bias=True)\n",
      "  (dropout): Dropout(p=0.3, inplace=False)\n",
      "  (linear_out): LinearLayer(\n",
      "    (linear): Linear(in_features=256, out_features=200, bias=False)\n",
      "    (_activation): Identity()\n",
      "  )\n",
      ")\n",
      "----\n",
      " Model will be trained on: cuda\n"
     ]
    }
   ],
   "source": [
    "# --- View the details of the created model\n",
    "print(xasnet_gat)\n",
    "print('----')\n",
    "print(f' Model will be trained on: {device}')"
   ]
  },
  {
   "cell_type": "markdown",
   "metadata": {
    "jp-MarkdownHeadingCollapsed": true,
    "tags": []
   },
   "source": [
    "##### XASNet GraphNet"
   ]
  },
  {
   "cell_type": "code",
   "execution_count": null,
   "metadata": {},
   "outputs": [
    {
     "name": "stdout",
     "output_type": "stream",
     "text": [
      "Model is not loaded.\n"
     ]
    }
   ],
   "source": [
    "# --- Set name for ML model\n",
    "model_name = 'xasnet_graphnet_model'\n",
    "\n",
    "# --- Set device for model to run on\n",
    "device = 'cuda' if torch.cuda.is_available() else 'cpu'\n",
    "\n",
    "# --- Set a manual seed for reproducibility\n",
    "torch.manual_seed(1994)\n",
    "\n",
    "# --- Create the type of ML model you want to run\n",
    "xasnet_graphnet = XASNet_GraphNet(\n",
    "    node_dim=8,\n",
    "    edge_dim=5,\n",
    "    hidden_channels=64,\n",
    "    out_channels=128,\n",
    "    gat_hidd=64,\n",
    "    gat_out=128,\n",
    "    n_layers=3,\n",
    "    n_targets=200\n",
    ").to(device)\n",
    "\n",
    "# --- Location to save model\n",
    "path_to_model = osp.join('./best_model,', model_name)\n",
    "\n",
    "# --- Check if there is an already existing model\n",
    "if osp.exists(path_to_model):\n",
    "    xasnet_graphnet.load_state_dict(torch.load(path_to_model))\n",
    "else:\n",
    "    print('Model is not loaded.')"
   ]
  },
  {
   "cell_type": "code",
   "execution_count": null,
   "metadata": {},
   "outputs": [
    {
     "name": "stdout",
     "output_type": "stream",
     "text": [
      "XASNet_GraphNet(\n",
      "  (graphnets): ModuleList(\n",
      "    (0): GraphNetwork(\n",
      "      (gatencoder): GATEncoder(\n",
      "        (gats): ModuleList(\n",
      "          (0): GATv2Conv(8, 64, heads=3)\n",
      "          (1): ReLU(inplace=True)\n",
      "          (2): GATv2Conv(192, 64, heads=3)\n",
      "          (3): ReLU(inplace=True)\n",
      "          (4): GATv2Conv(192, 64, heads=3)\n",
      "          (5): ReLU(inplace=True)\n",
      "          (6): GATv2Conv(192, 128, heads=1)\n",
      "        )\n",
      "      )\n",
      "      (node_model): NodeModel(\n",
      "        (mlp): Sequential(\n",
      "          (0): Linear(in_features=146, out_features=64, bias=True)\n",
      "          (1): ReLU(inplace=True)\n",
      "          (2): Linear(in_features=64, out_features=128, bias=True)\n",
      "          (3): ReLU(inplace=True)\n",
      "          (4): LayerNorm((128,), eps=1e-05, elementwise_affine=True)\n",
      "        )\n",
      "      )\n",
      "      (edge_model): EdgeModel(\n",
      "        (mlp): Sequential(\n",
      "          (0): Linear(in_features=389, out_features=64, bias=True)\n",
      "          (1): ReLU(inplace=True)\n",
      "          (2): Linear(in_features=64, out_features=128, bias=True)\n",
      "          (3): ReLU(inplace=True)\n",
      "          (4): LayerNorm((128,), eps=1e-05, elementwise_affine=True)\n",
      "        )\n",
      "      )\n",
      "      (global_model): GlobalModel(\n",
      "        (mlp): Sequential(\n",
      "          (0): Linear(in_features=384, out_features=64, bias=True)\n",
      "          (1): ReLU(inplace=True)\n",
      "          (2): Linear(in_features=64, out_features=128, bias=True)\n",
      "          (3): ReLU(inplace=True)\n",
      "          (4): LayerNorm((128,), eps=1e-05, elementwise_affine=True)\n",
      "        )\n",
      "      )\n",
      "    )\n",
      "    (1-2): 2 x GraphNetwork(\n",
      "      (gatencoder): GATEncoder(\n",
      "        (gats): ModuleList(\n",
      "          (0): GATv2Conv(8, 64, heads=3)\n",
      "          (1): ReLU(inplace=True)\n",
      "          (2): GATv2Conv(192, 64, heads=3)\n",
      "          (3): ReLU(inplace=True)\n",
      "          (4): GATv2Conv(192, 64, heads=3)\n",
      "          (5): ReLU(inplace=True)\n",
      "          (6): GATv2Conv(192, 128, heads=1)\n",
      "        )\n",
      "      )\n",
      "      (node_model): NodeModel(\n",
      "        (mlp): Sequential(\n",
      "          (0): Linear(in_features=512, out_features=64, bias=True)\n",
      "          (1): ReLU(inplace=True)\n",
      "          (2): Linear(in_features=64, out_features=128, bias=True)\n",
      "          (3): ReLU(inplace=True)\n",
      "          (4): LayerNorm((128,), eps=1e-05, elementwise_affine=True)\n",
      "        )\n",
      "      )\n",
      "      (edge_model): EdgeModel(\n",
      "        (mlp): Sequential(\n",
      "          (0): Linear(in_features=512, out_features=64, bias=True)\n",
      "          (1): ReLU(inplace=True)\n",
      "          (2): Linear(in_features=64, out_features=128, bias=True)\n",
      "          (3): ReLU(inplace=True)\n",
      "          (4): LayerNorm((128,), eps=1e-05, elementwise_affine=True)\n",
      "        )\n",
      "      )\n",
      "      (global_model): GlobalModel(\n",
      "        (mlp): Sequential(\n",
      "          (0): Linear(in_features=384, out_features=64, bias=True)\n",
      "          (1): ReLU(inplace=True)\n",
      "          (2): Linear(in_features=64, out_features=128, bias=True)\n",
      "          (3): ReLU(inplace=True)\n",
      "          (4): LayerNorm((128,), eps=1e-05, elementwise_affine=True)\n",
      "        )\n",
      "      )\n",
      "    )\n",
      "  )\n",
      "  (dropout): Dropout(p=0.3, inplace=False)\n",
      "  (output_dense): Linear(in_features=128, out_features=200, bias=True)\n",
      ")\n",
      "----\n",
      " Model will be trained on: cuda\n"
     ]
    }
   ],
   "source": [
    "# --- View the details of the created model\n",
    "print(xasnet_graphnet)\n",
    "print('----')\n",
    "print(f' Model will be trained on: {device}')"
   ]
  },
  {
   "cell_type": "markdown",
   "metadata": {},
   "source": [
    "##### Train model"
   ]
  },
  {
   "cell_type": "code",
   "execution_count": 11,
   "metadata": {},
   "outputs": [],
   "source": [
    "chosen_model = xasnet_gnn"
   ]
  },
  {
   "cell_type": "code",
   "execution_count": 12,
   "metadata": {},
   "outputs": [],
   "source": [
    "# --- Set additional ML parameters\n",
    "optimizer = torch.optim.Adam(chosen_model.parameters(), lr=lr, weight_decay=1e-5, betas=(0.9, 0.99), eps=1e-08, amsgrad=True)\n",
    "\n",
    "# scheduler = torch.optim.lr_scheduler.MultiStepLR(optimizer, milestones=milestones, gamma=0.8)\n",
    "scheduler = torch.optim.lr_scheduler.ReduceLROnPlateau(optimizer, mode=\"min\", factor=0.5, patience=100, min_lr=0.000001)"
   ]
  },
  {
   "cell_type": "code",
   "execution_count": 13,
   "metadata": {},
   "outputs": [],
   "source": [
    "# --- Create trainier\n",
    "trainer = GNNTrainer(model = chosen_model,\n",
    "                     model_name = model_name,\n",
    "                     device = device,\n",
    "                     metric_path = './metrics/' + model_name)"
   ]
  },
  {
   "cell_type": "markdown",
   "metadata": {},
   "source": [
    "#### Train the ML model        "
   ]
  },
  {
   "cell_type": "code",
   "execution_count": 14,
   "metadata": {},
   "outputs": [
    {
     "name": "stderr",
     "output_type": "stream",
     "text": [
      "  1%|▏         | 4/300 [00:00<00:22, 12.99it/s]"
     ]
    },
    {
     "name": "stdout",
     "output_type": "stream",
     "text": [
      "time = 0.00 mins mins\n",
      "epoch 0 | average train loss = 0.00325 and average validation loss = 0.00077 | learning rate = 0.01000\n",
      "time = 0.00 mins mins\n",
      "epoch 2 | average train loss = 0.00053 and average validation loss = 0.00067 | learning rate = 0.01000\n",
      "time = 0.01 mins mins\n",
      "epoch 4 | average train loss = 0.00048 and average validation loss = 0.00065 | learning rate = 0.01000\n"
     ]
    },
    {
     "name": "stderr",
     "output_type": "stream",
     "text": [
      "  3%|▎         | 10/300 [00:00<00:15, 18.54it/s]"
     ]
    },
    {
     "name": "stdout",
     "output_type": "stream",
     "text": [
      "time = 0.01 mins mins\n",
      "epoch 6 | average train loss = 0.00041 and average validation loss = 0.00061 | learning rate = 0.01000\n",
      "time = 0.01 mins mins\n",
      "epoch 8 | average train loss = 0.00039 and average validation loss = 0.00066 | learning rate = 0.01000\n",
      "time = 0.01 mins mins\n",
      "epoch 10 | average train loss = 0.00038 and average validation loss = 0.00069 | learning rate = 0.01000\n"
     ]
    },
    {
     "name": "stderr",
     "output_type": "stream",
     "text": [
      "  5%|▌         | 16/300 [00:00<00:13, 21.13it/s]"
     ]
    },
    {
     "name": "stdout",
     "output_type": "stream",
     "text": [
      "time = 0.01 mins mins\n",
      "epoch 12 | average train loss = 0.00038 and average validation loss = 0.00055 | learning rate = 0.01000\n",
      "time = 0.01 mins mins\n",
      "epoch 14 | average train loss = 0.00036 and average validation loss = 0.00047 | learning rate = 0.01000\n",
      "time = 0.01 mins mins\n",
      "epoch 16 | average train loss = 0.00033 and average validation loss = 0.00046 | learning rate = 0.01000\n"
     ]
    },
    {
     "name": "stderr",
     "output_type": "stream",
     "text": [
      "  6%|▋         | 19/300 [00:01<00:12, 21.62it/s]"
     ]
    },
    {
     "name": "stdout",
     "output_type": "stream",
     "text": [
      "time = 0.02 mins mins\n",
      "epoch 18 | average train loss = 0.00034 and average validation loss = 0.00051 | learning rate = 0.01000\n",
      "time = 0.02 mins mins\n",
      "epoch 20 | average train loss = 0.00033 and average validation loss = 0.00046 | learning rate = 0.01000\n",
      "time = 0.02 mins mins\n",
      "epoch 22 | average train loss = 0.00032 and average validation loss = 0.00045 | learning rate = 0.01000\n",
      "time = 0.02 mins mins\n",
      "epoch 24 | average train loss = 0.00032 and average validation loss = 0.00047 | learning rate = 0.01000\n",
      "time = 0.02 mins mins\n",
      "epoch 26 | average train loss = 0.00031 and average validation loss = 0.00047 | learning rate = 0.01000\n",
      "time = 0.02 mins mins\n",
      "epoch 28 | average train loss = 0.00033 and average validation loss = 0.00054 | learning rate = 0.01000\n",
      "time = 0.02 mins mins\n",
      "epoch 30 | average train loss = 0.00030 and average validation loss = 0.00044 | learning rate = 0.01000\n",
      "time = 0.02 mins mins\n",
      "epoch 32 | average train loss = 0.00030 and average validation loss = 0.00049 | learning rate = 0.01000\n",
      "time = 0.03 mins mins\n",
      "epoch 34 | average train loss = 0.00031 and average validation loss = 0.00047 | learning rate = 0.01000\n",
      "time = 0.03 mins mins\n",
      "epoch 36 | average train loss = 0.00030 and average validation loss = 0.00042 | learning rate = 0.01000\n",
      "time = 0.03 mins mins\n",
      "epoch 38 | average train loss = 0.00031 and average validation loss = 0.00044 | learning rate = 0.01000\n",
      "time = 0.03 mins mins\n",
      "epoch 40 | average train loss = 0.00029 and average validation loss = 0.00044 | learning rate = 0.01000\n",
      "time = 0.03 mins mins\n",
      "epoch 42 | average train loss = 0.00030 and average validation loss = 0.00043 | learning rate = 0.01000\n",
      "time = 0.03 mins mins\n",
      "epoch 44 | average train loss = 0.00029 and average validation loss = 0.00040 | learning rate = 0.01000\n",
      "time = 0.03 mins mins\n",
      "epoch 46 | average train loss = 0.00029 and average validation loss = 0.00047 | learning rate = 0.01000\n",
      "time = 0.04 mins mins\n",
      "epoch 48 | average train loss = 0.00030 and average validation loss = 0.00039 | learning rate = 0.01000\n",
      "time = 0.04 mins mins\n",
      "epoch 50 | average train loss = 0.00030 and average validation loss = 0.00046 | learning rate = 0.01000\n",
      "time = 0.04 mins mins\n",
      "epoch 52 | average train loss = 0.00028 and average validation loss = 0.00038 | learning rate = 0.01000\n",
      "time = 0.04 mins mins\n",
      "epoch 54 | average train loss = 0.00029 and average validation loss = 0.00045 | learning rate = 0.01000\n",
      "time = 0.04 mins mins\n",
      "epoch 56 | average train loss = 0.00029 and average validation loss = 0.00042 | learning rate = 0.01000\n",
      "time = 0.04 mins mins\n",
      "epoch 58 | average train loss = 0.00028 and average validation loss = 0.00042 | learning rate = 0.01000\n",
      "time = 0.04 mins mins\n",
      "epoch 60 | average train loss = 0.00028 and average validation loss = 0.00045 | learning rate = 0.01000\n",
      "time = 0.04 mins mins\n",
      "epoch 62 | average train loss = 0.00028 and average validation loss = 0.00042 | learning rate = 0.01000\n",
      "time = 0.05 mins mins\n",
      "epoch 64 | average train loss = 0.00030 and average validation loss = 0.00045 | learning rate = 0.01000\n",
      "time = 0.05 mins mins\n",
      "epoch 66 | average train loss = 0.00029 and average validation loss = 0.00040 | learning rate = 0.01000\n",
      "time = 0.05 mins mins\n",
      "epoch 68 | average train loss = 0.00030 and average validation loss = 0.00045 | learning rate = 0.01000\n",
      "time = 0.05 mins mins\n",
      "epoch 70 | average train loss = 0.00030 and average validation loss = 0.00059 | learning rate = 0.01000\n",
      "time = 0.05 mins mins\n",
      "epoch 72 | average train loss = 0.00027 and average validation loss = 0.00043 | learning rate = 0.01000\n",
      "time = 0.05 mins mins\n",
      "epoch 74 | average train loss = 0.00027 and average validation loss = 0.00049 | learning rate = 0.01000\n",
      "time = 0.05 mins mins\n",
      "epoch 76 | average train loss = 0.00030 and average validation loss = 0.00038 | learning rate = 0.01000\n"
     ]
    },
    {
     "name": "stderr",
     "output_type": "stream",
     "text": [
      " 27%|██▋       | 80/300 [00:01<00:01, 171.31it/s]"
     ]
    },
    {
     "name": "stdout",
     "output_type": "stream",
     "text": [
      "time = 0.05 mins mins\n",
      "epoch 78 | average train loss = 0.00027 and average validation loss = 0.00037 | learning rate = 0.01000\n",
      "time = 0.06 mins mins\n",
      "epoch 80 | average train loss = 0.00027 and average validation loss = 0.00046 | learning rate = 0.01000\n",
      "time = 0.06 mins mins\n",
      "epoch 82 | average train loss = 0.00027 and average validation loss = 0.00043 | learning rate = 0.01000\n",
      "time = 0.06 mins mins\n",
      "epoch 84 | average train loss = 0.00027 and average validation loss = 0.00055 | learning rate = 0.01000\n",
      "time = 0.06 mins mins\n",
      "epoch 86 | average train loss = 0.00026 and average validation loss = 0.00036 | learning rate = 0.01000\n",
      "time = 0.06 mins mins\n",
      "epoch 88 | average train loss = 0.00028 and average validation loss = 0.00045 | learning rate = 0.01000\n",
      "time = 0.06 mins mins\n",
      "epoch 90 | average train loss = 0.00029 and average validation loss = 0.00043 | learning rate = 0.01000\n",
      "time = 0.06 mins mins\n",
      "epoch 92 | average train loss = 0.00026 and average validation loss = 0.00038 | learning rate = 0.01000\n",
      "time = 0.07 mins mins\n",
      "epoch 94 | average train loss = 0.00026 and average validation loss = 0.00040 | learning rate = 0.01000\n"
     ]
    },
    {
     "name": "stderr",
     "output_type": "stream",
     "text": [
      " 34%|███▎      | 101/300 [00:02<00:03, 57.06it/s]"
     ]
    },
    {
     "name": "stdout",
     "output_type": "stream",
     "text": [
      "time = 0.07 mins mins\n",
      "epoch 96 | average train loss = 0.00029 and average validation loss = 0.00045 | learning rate = 0.01000\n",
      "time = 0.07 mins mins\n",
      "epoch 98 | average train loss = 0.00027 and average validation loss = 0.00042 | learning rate = 0.01000\n",
      "time = 0.07 mins mins\n",
      "epoch 100 | average train loss = 0.00026 and average validation loss = 0.00046 | learning rate = 0.01000\n",
      "time = 0.07 mins mins\n",
      "epoch 102 | average train loss = 0.00027 and average validation loss = 0.00046 | learning rate = 0.01000\n",
      "time = 0.07 mins mins\n",
      "epoch 104 | average train loss = 0.00028 and average validation loss = 0.00039 | learning rate = 0.01000\n",
      "time = 0.07 mins mins\n",
      "epoch 106 | average train loss = 0.00030 and average validation loss = 0.00041 | learning rate = 0.01000\n",
      "time = 0.07 mins mins\n",
      "epoch 108 | average train loss = 0.00027 and average validation loss = 0.00046 | learning rate = 0.01000\n",
      "time = 0.08 mins mins\n",
      "epoch 110 | average train loss = 0.00026 and average validation loss = 0.00043 | learning rate = 0.01000\n",
      "time = 0.08 mins mins\n",
      "epoch 112 | average train loss = 0.00026 and average validation loss = 0.00040 | learning rate = 0.01000\n"
     ]
    },
    {
     "name": "stderr",
     "output_type": "stream",
     "text": [
      " 39%|███▊      | 116/300 [00:02<00:04, 41.92it/s]"
     ]
    },
    {
     "name": "stdout",
     "output_type": "stream",
     "text": [
      "time = 0.08 mins mins\n",
      "epoch 114 | average train loss = 0.00025 and average validation loss = 0.00043 | learning rate = 0.01000\n",
      "time = 0.08 mins mins\n",
      "epoch 116 | average train loss = 0.00026 and average validation loss = 0.00042 | learning rate = 0.01000\n",
      "time = 0.08 mins mins\n",
      "epoch 118 | average train loss = 0.00026 and average validation loss = 0.00036 | learning rate = 0.01000\n",
      "time = 0.08 mins mins\n",
      "epoch 120 | average train loss = 0.00025 and average validation loss = 0.00047 | learning rate = 0.01000\n",
      "time = 0.08 mins mins\n",
      "epoch 122 | average train loss = 0.00025 and average validation loss = 0.00043 | learning rate = 0.01000\n",
      "time = 0.09 mins mins\n",
      "epoch 124 | average train loss = 0.00029 and average validation loss = 0.00054 | learning rate = 0.01000\n"
     ]
    },
    {
     "name": "stderr",
     "output_type": "stream",
     "text": [
      " 42%|████▏     | 127/300 [00:03<00:04, 35.35it/s]"
     ]
    },
    {
     "name": "stdout",
     "output_type": "stream",
     "text": [
      "time = 0.09 mins mins\n",
      "epoch 126 | average train loss = 0.00029 and average validation loss = 0.00044 | learning rate = 0.01000\n",
      "time = 0.09 mins mins\n",
      "epoch 128 | average train loss = 0.00028 and average validation loss = 0.00041 | learning rate = 0.01000\n",
      "time = 0.09 mins mins\n",
      "epoch 130 | average train loss = 0.00027 and average validation loss = 0.00044 | learning rate = 0.01000\n"
     ]
    },
    {
     "name": "stderr",
     "output_type": "stream",
     "text": [
      " 45%|████▌     | 136/300 [00:03<00:05, 31.56it/s]"
     ]
    },
    {
     "name": "stdout",
     "output_type": "stream",
     "text": [
      "time = 0.09 mins mins\n",
      "epoch 132 | average train loss = 0.00027 and average validation loss = 0.00046 | learning rate = 0.01000\n",
      "time = 0.09 mins mins\n",
      "epoch 134 | average train loss = 0.00026 and average validation loss = 0.00042 | learning rate = 0.01000\n",
      "time = 0.09 mins mins\n",
      "epoch 136 | average train loss = 0.00025 and average validation loss = 0.00044 | learning rate = 0.01000\n"
     ]
    },
    {
     "name": "stderr",
     "output_type": "stream",
     "text": [
      " 48%|████▊     | 143/300 [00:03<00:05, 29.46it/s]"
     ]
    },
    {
     "name": "stdout",
     "output_type": "stream",
     "text": [
      "time = 0.10 mins mins\n",
      "epoch 138 | average train loss = 0.00025 and average validation loss = 0.00039 | learning rate = 0.01000\n",
      "time = 0.10 mins mins\n",
      "epoch 140 | average train loss = 0.00027 and average validation loss = 0.00042 | learning rate = 0.01000\n",
      "time = 0.10 mins mins\n",
      "epoch 142 | average train loss = 0.00025 and average validation loss = 0.00044 | learning rate = 0.01000\n"
     ]
    },
    {
     "name": "stderr",
     "output_type": "stream",
     "text": [
      " 50%|████▉     | 149/300 [00:04<00:05, 27.77it/s]"
     ]
    },
    {
     "name": "stdout",
     "output_type": "stream",
     "text": [
      "time = 0.10 mins mins\n",
      "epoch 144 | average train loss = 0.00025 and average validation loss = 0.00046 | learning rate = 0.01000\n",
      "time = 0.10 mins mins\n",
      "epoch 146 | average train loss = 0.00026 and average validation loss = 0.00045 | learning rate = 0.01000\n",
      "time = 0.10 mins mins\n",
      "epoch 148 | average train loss = 0.00026 and average validation loss = 0.00040 | learning rate = 0.01000\n"
     ]
    },
    {
     "name": "stderr",
     "output_type": "stream",
     "text": [
      " 51%|█████▏    | 154/300 [00:04<00:05, 26.92it/s]"
     ]
    },
    {
     "name": "stdout",
     "output_type": "stream",
     "text": [
      "time = 0.10 mins mins\n",
      "epoch 150 | average train loss = 0.00025 and average validation loss = 0.00041 | learning rate = 0.01000\n",
      "time = 0.11 mins mins\n",
      "epoch 152 | average train loss = 0.00026 and average validation loss = 0.00044 | learning rate = 0.01000\n",
      "time = 0.11 mins mins\n",
      "epoch 154 | average train loss = 0.00024 and average validation loss = 0.00048 | learning rate = 0.01000\n"
     ]
    },
    {
     "name": "stderr",
     "output_type": "stream",
     "text": [
      " 53%|█████▎    | 158/300 [00:04<00:05, 26.28it/s]"
     ]
    },
    {
     "name": "stdout",
     "output_type": "stream",
     "text": [
      "time = 0.11 mins mins\n",
      "epoch 156 | average train loss = 0.00026 and average validation loss = 0.00047 | learning rate = 0.01000\n",
      "time = 0.11 mins mins\n",
      "epoch 158 | average train loss = 0.00027 and average validation loss = 0.00047 | learning rate = 0.01000\n",
      "time = 0.11 mins mins\n",
      "epoch 160 | average train loss = 0.00025 and average validation loss = 0.00044 | learning rate = 0.01000\n"
     ]
    },
    {
     "name": "stderr",
     "output_type": "stream",
     "text": [
      " 55%|█████▌    | 165/300 [00:04<00:05, 25.22it/s]"
     ]
    },
    {
     "name": "stdout",
     "output_type": "stream",
     "text": [
      "time = 0.11 mins mins\n",
      "epoch 162 | average train loss = 0.00025 and average validation loss = 0.00044 | learning rate = 0.01000\n",
      "time = 0.11 mins mins\n",
      "epoch 164 | average train loss = 0.00026 and average validation loss = 0.00047 | learning rate = 0.01000\n",
      "time = 0.11 mins mins\n",
      "epoch 166 | average train loss = 0.00026 and average validation loss = 0.00044 | learning rate = 0.01000\n"
     ]
    },
    {
     "name": "stderr",
     "output_type": "stream",
     "text": [
      " 57%|█████▋    | 171/300 [00:05<00:05, 23.91it/s]"
     ]
    },
    {
     "name": "stdout",
     "output_type": "stream",
     "text": [
      "time = 0.12 mins mins\n",
      "epoch 168 | average train loss = 0.00025 and average validation loss = 0.00038 | learning rate = 0.01000\n",
      "time = 0.12 mins mins\n",
      "epoch 170 | average train loss = 0.00024 and average validation loss = 0.00044 | learning rate = 0.01000\n",
      "time = 0.12 mins mins\n",
      "epoch 172 | average train loss = 0.00025 and average validation loss = 0.00045 | learning rate = 0.01000\n"
     ]
    },
    {
     "name": "stderr",
     "output_type": "stream",
     "text": [
      " 59%|█████▉    | 177/300 [00:05<00:05, 23.53it/s]"
     ]
    },
    {
     "name": "stdout",
     "output_type": "stream",
     "text": [
      "time = 0.12 mins mins\n",
      "epoch 174 | average train loss = 0.00027 and average validation loss = 0.00050 | learning rate = 0.01000\n",
      "time = 0.12 mins mins\n",
      "epoch 176 | average train loss = 0.00026 and average validation loss = 0.00041 | learning rate = 0.01000\n",
      "time = 0.12 mins mins\n",
      "epoch 178 | average train loss = 0.00025 and average validation loss = 0.00042 | learning rate = 0.01000\n"
     ]
    },
    {
     "name": "stderr",
     "output_type": "stream",
     "text": [
      " 61%|██████    | 183/300 [00:05<00:05, 23.40it/s]"
     ]
    },
    {
     "name": "stdout",
     "output_type": "stream",
     "text": [
      "time = 0.12 mins mins\n",
      "epoch 180 | average train loss = 0.00025 and average validation loss = 0.00046 | learning rate = 0.01000\n",
      "time = 0.13 mins mins\n",
      "epoch 182 | average train loss = 0.00025 and average validation loss = 0.00040 | learning rate = 0.01000\n",
      "time = 0.13 mins mins\n",
      "epoch 184 | average train loss = 0.00026 and average validation loss = 0.00039 | learning rate = 0.01000\n"
     ]
    },
    {
     "name": "stderr",
     "output_type": "stream",
     "text": [
      " 63%|██████▎   | 189/300 [00:05<00:04, 23.67it/s]"
     ]
    },
    {
     "name": "stdout",
     "output_type": "stream",
     "text": [
      "time = 0.13 mins mins\n",
      "epoch 186 | average train loss = 0.00026 and average validation loss = 0.00045 | learning rate = 0.01000\n",
      "time = 0.13 mins mins\n",
      "epoch 188 | average train loss = 0.00026 and average validation loss = 0.00039 | learning rate = 0.01000\n",
      "time = 0.13 mins mins\n",
      "epoch 190 | average train loss = 0.00025 and average validation loss = 0.00040 | learning rate = 0.01000\n"
     ]
    },
    {
     "name": "stderr",
     "output_type": "stream",
     "text": [
      " 65%|██████▌   | 195/300 [00:06<00:04, 22.86it/s]"
     ]
    },
    {
     "name": "stdout",
     "output_type": "stream",
     "text": [
      "time = 0.13 mins mins\n",
      "epoch 192 | average train loss = 0.00024 and average validation loss = 0.00037 | learning rate = 0.01000\n",
      "time = 0.13 mins mins\n",
      "epoch 194 | average train loss = 0.00026 and average validation loss = 0.00041 | learning rate = 0.01000\n",
      "time = 0.14 mins mins\n",
      "epoch 196 | average train loss = 0.00026 and average validation loss = 0.00039 | learning rate = 0.01000\n"
     ]
    },
    {
     "name": "stderr",
     "output_type": "stream",
     "text": [
      " 67%|██████▋   | 201/300 [00:06<00:04, 22.52it/s]"
     ]
    },
    {
     "name": "stdout",
     "output_type": "stream",
     "text": [
      "time = 0.14 mins mins\n",
      "epoch 198 | average train loss = 0.00025 and average validation loss = 0.00035 | learning rate = 0.01000\n",
      "time = 0.14 mins mins\n",
      "epoch 200 | average train loss = 0.00025 and average validation loss = 0.00048 | learning rate = 0.01000\n",
      "time = 0.14 mins mins\n",
      "epoch 202 | average train loss = 0.00026 and average validation loss = 0.00039 | learning rate = 0.01000\n"
     ]
    },
    {
     "name": "stderr",
     "output_type": "stream",
     "text": [
      " 70%|███████   | 210/300 [00:06<00:03, 24.87it/s]"
     ]
    },
    {
     "name": "stdout",
     "output_type": "stream",
     "text": [
      "time = 0.14 mins mins\n",
      "epoch 204 | average train loss = 0.00025 and average validation loss = 0.00041 | learning rate = 0.01000\n",
      "time = 0.14 mins mins\n",
      "epoch 206 | average train loss = 0.00024 and average validation loss = 0.00047 | learning rate = 0.01000\n",
      "time = 0.14 mins mins\n",
      "epoch 208 | average train loss = 0.00025 and average validation loss = 0.00040 | learning rate = 0.01000\n"
     ]
    },
    {
     "name": "stderr",
     "output_type": "stream",
     "text": [
      " 72%|███████▏  | 216/300 [00:07<00:03, 25.68it/s]"
     ]
    },
    {
     "name": "stdout",
     "output_type": "stream",
     "text": [
      "time = 0.14 mins mins\n",
      "epoch 210 | average train loss = 0.00024 and average validation loss = 0.00048 | learning rate = 0.01000\n",
      "time = 0.14 mins mins\n",
      "epoch 212 | average train loss = 0.00025 and average validation loss = 0.00047 | learning rate = 0.01000\n",
      "time = 0.15 mins mins\n",
      "epoch 214 | average train loss = 0.00025 and average validation loss = 0.00044 | learning rate = 0.01000\n"
     ]
    },
    {
     "name": "stderr",
     "output_type": "stream",
     "text": [
      " 74%|███████▍  | 222/300 [00:07<00:02, 26.34it/s]"
     ]
    },
    {
     "name": "stdout",
     "output_type": "stream",
     "text": [
      "time = 0.15 mins mins\n",
      "epoch 216 | average train loss = 0.00025 and average validation loss = 0.00045 | learning rate = 0.01000\n",
      "time = 0.15 mins mins\n",
      "epoch 218 | average train loss = 0.00025 and average validation loss = 0.00042 | learning rate = 0.01000\n",
      "time = 0.15 mins mins\n",
      "epoch 220 | average train loss = 0.00024 and average validation loss = 0.00039 | learning rate = 0.01000\n"
     ]
    },
    {
     "name": "stderr",
     "output_type": "stream",
     "text": [
      " 76%|███████▌  | 228/300 [00:07<00:02, 25.65it/s]"
     ]
    },
    {
     "name": "stdout",
     "output_type": "stream",
     "text": [
      "time = 0.15 mins mins\n",
      "epoch 222 | average train loss = 0.00025 and average validation loss = 0.00044 | learning rate = 0.01000\n",
      "time = 0.15 mins mins\n",
      "epoch 224 | average train loss = 0.00025 and average validation loss = 0.00040 | learning rate = 0.01000\n",
      "time = 0.15 mins mins\n",
      "epoch 226 | average train loss = 0.00027 and average validation loss = 0.00040 | learning rate = 0.01000\n"
     ]
    },
    {
     "name": "stderr",
     "output_type": "stream",
     "text": [
      " 78%|███████▊  | 234/300 [00:07<00:02, 25.02it/s]"
     ]
    },
    {
     "name": "stdout",
     "output_type": "stream",
     "text": [
      "time = 0.15 mins mins\n",
      "epoch 228 | average train loss = 0.00026 and average validation loss = 0.00038 | learning rate = 0.01000\n",
      "time = 0.16 mins mins\n",
      "epoch 230 | average train loss = 0.00030 and average validation loss = 0.00044 | learning rate = 0.01000\n",
      "time = 0.16 mins mins\n",
      "epoch 232 | average train loss = 0.00026 and average validation loss = 0.00050 | learning rate = 0.01000\n"
     ]
    },
    {
     "name": "stderr",
     "output_type": "stream",
     "text": [
      " 79%|███████▉  | 237/300 [00:07<00:02, 24.48it/s]"
     ]
    },
    {
     "name": "stdout",
     "output_type": "stream",
     "text": [
      "time = 0.16 mins mins\n",
      "epoch 234 | average train loss = 0.00026 and average validation loss = 0.00043 | learning rate = 0.01000\n",
      "time = 0.16 mins mins\n",
      "epoch 236 | average train loss = 0.00026 and average validation loss = 0.00036 | learning rate = 0.01000\n",
      "time = 0.16 mins mins\n",
      "epoch 238 | average train loss = 0.00026 and average validation loss = 0.00041 | learning rate = 0.01000\n"
     ]
    },
    {
     "name": "stderr",
     "output_type": "stream",
     "text": [
      " 81%|████████  | 243/300 [00:08<00:02, 24.60it/s]"
     ]
    },
    {
     "name": "stdout",
     "output_type": "stream",
     "text": [
      "time = 0.16 mins mins\n",
      "epoch 240 | average train loss = 0.00027 and average validation loss = 0.00041 | learning rate = 0.01000\n",
      "time = 0.16 mins mins\n",
      "epoch 242 | average train loss = 0.00027 and average validation loss = 0.00040 | learning rate = 0.01000\n",
      "time = 0.16 mins mins\n",
      "epoch 244 | average train loss = 0.00025 and average validation loss = 0.00039 | learning rate = 0.01000\n"
     ]
    },
    {
     "name": "stderr",
     "output_type": "stream",
     "text": [
      " 84%|████████▍ | 252/300 [00:08<00:01, 24.74it/s]"
     ]
    },
    {
     "name": "stdout",
     "output_type": "stream",
     "text": [
      "time = 0.17 mins mins\n",
      "epoch 246 | average train loss = 0.00025 and average validation loss = 0.00038 | learning rate = 0.01000\n",
      "time = 0.17 mins mins\n",
      "epoch 248 | average train loss = 0.00025 and average validation loss = 0.00039 | learning rate = 0.01000\n",
      "time = 0.17 mins mins\n",
      "epoch 250 | average train loss = 0.00025 and average validation loss = 0.00038 | learning rate = 0.01000\n"
     ]
    },
    {
     "name": "stderr",
     "output_type": "stream",
     "text": [
      " 85%|████████▌ | 255/300 [00:08<00:01, 25.09it/s]"
     ]
    },
    {
     "name": "stdout",
     "output_type": "stream",
     "text": [
      "time = 0.17 mins mins\n",
      "epoch 252 | average train loss = 0.00025 and average validation loss = 0.00048 | learning rate = 0.01000\n",
      "time = 0.17 mins mins\n",
      "epoch 254 | average train loss = 0.00025 and average validation loss = 0.00037 | learning rate = 0.01000\n",
      "time = 0.17 mins mins\n",
      "epoch 256 | average train loss = 0.00025 and average validation loss = 0.00040 | learning rate = 0.01000\n"
     ]
    },
    {
     "name": "stderr",
     "output_type": "stream",
     "text": [
      " 88%|████████▊ | 264/300 [00:08<00:01, 25.19it/s]"
     ]
    },
    {
     "name": "stdout",
     "output_type": "stream",
     "text": [
      "time = 0.17 mins mins\n",
      "epoch 258 | average train loss = 0.00024 and average validation loss = 0.00038 | learning rate = 0.01000\n",
      "time = 0.17 mins mins\n",
      "epoch 260 | average train loss = 0.00024 and average validation loss = 0.00044 | learning rate = 0.01000\n",
      "time = 0.18 mins mins\n",
      "epoch 262 | average train loss = 0.00025 and average validation loss = 0.00040 | learning rate = 0.01000\n"
     ]
    },
    {
     "name": "stderr",
     "output_type": "stream",
     "text": [
      " 90%|█████████ | 270/300 [00:09<00:01, 25.07it/s]"
     ]
    },
    {
     "name": "stdout",
     "output_type": "stream",
     "text": [
      "time = 0.18 mins mins\n",
      "epoch 264 | average train loss = 0.00024 and average validation loss = 0.00046 | learning rate = 0.01000\n",
      "time = 0.18 mins mins\n",
      "epoch 266 | average train loss = 0.00025 and average validation loss = 0.00042 | learning rate = 0.01000\n",
      "time = 0.18 mins mins\n",
      "epoch 268 | average train loss = 0.00025 and average validation loss = 0.00039 | learning rate = 0.01000\n"
     ]
    },
    {
     "name": "stderr",
     "output_type": "stream",
     "text": [
      " 92%|█████████▏| 276/300 [00:09<00:00, 24.82it/s]"
     ]
    },
    {
     "name": "stdout",
     "output_type": "stream",
     "text": [
      "time = 0.18 mins mins\n",
      "epoch 270 | average train loss = 0.00025 and average validation loss = 0.00042 | learning rate = 0.01000\n",
      "time = 0.18 mins mins\n",
      "epoch 272 | average train loss = 0.00025 and average validation loss = 0.00043 | learning rate = 0.01000\n",
      "time = 0.18 mins mins\n",
      "epoch 274 | average train loss = 0.00024 and average validation loss = 0.00038 | learning rate = 0.01000\n"
     ]
    },
    {
     "name": "stderr",
     "output_type": "stream",
     "text": [
      " 94%|█████████▍| 282/300 [00:09<00:00, 25.82it/s]"
     ]
    },
    {
     "name": "stdout",
     "output_type": "stream",
     "text": [
      "time = 0.18 mins mins\n",
      "epoch 276 | average train loss = 0.00024 and average validation loss = 0.00038 | learning rate = 0.01000\n",
      "time = 0.19 mins mins\n",
      "epoch 278 | average train loss = 0.00024 and average validation loss = 0.00041 | learning rate = 0.01000\n",
      "time = 0.19 mins mins\n",
      "epoch 280 | average train loss = 0.00025 and average validation loss = 0.00036 | learning rate = 0.01000\n"
     ]
    },
    {
     "name": "stderr",
     "output_type": "stream",
     "text": [
      " 96%|█████████▌| 288/300 [00:09<00:00, 26.49it/s]"
     ]
    },
    {
     "name": "stdout",
     "output_type": "stream",
     "text": [
      "time = 0.19 mins mins\n",
      "epoch 282 | average train loss = 0.00025 and average validation loss = 0.00045 | learning rate = 0.01000\n",
      "time = 0.19 mins mins\n",
      "epoch 284 | average train loss = 0.00025 and average validation loss = 0.00041 | learning rate = 0.01000\n",
      "time = 0.19 mins mins\n",
      "epoch 286 | average train loss = 0.00024 and average validation loss = 0.00042 | learning rate = 0.01000\n"
     ]
    },
    {
     "name": "stderr",
     "output_type": "stream",
     "text": [
      " 98%|█████████▊| 294/300 [00:10<00:00, 26.74it/s]"
     ]
    },
    {
     "name": "stdout",
     "output_type": "stream",
     "text": [
      "time = 0.19 mins mins\n",
      "epoch 288 | average train loss = 0.00024 and average validation loss = 0.00043 | learning rate = 0.01000\n",
      "time = 0.19 mins mins\n",
      "epoch 290 | average train loss = 0.00024 and average validation loss = 0.00042 | learning rate = 0.01000\n",
      "time = 0.19 mins mins\n",
      "epoch 292 | average train loss = 0.00025 and average validation loss = 0.00036 | learning rate = 0.01000\n"
     ]
    },
    {
     "name": "stderr",
     "output_type": "stream",
     "text": [
      "100%|██████████| 300/300 [00:10<00:00, 28.98it/s]"
     ]
    },
    {
     "name": "stdout",
     "output_type": "stream",
     "text": [
      "time = 0.19 mins mins\n",
      "epoch 294 | average train loss = 0.00024 and average validation loss = 0.00043 | learning rate = 0.01000\n",
      "time = 0.20 mins mins\n",
      "epoch 296 | average train loss = 0.00025 and average validation loss = 0.00038 | learning rate = 0.01000\n",
      "time = 0.20 mins mins\n",
      "epoch 298 | average train loss = 0.00024 and average validation loss = 0.00039 | learning rate = 0.01000\n"
     ]
    },
    {
     "name": "stderr",
     "output_type": "stream",
     "text": [
      "\n"
     ]
    }
   ],
   "source": [
    "trainer.train_val(train_loader, val_loader, optimizer, MSELoss(), #RSE_loss,\n",
    "                  scheduler, num_epochs, write_every=2, train_graphnet=False)"
   ]
  },
  {
   "cell_type": "code",
   "execution_count": null,
   "metadata": {},
   "outputs": [
    {
     "data": {
      "image/png": "[encoded data removed]",
      "text/plain": [
       "<Figure size 640x480 with 1 Axes>"
      ]
     },
     "metadata": {},
     "output_type": "display_data"
    }
   ],
   "source": [
    "df_train = pd.read_csv('./metrics/' + model_name + '/train_metrics.csv')\n",
    "df_val = pd.read_csv('./metrics/' + model_name + '/val_metrics.csv')\n",
    "plt.plot(df_train['epoch'], df_train['loss'])\n",
    "plt.plot(df_val['epoch'], df_val['loss'])\n",
    "plt.show()"
   ]
  },
  {
   "cell_type": "code",
   "execution_count": null,
   "metadata": {},
   "outputs": [],
   "source": []
  }
 ],
 "metadata": {
  "kernelspec": {
   "display_name": "xasnet",
   "language": "python",
   "name": "python3"
  },
  "language_info": {
   "codemirror_mode": {
    "name": "ipython",
    "version": 3
   },
   "file_extension": ".py",
   "mimetype": "text/x-python",
   "name": "python",
   "nbconvert_exporter": "python",
   "pygments_lexer": "ipython3",
   "version": "3.11.9"
  }
 },
 "nbformat": 4,
 "nbformat_minor": 4
}
